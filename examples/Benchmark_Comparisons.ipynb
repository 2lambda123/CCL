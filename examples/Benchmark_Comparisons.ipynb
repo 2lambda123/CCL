{
 "cells": [
  {
   "cell_type": "markdown",
   "metadata": {},
   "source": [
    "# Compare CCL against benchmarks\n",
    "This notebook performs comparisons of CCL against our benchmarks for different cosmological quantities. These plots are presented in the CCL paper. Benchmarks are documented in the CCL wiki: https://github.com/LSSTDESC/CCL/wiki/Benchmarks"
   ]
  },
  {
   "cell_type": "code",
   "execution_count": 1,
   "metadata": {
    "collapsed": true
   },
   "outputs": [],
   "source": [
    "import numpy as np\n",
    "import pylab as plt\n",
    "import pyccl as ccl\n",
    "%matplotlib inline"
   ]
  },
  {
   "cell_type": "markdown",
   "metadata": {},
   "source": [
    "### Set up the benchmark cosmologies \n",
    "`Cosmology` objects contain the parameters and metadata needed as inputs to most functions. Each `Cosmology` object has a set of cosmological parameters attached to it. In this example, we will only use the parameters of a vanilla LCDM model, but simple extensions (like curvature, neutrino mass, and w0/wa) are also supported.\n",
    "\n",
    "`Cosmology` objects also contain precomputed data (e.g. splines) to help speed-up certain calculations. As such, `Cosmology` objects are supposed to be immutable; you should create a new `Cosmology` object when you want to change the values of any cosmological parameters.\n",
    "\n",
    "The cosmologies we are setting up at this stage are documented in the CCL paper, Table 2. With the following plots, we verify the level of accuracy stated in Table 3."
   ]
  },
  {
   "cell_type": "code",
   "execution_count": 15,
   "metadata": {
    "collapsed": false
   },
   "outputs": [
    {
     "name": "stdout",
     "output_type": "stream",
     "text": [
      "Checking parameter tolerances\n",
      "('h difference: ', 0.0)\n",
      "('Omega_l difference: ', -6.752669171894432e-05)\n",
      "('Omega_k difference: ', 0.0)\n",
      "('Omega_b difference: ', 0.0)\n",
      "('Omega_c difference: ', 0.0)\n",
      "('Omega_nrel difference: ', 3.046)\n",
      "('N_nu_mass difference: ', 0.0)\n",
      "('As difference: ', 0.0)\n",
      "('ns difference: ', 0.0)\n",
      "('Sigma8 difference: ', -0.8)\n",
      "---------\n",
      "('Pure Omega_l from CCL: ', 0.699932473308281)\n",
      "('Pure Omega_g from CCL: ', 5.04319404656203e-05)\n",
      "('Pure Omega_n_rel from CCL: ', 1.7094751253346745e-05)\n",
      "('Combined: Omega_l + Omega_g + Omega_n_rel: ', 0.7)\n",
      "0.0\n"
     ]
    }
   ],
   "source": [
    "# Default parames from ccl_test_cosmology.c\n",
    "\n",
    "Omega_c = 0.25\n",
    "Omega_b = 0.05\n",
    "Omega_k = 0.00\n",
    "h = 0.7\n",
    "A_s = 2.1e-9\n",
    "n_s = 0.96\n",
    "wa = 0.01\n",
    "w0 = -1.0\n",
    "Neff=3.046\n",
    "sigma8=0.8\n",
    "Omega_l =0.7\n",
    "# Insert default CCL cosmology\n",
    "ccl_cosmology = ccl.Cosmology(Omega_c=Omega_c,Omega_b=Omega_b,\n",
    "                              Omega_k=Omega_k,h=h,A_s = A_s,n_s=n_s,Neff=Neff)\n",
    "\n",
    "print('Checking parameter tolerances')\n",
    "print('h difference: ', ccl_cosmology.params.parameters.h -h )\n",
    "print('Omega_l difference: ', ccl_cosmology.params.parameters.Omega_l - Omega_l)\n",
    "print('Omega_k difference: ', ccl_cosmology.params.parameters.Omega_k - Omega_k)\n",
    "print('Omega_b difference: ', ccl_cosmology.params.parameters.Omega_b - Omega_b)\n",
    "print('Omega_c difference: ', ccl_cosmology.params.parameters.Omega_c - Omega_c)\n",
    "print('Omega_nrel difference: ', ccl_cosmology.params.parameters.N_nu_rel - N_nu_rel)\n",
    "print('N_nu_mass difference: ', ccl_cosmology.params.parameters.N_nu_mass - N_nu_mass)\n",
    "print('As difference: ', ccl_cosmology.params.parameters.A_s - A_s)\n",
    "print('ns difference: ', ccl_cosmology.params.parameters.n_s - n_s)\n",
    "print('Sigma8 difference: ', ccl_cosmology.cosmo.computed_sigma - sigma8)\n",
    "# Printing out the strange things:\n",
    "print('---------')\n",
    "\n",
    "print(\"Pure Omega_l from CCL: \", ccl_cosmology.params.parameters.Omega_l)\n",
    "print(\"Pure Omega_g from CCL: \", ccl_cosmology.params.parameters.Omega_g)\n",
    "print(\"Pure Omega_n_rel from CCL: \", ccl_cosmology.params.parameters.Omega_n_rel)\n",
    "print(\"Combined: Omega_l + Omega_g + Omega_n_rel: \", ccl_cosmology.params.parameters.Omega_l\n",
    "                                         + ccl_cosmology.params.parameters.Omega_g \n",
    "                                         + ccl_cosmology.params.parameters.Omega_n_rel)\n",
    "ccl_cosmology.params.parameters.Omega_g =0.\n",
    "print ccl_cosmology.params.parameters.Omega_g "
   ]
  },
  {
   "cell_type": "markdown",
   "metadata": {},
   "source": [
    "### The key thing that needs to be changed with the cosmology is that Omega_l should be redefined inside the CCL cosmology to be the same as in CCL/src/ccl_core.c (see the note above). For now we are proceeding to make the plots, but this is the main flag."
   ]
  },
  {
   "cell_type": "code",
   "execution_count": 32,
   "metadata": {
    "collapsed": false
   },
   "outputs": [
    {
     "name": "stdout",
     "output_type": "stream",
     "text": [
      "Parameters\n",
      "----------\n",
      "        Omega_c: 0.25\n",
      "        Omega_b: 0.05\n",
      "        Omega_m: 0.3\n",
      "        Omega_k: 0.0\n",
      "        Omega_l: 0.7\n",
      "             w0: -1.0\n",
      "             wa: 0.0\n",
      "             H0: 70.0\n",
      "              h: 0.7\n",
      "            A_s: 2.1e-09\n",
      "            n_s: 0.96\n",
      "    bcm_log10Mc: 14.079181246\n",
      "       bcm_etab: 0.5\n",
      "         bcm_ks: 55.0\n",
      "           Neff: 0.0\n",
      "            mnu: <Swig Object of type 'double *' at 0x108fc6090>\n",
      "   Omega_n_mass: 0.0\n",
      "    Omega_n_rel: 0.0\n",
      "          T_CMB: 2.725\n",
      "        Omega_g: 0.0\n",
      "         z_star: nan\n",
      "    has_mgrowth: False\n",
      "\n",
      "Precomputed data\n",
      "----------------\n",
      "  has_distances: False\n",
      "     has_growth: False\n",
      "      has_power: False\n",
      "      has_sigma: False\n",
      "\n",
      "Status\n",
      "------\n",
      "status(0): \n"
     ]
    }
   ],
   "source": [
    "cosmo_ccl1 = ccl.Cosmology(Omega_c=0.25, Omega_b=0.05, h=0.7, A_s = 2.1e-9, n_s=0.96, Neff=0)\n",
    "cosmo_ccl2 = ccl.Cosmology(Omega_c=0.25, Omega_b=0.05, h=0.7, A_s = 2.1e-9, n_s=0.96, w0=-0.9, Neff=0)\n",
    "cosmo_ccl3 = ccl.Cosmology(Omega_c=0.25, Omega_b=0.05, h=0.7, A_s = 2.1e-9, n_s=0.96, w0=-0.9, wa=0.1, Neff=0)\n",
    "cosmo_ccl4 = ccl.Cosmology(Omega_c=0.25, Omega_b=0.05, Omega_k=0.05, h=0.7, A_s = 2.1e-9, n_s=0.96, w0=-0.9, wa=0.1, Neff=0)\n",
    "cosmo_ccl5 = ccl.Cosmology(Omega_c=0.25, Omega_b=0.05, Omega_k=-0.05, h=0.7, A_s = 2.1e-9, n_s=0.96, w0=-0.9, wa=0.1, Neff=0)\n",
    "cosmo_ccl6 = ccl.Cosmology(Omega_c=0.3, Omega_b=0.0, h=0.7, A_s = 2.1e-9, n_s=0.96, Neff=0)\n",
    "#Ensure Omega_g and Omega_l have the right values, overwriting fiducials from ccl.Cosmology:\n",
    "cosmo_ccl1.params.parameters.Omega_g =0.\n",
    "cosmo_ccl2.params.parameters.Omega_g =0.\n",
    "cosmo_ccl3.params.parameters.Omega_g =0.\n",
    "cosmo_ccl4.params.parameters.Omega_g =0.\n",
    "cosmo_ccl5.params.parameters.Omega_g =0.\n",
    "cosmo_ccl6.params.parameters.Omega_g =0.\n",
    "cosmo_ccl1.params.parameters.Omega_l =0.7\n",
    "cosmo_ccl2.params.parameters.Omega_l =0.7\n",
    "cosmo_ccl3.params.parameters.Omega_l =0.7\n",
    "cosmo_ccl4.params.parameters.Omega_l =0.65\n",
    "cosmo_ccl5.params.parameters.Omega_l =0.75\n",
    "cosmo_ccl6.params.parameters.Omega_l =0.7\n",
    "print cosmo_ccl1\n",
    "cosmo_list=[cosmo_ccl1,cosmo_ccl2,cosmo_ccl3,cosmo_ccl4,cosmo_ccl5,cosmo_ccl6]\n",
    "num_models=5\n",
    "cosmo_list_hiz=[cosmo_ccl1,cosmo_ccl2,cosmo_ccl3]\n",
    "num_models_hiz =3"
   ]
  },
  {
   "cell_type": "code",
   "execution_count": 33,
   "metadata": {
    "collapsed": true
   },
   "outputs": [],
   "source": [
    "cosmo_ccl1 = ccl.Cosmology"
   ]
  },
  {
   "cell_type": "markdown",
   "metadata": {
    "collapsed": true
   },
   "source": [
    "### Cosmological Distances\n",
    "\n",
    "With the cosmologies set up, we will not compute comoving radial distances and compare them to our input benchmark files. First, let's load the benchmark file. The format is: (z,d1,d2,d3,d4,d5) where z is the redshift, d are distances and 1-5 refers to the cosmologies set up above. The units are Mpc/h."
   ]
  },
  {
   "cell_type": "code",
   "execution_count": 34,
   "metadata": {
    "collapsed": true
   },
   "outputs": [],
   "source": [
    "bench=np.loadtxt('../tests/benchmark/chi_model1-5.txt')\n",
    "z=bench[1:,0]\n",
    "d_bench=bench[1:,1:]\n",
    "scale_fact=1./(1+z)"
   ]
  },
  {
   "cell_type": "markdown",
   "metadata": {},
   "source": [
    "Now let's calculate CCL predictions to compare against the benchmark. Notice CCL returns quantities in units of Mpc."
   ]
  },
  {
   "cell_type": "code",
   "execution_count": 35,
   "metadata": {
    "collapsed": true
   },
   "outputs": [],
   "source": [
    "d_ccl = np.zeros((len(z),num_models))\n",
    "for i in range(num_models):\n",
    "    d_ccl[:,i]=ccl.comoving_radial_distance(cosmo_list[i],scale_fact)*(cosmo_list[i])['h']"
   ]
  },
  {
   "cell_type": "markdown",
   "metadata": {},
   "source": [
    "And we will now make a plot comparing the two quantities."
   ]
  },
  {
   "cell_type": "code",
   "execution_count": 37,
   "metadata": {
    "collapsed": false
   },
   "outputs": [
    {
     "name": "stdout",
     "output_type": "stream",
     "text": [
      "[2312.55491682 3625.55154391 4448.40279597 5018.4709902  5441.78239044]\n",
      "[2265.57546262 3551.70071238 4364.72886214 4930.68662386 5352.02373821]\n",
      "[2256.77111476 3532.69374087 4340.48239648 4903.76371136 5323.62686266]\n",
      "[2229.40950562 3479.58745307 4272.59272325 4827.06361474 5241.29071069]\n",
      "[2285.42084771 3588.74735953 4412.18002998 4984.70653942 5410.44269596]\n"
     ]
    },
    {
     "data": {
      "image/png": "[encoded data removed]",
      "text/plain": [
       "<matplotlib.figure.Figure at 0x108f0dad0>"
      ]
     },
     "metadata": {},
     "output_type": "display_data"
    },
    {
     "data": {
      "text/plain": [
       "<matplotlib.figure.Figure at 0x109e45850>"
      ]
     },
     "metadata": {},
     "output_type": "display_data"
    }
   ],
   "source": [
    "plt.figure()\n",
    "plt.ylabel(r'$|\\Delta\\chi|/\\chi$',fontsize=24)\n",
    "plt.xlabel('Redshift',fontsize=22)\n",
    "plt.xticks(fontsize=18)\n",
    "plt.yticks(fontsize=18)\n",
    "for i in range(0,5):\n",
    "    print(d_ccl[:,i])\n",
    "    plt.plot(z,np.abs(d_bench[:,i]/d_ccl[:,i]-1),'k-',lw=i*0.25+0.5)\n",
    "    plt.plot(z, 1e-4*z/z, linestyle='--', color='r')\n",
    "plt.show()\n",
    "plt.clf()\n",
    "\n",
    "#Current issue: CCL distances via python differ from\n",
    "#distances via ccl_test_distances.c\n",
    "#For model 1, those are: \n",
    "#2.312680e+03\n",
    "#3.625903e+03\n",
    "#4.448980e+03\n",
    "#5.019256e+03\n",
    "#5.442760e+03"
   ]
  },
  {
   "cell_type": "markdown",
   "metadata": {},
   "source": [
    "### Cosmological distances (high z)"
   ]
  },
  {
   "cell_type": "code",
   "execution_count": null,
   "metadata": {
    "collapsed": true
   },
   "outputs": [],
   "source": [
    "bench=np.loadtxt('../tests/benchmark/chi_hiz_model1-3.txt')\n",
    "z=bench[1:,0]\n",
    "d_hiz_bench=bench[1:,1:]\n",
    "scale_fact=1./(1+z)\n",
    "d_hiz_ccl = np.zeros((len(z),num_models_hiz))\n",
    "\n",
    "for i in range(num_models_hiz):\n",
    "    d_hiz_ccl[:,i]=ccl.comoving_radial_distance(cosmo_list_hiz[i],scale_fact)*(cosmo_list[i])['h']"
   ]
  },
  {
   "cell_type": "code",
   "execution_count": null,
   "metadata": {
    "collapsed": false
   },
   "outputs": [],
   "source": [
    "plt.figure()\n",
    "plt.ylabel(r'$|\\Delta\\chi|/\\chi$',fontsize=24)\n",
    "plt.xlabel('Redshift',fontsize=22)\n",
    "plt.xticks(fontsize=18)\n",
    "plt.yticks(fontsize=18)\n",
    "for i in range(0,num_models_hiz):\n",
    "    plt.plot(z,np.abs(d_hiz_bench[:,i]/d_hiz_ccl[:,i]-1),'k-',lw=i*0.25+0.5)\n",
    "    plt.plot(z, 1e-4*z/z, linestyle='--', color='r')\n",
    "plt.show()\n",
    "plt.clf()"
   ]
  },
  {
   "cell_type": "markdown",
   "metadata": {},
   "source": [
    "### To-do: ensure all plots match the level of accuracy of Table 3.\n",
    "\n",
    "### To-do: repeat the same exercise above test by test for all entries in Table 3. This can be done looking at the .c files in tests/"
   ]
  },
  {
   "cell_type": "code",
   "execution_count": null,
   "metadata": {
    "collapsed": true
   },
   "outputs": [],
   "source": []
  },
  {
   "cell_type": "markdown",
   "metadata": {},
   "source": [
    "### Growth function (low z)"
   ]
  },
  {
   "cell_type": "code",
   "execution_count": null,
   "metadata": {
    "collapsed": true
   },
   "outputs": [],
   "source": [
    "bench=np.loadtxt('../tests/benchmark/growth_model1-5.txt')\n",
    "z=bench[0:,0]\n",
    "g_bench=bench[0:,1:]\n",
    "scale_fact=1./(1+z)\n",
    "g_ccl = np.zeros((len(z),num_models))\n",
    "for i in range(0,num_models):\n",
    "    g_ccl[:,i]=ccl.growth_factor(cosmo_list[i],scale_fact)\n"
   ]
  },
  {
   "cell_type": "code",
   "execution_count": null,
   "metadata": {
    "collapsed": false
   },
   "outputs": [],
   "source": [
    "plt.figure()\n",
    "plt.ylabel(r'$|\\Delta G|/G$',fontsize=24)\n",
    "plt.xlabel('Redshift',fontsize=22)\n",
    "plt.xticks(fontsize=18)\n",
    "plt.yticks(fontsize=18)\n",
    "for i in range(0,5):\n",
    "    plt.plot(z,np.abs(g_bench[:,i]/g_ccl[:,i]-1),'k-',lw=i*0.25+0.5)\n",
    "    plt.plot(z, 1e-4*z/z, linestyle='--', color='r')\n",
    "plt.show()\n",
    "plt.clf()"
   ]
  },
  {
   "cell_type": "markdown",
   "metadata": {},
   "source": [
    "### Growth function (high z)"
   ]
  },
  {
   "cell_type": "code",
   "execution_count": null,
   "metadata": {
    "collapsed": true
   },
   "outputs": [],
   "source": [
    "\n",
    "bench=np.loadtxt('../tests/benchmark/growth_hiz_model1-3.txt')\n",
    "z=bench[0:,0]\n",
    "num_z = np.shape(bench)[0]\n",
    "g_hiz_bench=bench[0:,1:]\n",
    "scale_fact=1./(1+z)"
   ]
  },
  {
   "cell_type": "code",
   "execution_count": null,
   "metadata": {
    "collapsed": true
   },
   "outputs": [],
   "source": [
    "g_hiz_ccl = np.zeros((num_z, num_models_hiz))\n",
    "for i in range(num_models_hiz):\n",
    "    g_hiz_ccl[:,i]=ccl.growth_factor(cosmo_list_hiz[i],scale_fact)"
   ]
  },
  {
   "cell_type": "code",
   "execution_count": null,
   "metadata": {
    "collapsed": false
   },
   "outputs": [],
   "source": [
    "plt.figure()\n",
    "plt.ylabel(r'$|\\Delta G|/G$',fontsize=24)\n",
    "plt.xlabel('Redshift',fontsize=22)\n",
    "plt.xticks(fontsize=18)\n",
    "plt.yticks(fontsize=18)\n",
    "for i in range(num_models_hiz):\n",
    "    plt.plot(z,np.abs(g_hiz_bench[:,i]/g_hiz_ccl[:,i]-1),'k-',lw=i*0.25+0.5)\n",
    "    plt.plot(z, 1e-4*z/z, linestyle='--', color='r')\n",
    "plt.show()\n",
    "plt.clf()"
   ]
  },
  {
   "cell_type": "markdown",
   "metadata": {},
   "source": [
    "### Testing Mass function"
   ]
  },
  {
   "cell_type": "code",
   "execution_count": null,
   "metadata": {
    "collapsed": false
   },
   "outputs": [],
   "source": [
    "bench=np.loadtxt('../tests/benchmark/model1_hmf.txt')\n",
    "z = bench[0:,0]\n",
    "sigma = bench[0:,1]\n",
    "invsigma = bench[0:,2]\n",
    "massfunc = bench[0:,3]\n",
    "\n",
    "mass = 1e10\n",
    "\n",
    "plt.plot(z, np.abs(ccl.sigmaM(cosmo_ccl1,mass,scale_fact)/sigma-1))\n",
    "         \n",
    "#double absolute_tolerance = SIGMA_TOLERANCE*data->massfunc[0][j];\n",
    "#    if (fabs(absolute_tolerance)<1e-12) absolute_tolerance = 1e-12;\n",
    "#    ASSERT_DBL_NEAR_TOL(data->massfunc[0][j], sigma_j, absolute_tolerance);\n",
    "\n",
    "#    absolute_tolerance = INVSIGMA_TOLERANCE*fabs(data->massfunc[1][j]);\n",
    "#    if (fabs(absolute_tolerance)<1e-12) absolute_tolerance = 1e-12;\n",
    "#    ASSERT_DBL_NEAR_TOL(fabs(data->massfunc[1][j]), fabs(loginvsigma_j), absolute_tolerance);\n",
    "\n",
    "#    absolute_tolerance = MASSFUNC_TOLERANCE*fabs(data->massfunc[2][j]);#\n",
    "#    if (fabs(absolute_tolerance)<1e-12) absolute_tolerance = 1e-12;\n",
    "#    ASSERT_DBL_NEAR_TOL(fabs(data->massfunc[2][j]), fabs(logmassfunc_j), absolute_tolerance);\n"
   ]
  },
  {
   "cell_type": "code",
   "execution_count": null,
   "metadata": {
    "collapsed": true
   },
   "outputs": [],
   "source": [
    "ccl.sigmaM?\n"
   ]
  },
  {
   "cell_type": "code",
   "execution_count": null,
   "metadata": {
    "collapsed": true
   },
   "outputs": [],
   "source": []
  }
 ],
 "metadata": {
  "kernelspec": {
   "display_name": "Python 2",
   "language": "python",
   "name": "python2"
  },
  "language_info": {
   "codemirror_mode": {
    "name": "ipython",
    "version": 2
   },
   "file_extension": ".py",
   "mimetype": "text/x-python",
   "name": "python",
   "nbconvert_exporter": "python",
   "pygments_lexer": "ipython2",
   "version": "2.7.12"
  }
 },
 "nbformat": 4,
 "nbformat_minor": 2
}
