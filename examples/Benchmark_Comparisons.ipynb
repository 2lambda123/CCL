{
 "cells": [
  {
   "cell_type": "markdown",
   "metadata": {},
   "source": [
    "# Compare CCL against benchmarks\n",
    "This notebook performs comparisons of CCL against our benchmarks for different cosmological quantities. These plots are presented in the CCL paper. Benchmarks are documented in the CCL wiki: https://github.com/LSSTDESC/CCL/wiki/Benchmarks"
   ]
  },
  {
   "cell_type": "code",
   "execution_count": 1,
   "metadata": {
    "collapsed": true
   },
   "outputs": [],
   "source": [
    "import numpy as np\n",
    "import pylab as plt\n",
    "import pyccl as ccl\n",
    "from scipy.interpolate import interp1d\n",
    "\n",
    "import matplotlib\n",
    "\n",
    "%matplotlib inline"
   ]
  },
  {
   "cell_type": "markdown",
   "metadata": {},
   "source": [
    "Set up font sizes, etc."
   ]
  },
  {
   "cell_type": "code",
   "execution_count": 2,
   "metadata": {
    "collapsed": true
   },
   "outputs": [],
   "source": [
    "font_config = {\"size\" : 10,\n",
    "               \"family\" : \"serif\"}\n",
    "\n",
    "matplotlib.rc(\"font\", **font_config)\n",
    "matplotlib.rc(\"text\", usetex=True)\n",
    "# Move title to make space for exponents of y axis\n",
    "matplotlib.rc(\"axes\", titlepad=5) \n",
    "matplotlib.rc(\"axes\", titlesize=\"medium\") \n",
    "\n",
    "# Make the figures bigger in the notebook\n",
    "matplotlib.rc(\"figure\", dpi=150)\n",
    "\n",
    "color_map = plt.get_cmap(\"tab10\")\n",
    "\n",
    "paper_textwidth = 7.125\n",
    "fig_size = (paper_textwidth/2, 2.6)\n",
    "\n",
    "plot_adjust = dict(left=0.2, top=0.9, bottom=0.2)"
   ]
  },
  {
   "cell_type": "markdown",
   "metadata": {},
   "source": [
    "## Benchmark cosmologies \n",
    "`Cosmology` objects contain the parameters and metadata needed as inputs to most functions. Each `Cosmology` object has a set of cosmological parameters attached to it. In this example, we will only use the parameters of a vanilla LCDM model, but simple extensions (like curvature, neutrino mass, and w0/wa) are also supported.\n",
    "\n",
    "`Cosmology` objects also contain precomputed data (e.g. splines) to help speed-up certain calculations. As such, `Cosmology` objects are supposed to be immutable; you should create a new `Cosmology` object when you want to change the values of any cosmological parameters.\n",
    "\n",
    "The cosmologies we are setting up at this stage are documented in the CCL paper, Table 2. With the following plots, we verify the level of accuracy stated in Table 3."
   ]
  },
  {
   "cell_type": "code",
   "execution_count": 3,
   "metadata": {
    "collapsed": true
   },
   "outputs": [],
   "source": [
    "# Setting Omega_g = 0 turns off radiation and puts the rest in Omega_l\n",
    "# This matches the cosmologies in the paper.\n",
    "\n",
    "cosmo_ccl1 = ccl.Cosmology(\n",
    "    Omega_c=0.25, Omega_b=0.05, h=0.7, A_s=2.1e-9, n_s=0.96, Neff=0, Omega_g=0)\n",
    "\n",
    "cosmo_ccl2 = ccl.Cosmology(\n",
    "    Omega_c=0.25, Omega_b=0.05, h=0.7, A_s=2.1e-9, n_s=0.96, w0=-0.9, Neff=0, Omega_g=0)\n",
    "\n",
    "cosmo_ccl3 = ccl.Cosmology(\n",
    "    Omega_c=0.25, Omega_b=0.05, h=0.7, A_s = 2.1e-9, n_s=0.96, w0=-0.9, wa=0.1, Neff=0, Omega_g=0)\n",
    "\n",
    "cosmo_ccl4 = ccl.Cosmology(\n",
    "    Omega_c=0.25, Omega_b=0.05, Omega_k=0.05, h=0.7, A_s = 2.1e-9, n_s=0.96, \n",
    "    w0=-0.9, wa=0.1, Neff=0, Omega_g=0)\n",
    "\n",
    "cosmo_ccl5 = ccl.Cosmology(\n",
    "    Omega_c=0.25, Omega_b=0.05, Omega_k=-0.05, h=0.7, A_s = 2.1e-9, n_s=0.96, \n",
    "    w0=-0.9, wa=0.1, Neff=0, Omega_g=0)\n",
    "\n",
    "cosmo_ccl6 = ccl.Cosmology(\n",
    "    Omega_c=0.3, Omega_b=0.0, h=0.7, sigma8 = 0.8, n_s=0.96, Neff=0,\n",
    "    transfer_function='bbks', matter_power_spectrum='linear', Omega_g=0)\n",
    "\n",
    "cosmo_ccl7 = ccl.Cosmology(\n",
    "    Omega_c=0.3, Omega_b=0.0, h=0.7, sigma8 = 0.8, n_s=0.96, Neff=0,\n",
    "    transfer_function='bbks', matter_power_spectrum='linear')\n",
    "\n",
    "cosmo_list = [\n",
    "    cosmo_ccl1,\n",
    "    cosmo_ccl2,\n",
    "    cosmo_ccl3,\n",
    "    cosmo_ccl4,\n",
    "    cosmo_ccl5,\n",
    "    cosmo_ccl6,\n",
    "    cosmo_ccl7]\n",
    "\n",
    "num_models = 5\n",
    "num_models_hiz = 3"
   ]
  },
  {
   "cell_type": "markdown",
   "metadata": {},
   "source": [
    "## Redshift histograms\n",
    "One of the figures of the paper shows the redshift distributions of two redshift histograms used in the computation of different quantities for the validation of `CCL`. Here are those two redshift distributions:"
   ]
  },
  {
   "cell_type": "code",
   "execution_count": 4,
   "metadata": {
    "collapsed": false
   },
   "outputs": [
    {
     "data": {
      "image/png": "[encoded data removed]",
      "text/plain": [
       "<matplotlib.figure.Figure at 0x103c02490>"
      ]
     },
     "metadata": {},
     "output_type": "display_data"
    },
    {
     "data": {
      "text/plain": [
       "<matplotlib.figure.Figure at 0x1062bc290>"
      ]
     },
     "metadata": {},
     "output_type": "display_data"
    }
   ],
   "source": [
    "z = np.linspace(0, 2, 100)\n",
    "# Bin 1: Gaussian with sigma = 0.15, centered at z_1 = 1.0\n",
    "bin_analytic1 = np.exp(-0.5*(z-1.0)**2/0.15**2)\n",
    "bin_analytic1 /= np.trapz(bin_analytic1, z)\n",
    "# Bin 2: Gaussian with sigma =0.15 and centered at z_2 = 1.5\n",
    "bin_analytic2 = np.exp(-0.5*(z-1.5)**2/0.15**2)\n",
    "bin_analytic2 /= np.trapz(bin_analytic2, z)\n",
    "\n",
    "bin_histo1=np.loadtxt('../tests/benchmark/codecomp_step2_outputs/bin1_histo.txt')\n",
    "bin_histo2=np.loadtxt('../tests/benchmark/codecomp_step2_outputs/bin2_histo.txt')\n",
    "\n",
    "plt.figure(figsize=fig_size);\n",
    "plt.gcf().subplots_adjust(**plot_adjust)\n",
    "plt.ylabel(r'${\\rm d}N/{\\rm d}z$');\n",
    "plt.xlabel('Redshift');\n",
    "plt.plot(bin_histo1[:,0],bin_histo1[:,1], c=color_map(0), label=\"Histogram bin 1\")\n",
    "plt.plot(bin_histo2[:,0],bin_histo2[:,1], c=color_map(1), label=\"Histogram bin 2\")\n",
    "\n",
    "plt.plot(z, bin_analytic1, ls=\"--\", c=color_map(2), label=\"Analytic bin 1\")\n",
    "plt.plot(z, bin_analytic2, ls=\"--\", c=color_map(3), label=\"Analytic bin 2\")\n",
    "\n",
    "plt.ylim(-0.1, 3.5)\n",
    "\n",
    "plt.legend(frameon=False, fontsize=\"x-small\", ncol=2)\n",
    "\n",
    "plt.savefig('dNdz_codecomp.pdf');\n",
    "plt.show();\n",
    "plt.clf();"
   ]
  },
  {
   "cell_type": "markdown",
   "metadata": {},
   "source": [
    "## Background functions"
   ]
  },
  {
   "cell_type": "markdown",
   "metadata": {},
   "source": [
    "### Cosmological Distances\n",
    "\n",
    "With the cosmologies set up, we will not compute comoving radial distances and compare them to our input benchmark files. First, let's load the benchmark file. The format is: (z,d1,d2,d3,d4,d5) where z is the redshift, d are distances and 1-5 refers to the cosmologies set up above. The units are Mpc/h."
   ]
  },
  {
   "cell_type": "code",
   "execution_count": 5,
   "metadata": {
    "collapsed": true
   },
   "outputs": [],
   "source": [
    "bench=np.loadtxt('../tests/benchmark/chi_model1-5.txt')\n",
    "z=bench[1:,0]\n",
    "d_bench=bench[1:,1:]\n",
    "scale_fact=1./(1+z)"
   ]
  },
  {
   "cell_type": "markdown",
   "metadata": {},
   "source": [
    "Now let's calculate CCL predictions to compare against the benchmark. Notice CCL returns quantities in units of Mpc."
   ]
  },
  {
   "cell_type": "code",
   "execution_count": 6,
   "metadata": {
    "collapsed": true
   },
   "outputs": [],
   "source": [
    "def compute_ccl_bench_bg(cosmos,a_list,func,h_power=0) :\n",
    "    o_ccl=np.transpose(np.array([func(c,a_list)*pow(c['h'],h_power) for c in cosmos]))\n",
    "    return o_ccl\n",
    "d_ccl=compute_ccl_bench_bg(cosmo_list[:num_models],scale_fact,ccl.comoving_radial_distance,1.)"
   ]
  },
  {
   "cell_type": "markdown",
   "metadata": {},
   "source": [
    "And we will now make a plot comparing the two quantities."
   ]
  },
  {
   "cell_type": "code",
   "execution_count": 7,
   "metadata": {
    "collapsed": false
   },
   "outputs": [
    {
     "data": {
      "image/png": "[encoded data removed]",
      "text/plain": [
       "<matplotlib.figure.Figure at 0x110c09e90>"
      ]
     },
     "metadata": {},
     "output_type": "display_data"
    },
    {
     "data": {
      "text/plain": [
       "<matplotlib.figure.Figure at 0x103da7050>"
      ]
     },
     "metadata": {},
     "output_type": "display_data"
    }
   ],
   "source": [
    "def plot_ccl_bench_bg(f_bench,f_ccl,z_list,title,tol,figname) :\n",
    "    plt.figure();\n",
    "    plt.gcf().subplots_adjust(left=0.23)\n",
    "    plt.gcf().subplots_adjust(top=0.9)\n",
    "    plt.gcf().subplots_adjust(bottom=0.2)\n",
    "    plt.ylabel(title,fontsize=24);\n",
    "    plt.xlabel('Redshift',fontsize=22);\n",
    "    plt.xticks(fontsize=18);\n",
    "    plt.yticks(fontsize=18);\n",
    "    for i in range(len(f_bench[0])):\n",
    "        plt.plot(z_list,np.abs(f_bench[:,i]/f_ccl[:,i]-1)/tol,'k-',lw=i*0.5+0.5);\n",
    "    plt.savefig(figname+'.pdf');\n",
    "    plt.show();\n",
    "    plt.clf();\n",
    "plot_ccl_bench_bg(d_bench,d_ccl,z,r'$10^8\\times|\\Delta\\chi|/\\chi$',1E-8,'distances');"
   ]
  },
  {
   "cell_type": "markdown",
   "metadata": {},
   "source": [
    "### Cosmological distances with massive neutrinos\n",
    "The above checks distances for cosmologies only without massive neutrinos. We also want to check the distance functionality in cosmologies with massive neutrinos. We use cosmologies very similar to 1-5 above, the only difference being the neutrino parameters and that we don't force Omega_g to 0. Note we set Neff to 3 because we compare to benchmarks calculated using astropy which splits passed neutrinos masses equally amongst the Neff neutrinos."
   ]
  },
  {
   "cell_type": "code",
   "execution_count": 8,
   "metadata": {
    "collapsed": true
   },
   "outputs": [],
   "source": [
    "cosmo_cclmnu1 = ccl.Cosmology(\n",
    "    Omega_c=0.25, Omega_b=0.05, h=0.7, A_s = 2.1e-9, n_s=0.96, \n",
    "    Neff=3, m_nu=[0.04, 0., 0.])\n",
    "\n",
    "cosmo_cclmnu2 = ccl.Cosmology(\n",
    "    Omega_c=0.25, Omega_b=0.05, h=0.7, A_s = 2.1e-9, n_s=0.96, w0=-0.9, \n",
    "    Neff=3, m_nu=[0.05, 0.01, 0.])\n",
    "\n",
    "cosmo_cclmnu3  =ccl.Cosmology(\n",
    "    Omega_c=0.25, Omega_b=0.05, h=0.7, A_s = 2.1e-9, n_s=0.96, \n",
    "    w0=-0.9, wa=0.1, Neff=3, m_nu=[0.03, 0.02, 0.04])\n",
    "\n",
    "cosmo_cclmnu4 = ccl.Cosmology(\n",
    "    Omega_c=0.25, Omega_b=0.05, Omega_k=0.05, h=0.7, A_s = 2.1e-9, \n",
    "    n_s=0.96, w0=-0.9, wa=0.1, Neff=3, m_nu=[0.05, 0., 0.])\n",
    "\n",
    "cosmo_cclmnu5 = ccl.Cosmology(\n",
    "    Omega_c=0.25, Omega_b=0.05, Omega_k=-0.05, h=0.7, A_s = 2.1e-9, \n",
    "    n_s=0.96, w0=-0.9, wa=0.1, Neff=3, m_nu=[0.03, 0.02, 0.])\n",
    "\n",
    "cosmo_mnu_list= [\n",
    "    cosmo_cclmnu1, cosmo_cclmnu2, \n",
    "    cosmo_cclmnu3, cosmo_cclmnu4, cosmo_cclmnu5]\n",
    "\n",
    "num_models_mnu = 5"
   ]
  },
  {
   "cell_type": "markdown",
   "metadata": {},
   "source": [
    "We load the benchmark file, which has the same format as above."
   ]
  },
  {
   "cell_type": "code",
   "execution_count": 9,
   "metadata": {
    "collapsed": true
   },
   "outputs": [],
   "source": [
    "bench=np.loadtxt('../tests/benchmark/chi_mnu_model1-5.txt')\n",
    "z_mnu =bench[:,0]\n",
    "d_bench_mnu =bench[:,1:]\n",
    "scale_fact_mnu =1./(1+z)"
   ]
  },
  {
   "cell_type": "markdown",
   "metadata": {},
   "source": [
    "Calculate the distances for cosmologies with massive neutrinos."
   ]
  },
  {
   "cell_type": "code",
   "execution_count": 10,
   "metadata": {
    "collapsed": true
   },
   "outputs": [],
   "source": [
    "d_mnu_ccl=compute_ccl_bench_bg(cosmo_mnu_list[:num_models_mnu],scale_fact_mnu,ccl.comoving_radial_distance)"
   ]
  },
  {
   "cell_type": "markdown",
   "metadata": {},
   "source": [
    "Plot the discrepancy between benchmarks and ccl. Note that in this case we have a tolerance of $10^{-3}$, because we compare with benchmarks produced by astropy, which uses a fitting formula for the neutrino phasespace integral, which itself differs from the exact expression at greater than a $10^{-4}$ level. "
   ]
  },
  {
   "cell_type": "code",
   "execution_count": 11,
   "metadata": {
    "collapsed": false
   },
   "outputs": [
    {
     "data": {
      "image/png": "[encoded data removed]",
      "text/plain": [
       "<matplotlib.figure.Figure at 0x10e0157d0>"
      ]
     },
     "metadata": {},
     "output_type": "display_data"
    },
    {
     "data": {
      "text/plain": [
       "<matplotlib.figure.Figure at 0x111fa3f90>"
      ]
     },
     "metadata": {},
     "output_type": "display_data"
    }
   ],
   "source": [
    "plot_ccl_bench_bg(d_bench_mnu,d_mnu_ccl,z_mnu,r'$10^3\\times|\\Delta\\chi|/\\chi$',1E-3,'distances_nu');"
   ]
  },
  {
   "cell_type": "markdown",
   "metadata": {},
   "source": [
    "### Cosmological distances (high z)"
   ]
  },
  {
   "cell_type": "code",
   "execution_count": 12,
   "metadata": {
    "collapsed": false,
    "scrolled": false
   },
   "outputs": [
    {
     "data": {
      "image/png": "[encoded data removed]",
      "text/plain": [
       "<matplotlib.figure.Figure at 0x110b77710>"
      ]
     },
     "metadata": {},
     "output_type": "display_data"
    },
    {
     "data": {
      "text/plain": [
       "<matplotlib.figure.Figure at 0x110ee0390>"
      ]
     },
     "metadata": {},
     "output_type": "display_data"
    }
   ],
   "source": [
    "bench=np.loadtxt('../tests/benchmark/chi_hiz_model1-3.txt')\n",
    "z=bench[1:,0]\n",
    "d_hiz_bench=bench[1:,1:]\n",
    "scale_fact=1./(1+z)\n",
    "d_hiz_ccl=compute_ccl_bench_bg(cosmo_list[:num_models_hiz],scale_fact,ccl.comoving_radial_distance,1.)\n",
    "plot_ccl_bench_bg(d_hiz_bench,d_hiz_ccl,z,r'$10^7\\times|\\Delta\\chi|/\\chi$',1E-7,'distances_hiz')"
   ]
  },
  {
   "cell_type": "markdown",
   "metadata": {},
   "source": [
    "### Cosmological distances (high z, with massive neutrinos)\n",
    "Similarly to above, we only require $10^{-3}$ accuracy here because we compare to benchmarks from astropy, which uses a fitting function for the phase space neutrino integral which itself differs from the exact value at greater than the $10^{-4}$ level."
   ]
  },
  {
   "cell_type": "code",
   "execution_count": 13,
   "metadata": {
    "collapsed": false
   },
   "outputs": [
    {
     "data": {
      "image/png": "[encoded data removed]",
      "text/plain": [
       "<matplotlib.figure.Figure at 0x1122a17d0>"
      ]
     },
     "metadata": {},
     "output_type": "display_data"
    },
    {
     "data": {
      "text/plain": [
       "<matplotlib.figure.Figure at 0x1034d5550>"
      ]
     },
     "metadata": {},
     "output_type": "display_data"
    }
   ],
   "source": [
    "bench=np.loadtxt('../tests/benchmark/chi_hiz_mnu_model1-5.txt')\n",
    "z_mnu=bench[:,0]\n",
    "d_hiz_mnu_bench=bench[:,1:]\n",
    "scale_fact_mnu=1./(1+z_mnu)\n",
    "d_hiz_mnu_ccl=compute_ccl_bench_bg(cosmo_mnu_list[:num_models_mnu],scale_fact_mnu,ccl.comoving_radial_distance,0.)\n",
    "plot_ccl_bench_bg(d_hiz_mnu_bench,d_hiz_mnu_ccl,z_mnu,r'$10^3\\times|\\Delta\\chi|/\\chi$',1E-3,'distances_nu_hiz')"
   ]
  },
  {
   "cell_type": "markdown",
   "metadata": {},
   "source": [
    "### Growth function (low z)"
   ]
  },
  {
   "cell_type": "markdown",
   "metadata": {},
   "source": [
    "We now show the accuracy attained in predicting the growth function. In this case, we only work with cosmologies without massive neutrinos. This is due to the growth function becoming scale-dependent in the presence of massive neutrinos, in which case the full matter power spectrum should be used. Separate checks of the matter power spectrum are in place below."
   ]
  },
  {
   "cell_type": "code",
   "execution_count": 14,
   "metadata": {
    "collapsed": false
   },
   "outputs": [
    {
     "data": {
      "image/png": "[encoded data removed]",
      "text/plain": [
       "<matplotlib.figure.Figure at 0x10e015290>"
      ]
     },
     "metadata": {},
     "output_type": "display_data"
    },
    {
     "data": {
      "text/plain": [
       "<matplotlib.figure.Figure at 0x1100bd8d0>"
      ]
     },
     "metadata": {},
     "output_type": "display_data"
    }
   ],
   "source": [
    "bench=np.loadtxt('../tests/benchmark/growth_model1-5.txt')\n",
    "z=bench[:,0]\n",
    "g_bench=bench[0:,1:]\n",
    "scale_fact=1./(1+z)\n",
    "g_ccl=compute_ccl_bench_bg(cosmo_list[:num_models],scale_fact,ccl.growth_factor_unnorm,0.)\n",
    "plot_ccl_bench_bg(g_bench,g_ccl,z,r'$10^4\\times|\\Delta D|/D$',1E-4,'growth')"
   ]
  },
  {
   "cell_type": "markdown",
   "metadata": {},
   "source": [
    "### Growth function (high z)"
   ]
  },
  {
   "cell_type": "code",
   "execution_count": 15,
   "metadata": {
    "collapsed": false
   },
   "outputs": [
    {
     "data": {
      "image/png": "[encoded data removed]",
      "text/plain": [
       "<matplotlib.figure.Figure at 0x1100bda90>"
      ]
     },
     "metadata": {},
     "output_type": "display_data"
    },
    {
     "data": {
      "text/plain": [
       "<matplotlib.figure.Figure at 0x1051b2950>"
      ]
     },
     "metadata": {},
     "output_type": "display_data"
    }
   ],
   "source": [
    "bench=np.loadtxt('../tests/benchmark/growth_hiz_model1-3.txt')\n",
    "z=bench[0:,0]\n",
    "num_z = np.shape(bench)[0]\n",
    "g_hiz_bench=bench[0:,1:]\n",
    "scale_fact=1./(1+z)\n",
    "bench=np.loadtxt('../tests/benchmark/growth_model1-5.txt')\n",
    "g_hiz_ccl=compute_ccl_bench_bg(cosmo_list[:num_models_hiz],scale_fact,ccl.growth_factor_unnorm,0.)\n",
    "plot_ccl_bench_bg(g_hiz_bench,g_hiz_ccl,z,r'$10^4\\times|\\Delta D|/D$',1E-4,'growth_hiz')"
   ]
  },
  {
   "cell_type": "markdown",
   "metadata": {},
   "source": [
    "## Consolidated background benchmark plots"
   ]
  },
  {
   "cell_type": "markdown",
   "metadata": {},
   "source": [
    "This additional set of benchmarks and plots studies the accuracy of distances and growth in comparison to CLASS and CosmoMAD outputs. These tests are also implemented as part of the C automated tests."
   ]
  },
  {
   "cell_type": "code",
   "execution_count": 16,
   "metadata": {
    "collapsed": false
   },
   "outputs": [
    {
     "data": {
      "image/png": "[encoded data removed]",
      "text/plain": [
       "<matplotlib.figure.Figure at 0x110b77250>"
      ]
     },
     "metadata": {},
     "output_type": "display_data"
    },
    {
     "data": {
      "text/plain": [
       "<matplotlib.figure.Figure at 0x1101ae3d0>"
      ]
     },
     "metadata": {},
     "output_type": "display_data"
    },
    {
     "data": {
      "image/png": "[encoded data removed]",
      "text/plain": [
       "<matplotlib.figure.Figure at 0x1100a8490>"
      ]
     },
     "metadata": {},
     "output_type": "display_data"
    },
    {
     "data": {
      "text/plain": [
       "<matplotlib.figure.Figure at 0x111becb50>"
      ]
     },
     "metadata": {},
     "output_type": "display_data"
    }
   ],
   "source": [
    "def plot_ccl_bench_bg_new(f_bench, f_ccl, z_list, title, figname, labels):\n",
    "    plt.figure(figsize=fig_size)\n",
    "    plt.gcf().subplots_adjust(**plot_adjust)\n",
    "    plt.ylabel(title)\n",
    "    plt.xlabel('Redshift')\n",
    "    if isinstance(f_bench, list):\n",
    "        # Inlcude massive neutrinos on the same plot\n",
    "        for i in range(len(f_bench[0][0])):\n",
    "            plt.plot(z_list, np.abs(f_bench[0][:,i]/f_ccl[0][:,i]-1), \n",
    "                     ls='-', c=color_map(i), label=labels[0][i])\n",
    "        for i in range(len(f_bench[0][0])):\n",
    "            plt.plot(z_list, np.abs(f_bench[1][:,i]/f_ccl[1][:,i]-1), \n",
    "                     ls='--', c=color_map(i), label=labels[1][i])\n",
    "        plt.legend(ncol=2, frameon=False, fontsize=\"x-small\")\n",
    "    else:    \n",
    "        for i in range(len(f_bench[0])):\n",
    "            plt.plot(z_list,np.abs(f_bench[:,i]/f_ccl[:,i]-1),\n",
    "                     ls='-', c=color_map(i), label=labels[i])\n",
    "        plt.legend(frameon=False, fontsize=\"x-small\")\n",
    "    plt.xscale(\"log\")\n",
    "    plt.locator_params(axis=\"x\", numticks=6)\n",
    "    plt.locator_params(axis=\"y\", nbins=6)\n",
    "    plt.ticklabel_format(style=\"sci\", axis=\"y\", scilimits=(0,1))\n",
    "#     plt.gca().yaxis.offsetText.set_fontsize(18)\n",
    "    plt.savefig(figname+'.pdf')\n",
    "    plt.show()\n",
    "    plt.clf()\n",
    "    \n",
    "def Neff_from_N_ur_N_ncdm(N_ur, N_ncdm):\n",
    "    \"\"\"Calculate N_eff from the number of relativistic and massive neutrinos.\"\"\"\n",
    "    Neff = N_ur + N_ncdm * ccl.ccllib.TNCDM**4 / (4./11.)**(4./3.)\n",
    "    return Neff\n",
    "\n",
    "def compute_distance(z, Omega_k=0.0, Omega_c=0.25, Omega_b=0.05,\n",
    "                     h=0.7, sigma8=0.8, n_s=0.96,\n",
    "                     Neff=3.0, m_nu=0.0, w0=-1.0, wa=0.0):\n",
    "    # Create new Parameters and Cosmology objects\n",
    "    cosmo = ccl.Cosmology(Omega_c=Omega_c, Omega_b=Omega_b, Neff=Neff, \n",
    "                       h=h, sigma8=sigma8, n_s=n_s, Omega_k=Omega_k, m_nu=m_nu,\n",
    "                       w0=w0, wa=wa)    \n",
    "    \n",
    "    a = 1. / (1. + z)\n",
    "    chi = ccl.comoving_radial_distance(cosmo, a)\n",
    "    return chi\n",
    "\n",
    "def compute_growth(z, Omega_k=0.0, Omega_c=0.25, Omega_b=0.05,\n",
    "                   h=0.7, sigma8=0.8, n_s=0.96,\n",
    "                   Neff=3.0, m_nu=0.0, w0=-1.0, wa=0.0):\n",
    "    # Create new Parameters and Cosmology objects.\n",
    "    # The code that is used for the benchmark (CosmoMAD) does not include the radiation terms.\n",
    "    # For consistency, we set them to zero and reset Omege_l\n",
    "    cosmo = ccl.Cosmology(Omega_c=Omega_c, Omega_b=Omega_b, Neff=0, \n",
    "                       h=h, sigma8=sigma8, n_s=n_s, Omega_k=Omega_k, m_nu=m_nu,\n",
    "                       w0=w0, wa=wa, Omega_g=0)\n",
    "    \n",
    "    a = 1. / (1. + z)\n",
    "    growth = ccl.growth_factor_unnorm(cosmo, a)\n",
    "    return growth\n",
    "\n",
    "common_params = dict(Omega_c=0.25, Omega_b=0.05,\n",
    "                     h=0.7, sigma8=0.8, n_s=0.96)\n",
    "\n",
    "# The distance benchmark uses CLASS, which requires a non-zero N_eff.\n",
    "models =      ({\"Omega_k\"  : 0.0,\n",
    "                \"Neff\"     : 3.046},\n",
    "               {\"Omega_k\"  : 0.0,\n",
    "                \"w0\"       : -0.9,\n",
    "                \"wa\"       : 0.0,\n",
    "                \"Neff\"     : 3.046},\n",
    "               {\"Omega_k\"  : 0.0,\n",
    "                \"w0\"       : -0.9,\n",
    "                \"wa\"       : 0.1,\n",
    "                \"Neff\"     : 3.046},\n",
    "               {\"Omega_k\"  : 0.05,\n",
    "                \"w0\"       : -0.9,\n",
    "                \"wa\"       : 0.1,\n",
    "                \"Neff\"     : 3.046},\n",
    "               {\"Omega_k\"  : -0.05,\n",
    "                \"w0\"       : -0.9,\n",
    "                \"wa\"       : 0.1,\n",
    "                \"Neff\"     : 3.046},\n",
    "              )\n",
    "\n",
    "mnu_models =  ({\"Omega_k\"  : 0.0,\n",
    "                \"Neff\"     : Neff_from_N_ur_N_ncdm(N_ur=2.0, N_ncdm=1.0),\n",
    "                \"m_nu\"     : [0.04, 0.0, 0.0]},\n",
    "               {\"Omega_k\"  : 0.0,\n",
    "                \"w0\"       : -0.9,\n",
    "                \"wa\"       : 0.0,\n",
    "                \"Neff\"     : Neff_from_N_ur_N_ncdm(N_ur=1.0, N_ncdm=2.0),\n",
    "                \"m_nu\"     : [0.05, 0.01, 0.0]},\n",
    "               {\"Omega_k\"  : 0.0,\n",
    "                \"w0\"       : -0.9,\n",
    "                \"wa\"       : 0.1,\n",
    "                \"Neff\"     : Neff_from_N_ur_N_ncdm(N_ur=0.0, N_ncdm=3.0),\n",
    "                \"m_nu\"     : [0.03, 0.02, 0.04]},\n",
    "               {\"Omega_k\"  : 0.05,\n",
    "                \"w0\"       : -0.9,\n",
    "                \"wa\"       : 0.1,\n",
    "                \"Neff\"     : Neff_from_N_ur_N_ncdm(N_ur=2.0, N_ncdm=1.0),\n",
    "                \"m_nu\"     : [0.05, 0.0, 0.0]},\n",
    "               {\"Omega_k\"  : -0.05,\n",
    "                \"w0\"       : -0.9,\n",
    "                \"wa\"       : 0.1,\n",
    "                \"Neff\"     : Neff_from_N_ur_N_ncdm(N_ur=1.0, N_ncdm=2.0),\n",
    "                \"m_nu\"     : [0.03, 0.02, 0.0]},\n",
    "              )\n",
    "\n",
    "# benchmark = np.loadtxt(\"../tests/benchmark/chi_allz_class_CCL1-11.txt\")\n",
    "benchmark = np.loadtxt(\"../tests/benchmark/chi_class_allz.txt\")\n",
    "\n",
    "z = benchmark[:,0]\n",
    "chi_benchmark = benchmark[:,1:]\n",
    "\n",
    "chi_ccl = []\n",
    "chi_mnu_ccl = []\n",
    "\n",
    "for m in models:\n",
    "    params = common_params.copy()\n",
    "    params.update(m)\n",
    "    chi_ccl.append(compute_distance(z, **params))\n",
    "    \n",
    "for m in mnu_models:\n",
    "    params = common_params.copy()\n",
    "    params.update(m)\n",
    "    chi_mnu_ccl.append(compute_distance(z, **params))\n",
    "\n",
    "chi_ccl = np.array(chi_ccl).T\n",
    "chi_mnu_ccl = np.array(chi_mnu_ccl).T\n",
    "\n",
    "plot_ccl_bench_bg_new([chi_benchmark[:,:5], chi_benchmark[:,5:]], [chi_ccl, chi_mnu_ccl], z, \n",
    "                      r'$|\\Delta\\chi|/\\chi$', \"distances\", \n",
    "                      [[\"CCL1\", \"CCL2\", \"CCL3\", \"CCL4\", \"CCL5\"], [\"CCL7\", \"CCL8\", \"CCL9\", \"CCL10\", \"CCL11\"]])\n",
    "\n",
    "benchmark = np.loadtxt(\"../tests/benchmark/growth_allz_cosmomad_ccl1-5.txt\")\n",
    "z = benchmark[:,0]\n",
    "growth_benchmark = benchmark[:,1:]\n",
    "\n",
    "growth_ccl = []\n",
    "\n",
    "for m in models:\n",
    "    growth_ccl.append(compute_growth(z, **m))\n",
    "    \n",
    "growth_ccl = np.array(growth_ccl).T\n",
    "\n",
    "plot_ccl_bench_bg_new(growth_benchmark, growth_ccl, z, r'$|\\Delta D|/D$', \"growth\", \n",
    "                      [\"CCL1\", \"CCL2\", \"CCL3\", \"CCL4\", \"CCL5\"])\n"
   ]
  },
  {
   "cell_type": "markdown",
   "metadata": {},
   "source": [
    "# Matter power spectrum\n",
    "\n",
    "In this section, we validate the matter power spectra from different methods incorporated in CCL against external benchmarks. These power spectra predictions (specifically, the BBKS case) then feed into the validation of angular power spectra and correlation functions."
   ]
  },
  {
   "cell_type": "markdown",
   "metadata": {},
   "source": [
    "### Matter power spectrum via BBKS\n",
    "\n",
    "This test compares the BBKS implementation of the matter power spectrum in CCL for three cosmologies and at z=0 and z=1. Other redshifts are available where the accuracy is 1E-5. "
   ]
  },
  {
   "cell_type": "code",
   "execution_count": 17,
   "metadata": {
    "collapsed": false
   },
   "outputs": [
    {
     "data": {
      "image/png": "[encoded data removed]",
      "text/plain": [
       "<matplotlib.figure.Figure at 0x111727c10>"
      ]
     },
     "metadata": {},
     "output_type": "display_data"
    },
    {
     "data": {
      "text/plain": [
       "<matplotlib.figure.Figure at 0x10e03d550>"
      ]
     },
     "metadata": {},
     "output_type": "display_data"
    }
   ],
   "source": [
    "#BBKS cosmologies\n",
    "cosmo_ccl1_bbks = ccl.Cosmology(\n",
    "    Omega_c=0.25, Omega_b=0.05, h=0.7, sigma8=0.8, n_s=0.96, Neff=0,\n",
    "    transfer_function='bbks', matter_power_spectrum='linear', Omega_g=0.0)\n",
    "\n",
    "cosmo_ccl2_bbks = ccl.Cosmology(\n",
    "    Omega_c=0.25, Omega_b=0.05, h=0.7, sigma8=0.8, n_s=0.96, w0=-0.9, Neff=0,\n",
    "    transfer_function='bbks', matter_power_spectrum='linear', Omega_g=0.0)\n",
    "\n",
    "cosmo_ccl3_bbks = ccl.Cosmology(\n",
    "    Omega_c=0.25, Omega_b=0.05, h=0.7, sigma8=0.8, n_s=0.96, w0=-0.9, wa=0.1, Neff=0,\n",
    "    transfer_function='bbks', matter_power_spectrum='linear', Omega_g=0.0)\n",
    "\n",
    "#Load three benchmark power spectra, with and without baryons\n",
    "pk_bench_m1=np.loadtxt('../tests/benchmark/model1_pk.txt')\n",
    "pk_bench_m2=np.loadtxt('../tests/benchmark/model2_pk.txt')\n",
    "pk_bench_m3=np.loadtxt('../tests/benchmark/model3_pk.txt')\n",
    "\n",
    "#Make the CCL prediction\n",
    "pk_ccl1_bbks=ccl.linear_matter_power(cosmo_ccl1_bbks,pk_bench_m1[:,0]*0.7,1.)\n",
    "pk_ccl1_bbks_z1=ccl.linear_matter_power(cosmo_ccl1_bbks,pk_bench_m1[:,0]*0.7,0.5)\n",
    "pk_ccl1_bbks_z2=ccl.linear_matter_power(cosmo_ccl1_bbks,pk_bench_m1[:,0]*0.7,1./3.)\n",
    "pk_ccl1_bbks_z3=ccl.linear_matter_power(cosmo_ccl1_bbks,pk_bench_m1[:,0]*0.7,0.25)\n",
    "pk_ccl1_bbks_z4=ccl.linear_matter_power(cosmo_ccl1_bbks,pk_bench_m1[:,0]*0.7,0.2)\n",
    "pk_ccl2_bbks=ccl.linear_matter_power(cosmo_ccl2_bbks,pk_bench_m2[:,0]*0.7,1.)\n",
    "pk_ccl3_bbks=ccl.linear_matter_power(cosmo_ccl3_bbks,pk_bench_m3[:,0]*0.7,1.)\n",
    "\n",
    "\n",
    "#Ensure that the ratio of the two types of power spectra is within a certain tolerance.\n",
    "accuracy = 1e-5\n",
    "\n",
    "plt.figure(figsize=fig_size)\n",
    "plt.gcf().subplots_adjust(**plot_adjust)\n",
    "plt.ylabel(r'$|\\Delta P(k)|/P(k)$')\n",
    "plt.xlabel(r'$k$ [Mpc$^{-1}$]')\n",
    "plt.gca().set_xscale('log')\n",
    "plt.ylim(bottom=1e-8,top=2e-5)\n",
    "plt.plot(pk_bench_m1[:,0]*0.7,np.abs(pk_bench_m1[:,1]/0.7**3/pk_ccl1_bbks-1.),\n",
    "         '-',color=color_map(0),label='CCL1')\n",
    "plt.plot(pk_bench_m1[:,0]*0.7,np.abs(pk_bench_m2[:,1]/0.7**3/pk_ccl2_bbks-1.),\n",
    "         '-',color=color_map(1),label='CCL2')\n",
    "plt.plot(pk_bench_m1[:,0]*0.7,np.abs(pk_bench_m3[:,1]/0.7**3/pk_ccl3_bbks-1.),\n",
    "         '-',color=color_map(2),label='CCL3')\n",
    "plt.plot(pk_bench_m1[:,0]*0.7,np.abs(pk_bench_m1[:,3]/0.7**3/pk_ccl1_bbks_z2-1.),\n",
    "         '--',color=color_map(3),label=r'CCL1, $z=2$')\n",
    "plt.plot(pk_bench_m1[:,0]*0.7,np.abs(pk_bench_m1[:,5]/0.7**3/pk_ccl1_bbks_z4-1.),\n",
    "         '-.',color=color_map(3),label=r'CCL1, $z=4$')\n",
    "plt.axhline(accuracy, c=\"k\", ls=\"--\")\n",
    "\n",
    "plt.ticklabel_format(style=\"sci\", axis=\"y\", scilimits=(0,1))\n",
    "plt.yscale(\"log\")\n",
    "plt.locator_params(axis=\"x\", numticks=7)\n",
    "plt.legend(loc='lower right',fontsize=10,frameon=False)\n",
    "plt.savefig('bbks.pdf')\n",
    "plt.show()\n",
    "plt.clf()"
   ]
  },
  {
   "cell_type": "markdown",
   "metadata": {},
   "source": [
    "### Matter power spectrum via Eisenstein & Hu\n",
    "\n",
    "This test compares the Eisenstein & Hu implementation of the matter power spectrum in CCL against an independent benchmark at z=0 and for the CCL1 cosmology."
   ]
  },
  {
   "cell_type": "code",
   "execution_count": 18,
   "metadata": {
    "collapsed": false
   },
   "outputs": [
    {
     "data": {
      "image/png": "[encoded data removed]",
      "text/plain": [
       "<matplotlib.figure.Figure at 0x110b77190>"
      ]
     },
     "metadata": {},
     "output_type": "display_data"
    },
    {
     "data": {
      "text/plain": [
       "<matplotlib.figure.Figure at 0x11173a4d0>"
      ]
     },
     "metadata": {},
     "output_type": "display_data"
    }
   ],
   "source": [
    "#BBKS cosmologies\n",
    "cosmo_ccl1_eh= ccl.Cosmology(\n",
    "    Omega_c=0.25, Omega_b=0.05, h=0.7, sigma8=0.8, n_s=0.96, Neff=0,\n",
    "    transfer_function='eisenstein_hu', matter_power_spectrum='linear')\n",
    "\n",
    "#Load three benchmark power spectra, with and without baryons\n",
    "pk_bench_m1=np.loadtxt('../tests/benchmark/model1_pk_eh.txt')\n",
    "#Make the CCL prediction\n",
    "pk_ccl1_eh=ccl.linear_matter_power(cosmo_ccl1_eh,pk_bench_m1[:,0]*0.7,1.)\n",
    "\n",
    "#Ensure that the ratio of the two types of power spectra is within a certain tolerance.\n",
    "accuracy = 1e-5\n",
    "\n",
    "#Only z=0 results shown, up to z=5 available.\n",
    "plt.figure(figsize=fig_size)\n",
    "plt.gcf().subplots_adjust(**plot_adjust)\n",
    "plt.ylabel(r'$|\\Delta P(k)|/P(k)$')\n",
    "plt.xlabel(r'$k$ [Mpc$^{-1}$]')\n",
    "plt.gca().set_xscale('log')\n",
    "#plt.ylim(ymin=5e-8,ymax=2e-5)\n",
    "plt.plot(pk_bench_m1[:,0]*0.7,np.abs(pk_bench_m1[:,1]/0.7**3/pk_ccl1_eh-1.),\n",
    "         '-',color=color_map(0),label='CCL1')\n",
    "plt.axhline(accuracy, c=\"k\", ls=\"--\")\n",
    "\n",
    "plt.ticklabel_format(style=\"sci\", axis=\"y\", scilimits=(0,1))\n",
    "plt.yscale(\"log\")\n",
    "plt.locator_params(axis=\"x\", numticks=7)\n",
    "plt.legend(loc='lower right',fontsize=10,frameon=False)\n",
    "plt.savefig('ehu.pdf')\n",
    "plt.show()\n",
    "plt.clf()"
   ]
  },
  {
   "cell_type": "markdown",
   "metadata": {},
   "source": [
    "### Matter power spectrum from CLASS with massive neutrinos\n",
    "\n",
    "This test compares the matter power spectrum in cosmologies with massive neutrinos computed using CLASS and called using CCL to that computed via CLASS externally. This is simply intended to check that we are setting up massive neutrino parameters correctly and passing parameters correctly to CLASS, not to test the P(k) computation itself. The accuracy achieved for both linear and nonlinear power spectra is 1E-3.\n",
    "\n",
    "First, set up the cosmologies we use here."
   ]
  },
  {
   "cell_type": "code",
   "execution_count": 19,
   "metadata": {
    "collapsed": true
   },
   "outputs": [],
   "source": [
    "cosmo_cclmnu1_pk = ccl.Cosmology(\n",
    "    Omega_c=0.25, Omega_b=0.05, h=0.7, A_s = 2.1e-9, \n",
    "    n_s=0.96, Neff=3.046, m_nu=[0.04, 0., 0.])\n",
    "cosmo_cclmnu2_pk = ccl.Cosmology(\n",
    "    Omega_c=0.25, Omega_b=0.05, h=0.7, A_s = 2.1e-9, \n",
    "    n_s=0.96, w0=-0.9, Neff=3.046, m_nu=[0.05, 0.01, 0.])\n",
    "cosmo_cclmnu3_pk = ccl.Cosmology(\n",
    "    Omega_c=0.25, Omega_b=0.05, h=0.7, A_s = 2.1e-9, \n",
    "    n_s=0.96, w0=-0.9, wa=0.1, Neff=3.046, m_nu=[0.03, 0.02, 0.04])\n",
    "\n",
    "cosmo_mnu_pk_list = [cosmo_cclmnu1_pk, cosmo_cclmnu2_pk, cosmo_cclmnu3_pk]\n",
    "num_models_mnu_pk = 3;\n",
    "\n",
    "model_names = [\"CCL7\", \"CCL8\", \"CCL9\"]"
   ]
  },
  {
   "cell_type": "markdown",
   "metadata": {},
   "source": [
    "Next, load the benchmarks for the linear and nonlinear matter power spectrum (computed using CLASS externally)."
   ]
  },
  {
   "cell_type": "code",
   "execution_count": 20,
   "metadata": {
    "collapsed": true
   },
   "outputs": [],
   "source": [
    "lin_k_pk = [np.loadtxt(\"../tests/benchmark/model\"+str(mi+1)+\"_pk_nu.txt\", unpack=True) for mi in range(num_models_mnu_pk)]\n",
    "nl_k_pk = [np.loadtxt(\"../tests/benchmark/model\"+str(mi+1)+\"_pk_nl_nu.txt\", unpack=True) for mi in range(num_models_mnu_pk)]"
   ]
  },
  {
   "cell_type": "markdown",
   "metadata": {},
   "source": [
    "#### Linear matter power spectrum with massive neutrinos"
   ]
  },
  {
   "cell_type": "code",
   "execution_count": 21,
   "metadata": {
    "collapsed": false
   },
   "outputs": [
    {
     "data": {
      "image/png": "[encoded data removed]",
      "text/plain": [
       "<matplotlib.figure.Figure at 0x110202290>"
      ]
     },
     "metadata": {},
     "output_type": "display_data"
    },
    {
     "data": {
      "text/plain": [
       "<matplotlib.figure.Figure at 0x10e39a9d0>"
      ]
     },
     "metadata": {},
     "output_type": "display_data"
    }
   ],
   "source": [
    "colvec=plt.cm.magma(np.linspace(0,0.8,num_models_mnu_pk))\n",
    "\n",
    "accuracy = 1e-3\n",
    "\n",
    "plt.figure(figsize=fig_size)\n",
    "plt.gcf().subplots_adjust(**plot_adjust)\n",
    "plt.ylabel(r'$|\\Delta P(k)|/P(k)$')\n",
    "plt.xlabel(r'$k$ [Mpc$^{-1}$]')\n",
    "plt.gca().set_xscale('log')\n",
    "for i_model in range(0,num_models_mnu_pk):\n",
    "    pk_lin_ccl = ccl.linear_matter_power(\n",
    "        cosmo_mnu_pk_list[i_model], \n",
    "        lin_k_pk[i_model][0] * cosmo_mnu_pk_list[i_model]['h'],1.) * (cosmo_mnu_pk_list[i_model]['h'])**3\n",
    "    plt.plot(lin_k_pk[i_model][0],np.abs(pk_lin_ccl/lin_k_pk[i_model][1]-1.),\n",
    "             ls='-', color=color_map(i_model), label=model_names[i_model])\n",
    "    \n",
    "plt.yscale(\"log\")\n",
    "plt.legend(ncol=3, loc=\"upper left\", fontsize=\"x-small\", frameon=False)\n",
    "plt.ylim(1e-11, 1e-2)\n",
    "# plt.locator_params(axis=\"y\", nbins=6)\n",
    "# plt.ticklabel_format(style=\"sci\", axis=\"y\", scilimits=(0,1))\n",
    "plt.locator_params(axis=\"x\", numticks=8)\n",
    "plt.axhline(accuracy, c=\"k\", ls=\"--\")\n",
    "plt.savefig('pk_class_nu.pdf')\n",
    "plt.show()\n",
    "plt.clf()"
   ]
  },
  {
   "cell_type": "markdown",
   "metadata": {},
   "source": [
    "#### Nonlinear matter power spectrum with massive neutrinos"
   ]
  },
  {
   "cell_type": "code",
   "execution_count": 22,
   "metadata": {
    "collapsed": false
   },
   "outputs": [
    {
     "data": {
      "image/png": "[encoded data removed]",
      "text/plain": [
       "<matplotlib.figure.Figure at 0x10e067890>"
      ]
     },
     "metadata": {},
     "output_type": "display_data"
    },
    {
     "data": {
      "text/plain": [
       "<matplotlib.figure.Figure at 0x113223150>"
      ]
     },
     "metadata": {},
     "output_type": "display_data"
    }
   ],
   "source": [
    "colvec=plt.cm.magma(np.linspace(0,0.8,num_models_mnu_pk))\n",
    "\n",
    "accuracy = 1e-3\n",
    "\n",
    "plt.figure(figsize=fig_size)\n",
    "plt.ylabel(r'$|\\Delta P(k)|/P(k)$')\n",
    "plt.xlabel(r'$k$ [Mpc$^{-1}$]')\n",
    "plt.gcf().subplots_adjust(**plot_adjust)\n",
    "plt.gca().set_xscale('log')\n",
    "for i_model in range(0,num_models_mnu_pk):\n",
    "    pk_nl_ccl=ccl.nonlin_matter_power(\n",
    "        cosmo_mnu_pk_list[i_model],\n",
    "        lin_k_pk[i_model][0] * cosmo_mnu_pk_list[i_model]['h'],1.) * (cosmo_mnu_pk_list[i_model]['h'])**3\n",
    "    plt.plot(nl_k_pk[i_model][0],np.abs(pk_nl_ccl/nl_k_pk[i_model][1]-1.),\n",
    "             ls='-', color=color_map(i_model), label=model_names[i_model])\n",
    "    \n",
    "plt.yscale(\"log\")\n",
    "plt.legend(ncol=3, loc=\"upper left\", fontsize=\"x-small\", frameon=False)\n",
    "plt.ylim(1e-11, 1e-2)\n",
    "# plt.locator_params(axis=\"y\", nbins=6)\n",
    "# plt.ticklabel_format(style=\"sci\", axis=\"y\", scilimits=(0,1))\n",
    "plt.locator_params(axis=\"x\", numticks=8)\n",
    "plt.axhline(accuracy, c=\"k\", ls=\"--\")\n",
    "plt.savefig('pk_class_nu_NL.pdf')\n",
    "plt.show()\n",
    "plt.clf()"
   ]
  },
  {
   "cell_type": "markdown",
   "metadata": {},
   "source": [
    "The small and large wavenumber excess is produced by our extrapolation schemes for the power spectrum spines. "
   ]
  },
  {
   "cell_type": "markdown",
   "metadata": {},
   "source": [
    "### Cosmological Emulator -  no neutrinos\n",
    "\n",
    "CCL also implements the Cosmic Emulator for making power spectrum predictions. Our results are compared against smoothed power spectra from simulations used to build the Cosmic Emulator. We this expect to satisfy specific target accuracies in this case."
   ]
  },
  {
   "cell_type": "code",
   "execution_count": 23,
   "metadata": {
    "collapsed": false
   },
   "outputs": [
    {
     "data": {
      "image/png": "[encoded data removed]",
      "text/plain": [
       "<matplotlib.figure.Figure at 0x110b35350>"
      ]
     },
     "metadata": {},
     "output_type": "display_data"
    },
    {
     "data": {
      "text/plain": [
       "<matplotlib.figure.Figure at 0x110b357d0>"
      ]
     },
     "metadata": {},
     "output_type": "display_data"
    }
   ],
   "source": [
    "#Load benchmark cosmology\n",
    "emu_cosmo_mat=np.loadtxt('../tests/benchmark/emu_cosmologies.txt')\n",
    "Omega_c_emu=emu_cosmo_mat[:,0]\n",
    "Omega_b_emu=emu_cosmo_mat[:,1]\n",
    "h_emu=emu_cosmo_mat[:,2]\n",
    "sigma8_emu=emu_cosmo_mat[:,3]\n",
    "ns_emu=emu_cosmo_mat[:,4]\n",
    "w0_emu=emu_cosmo_mat[:,5]\n",
    "wa_emu=emu_cosmo_mat[:,6]\n",
    "models = np.array([1,3,5,6,8,10])\n",
    "colvec=plt.cm.magma(np.linspace(0,0.8,len(models)))\n",
    "\n",
    "#Compare CCL to the same simulated power spectra that CosmicEmu was compared against. \n",
    "accuracy = 1e-2\n",
    "\n",
    "plt.figure(figsize=fig_size)\n",
    "plt.ylabel(r'$|\\Delta P(k)|/P(k)$')\n",
    "plt.xlabel(r'$k$ [Mpc$^{-1}$]')\n",
    "plt.gcf().subplots_adjust(**plot_adjust)\n",
    "plt.gca().set_xscale('log')\n",
    "for i_model in range(0,len(models)):\n",
    "    cosmo_emu = ccl.Cosmology(\n",
    "        Omega_c=Omega_c_emu[i_model], Omega_b=Omega_b_emu[i_model], h=h_emu[i_model], \n",
    "        sigma8=sigma8_emu[i_model], n_s=ns_emu[i_model], w0=w0_emu[i_model], \n",
    "        wa=wa_emu[i_model], Neff=3.04,\n",
    "        transfer_function='emulator',\n",
    "        matter_power_spectrum='emu', Omega_g=0.0)\n",
    "    pk_emu=np.loadtxt(\"../tests/benchmark/emu_smooth_pk_M\"+str(models[i_model])+\".txt\")\n",
    "    pk_ccl=ccl.nonlin_matter_power(cosmo_emu,pk_emu[:,0],1.)\n",
    "    plt.plot(pk_emu[:,0],np.abs(pk_ccl/pk_emu[:,1]-1.),'-',color=color_map(i_model),\n",
    "             label=\"M{}\".format(models[i_model]))\n",
    "    \n",
    "plt.legend(ncol=3, loc=\"upper left\", fontsize=\"x-small\", frameon=False)\n",
    "plt.ylim(0, 1.4e-2)\n",
    "plt.locator_params(axis=\"y\", nbins=6)\n",
    "plt.ticklabel_format(style=\"sci\", axis=\"y\", scilimits=(0,1))\n",
    "plt.axhline(accuracy, c=\"k\", ls=\"--\")\n",
    "plt.savefig('poweremu.pdf')\n",
    "plt.show()\n",
    "plt.clf()"
   ]
  },
  {
   "cell_type": "markdown",
   "metadata": {},
   "source": [
    "### Cosmological Emulator - with neutrinos\n",
    "\n",
    "Similar to the case above, but for cosmologies with neutrinos."
   ]
  },
  {
   "cell_type": "code",
   "execution_count": 24,
   "metadata": {
    "collapsed": false
   },
   "outputs": [
    {
     "data": {
      "image/png": "[encoded data removed]",
      "text/plain": [
       "<matplotlib.figure.Figure at 0x110e33ad0>"
      ]
     },
     "metadata": {},
     "output_type": "display_data"
    },
    {
     "data": {
      "text/plain": [
       "<matplotlib.figure.Figure at 0x111294b90>"
      ]
     },
     "metadata": {},
     "output_type": "display_data"
    }
   ],
   "source": [
    "emu_cosmo_mat=np.loadtxt('../tests/benchmark/emu_nu_cosmologies.txt')\n",
    "Omega_c_emu=emu_cosmo_mat[:,0]\n",
    "Omega_b_emu=emu_cosmo_mat[:,1]\n",
    "h_emu=emu_cosmo_mat[:,2]\n",
    "sigma8_emu=emu_cosmo_mat[:,3]\n",
    "ns_emu=emu_cosmo_mat[:,4]\n",
    "w0_emu=emu_cosmo_mat[:,5]\n",
    "wa_emu=emu_cosmo_mat[:,6]\n",
    "Omega_nu_emu=emu_cosmo_mat[:,7]\n",
    "models = np.array([38,39,40,42])\n",
    "colvec=plt.cm.magma(np.linspace(0,0.8,len(models)))\n",
    "\n",
    "\n",
    "accuracy = 3e-2\n",
    "\n",
    "plt.figure(figsize=fig_size)\n",
    "plt.ylabel(r'$|\\Delta P(k)|/P(k)$')\n",
    "plt.xlabel(r'$k$ [Mpc$^{-1}$]')\n",
    "plt.gcf().subplots_adjust(**plot_adjust)\n",
    "plt.gca().set_xscale('log')\n",
    "for i_model in range(0,len(models)):\n",
    "    #Figure out the neutrino mass for this Omega_nu:\n",
    "    Mnu_out = ccl.nu_masses(Omega_nu_emu[i_model]*h_emu[i_model]**2, 'equal', 2.725)\n",
    "    cosmo_emu = ccl.Cosmology(\n",
    "        Omega_c=Omega_c_emu[i_model], Omega_b=Omega_b_emu[i_model], h=h_emu[i_model], \n",
    "        sigma8=sigma8_emu[i_model], m_nu=Mnu_out, n_s=ns_emu[i_model], w0=w0_emu[i_model], \n",
    "        wa=wa_emu[i_model], Neff=3.04, transfer_function='emulator', matter_power_spectrum='emu',\n",
    "        Omega_g=0.0)\n",
    "    pk_emu=np.loadtxt(\"../tests/benchmark/emu_nu_smooth_pk_M\"+str(models[i_model])+\".txt\")\n",
    "    pk_ccl=ccl.nonlin_matter_power(cosmo_emu,pk_emu[:,0],1.)\n",
    "    plt.plot(pk_emu[:,0],np.abs(pk_ccl/pk_emu[:,1]-1.),'-',color=color_map(i_model), \n",
    "             label=\"M{}\".format(models[i_model]))\n",
    "    \n",
    "plt.legend(ncol=2, loc=\"upper left\", fontsize=\"x-small\", frameon=False)\n",
    "plt.ylim(0, 4e-2)\n",
    "plt.locator_params(axis=\"y\", nbins=6)\n",
    "plt.ticklabel_format(style=\"sci\", axis=\"y\", scilimits=(0,1))\n",
    "plt.axhline(accuracy, c=\"k\", ls=\"--\")\n",
    "\n",
    "plt.savefig('poweremu_nu.pdf')\n",
    "plt.show()\n",
    "plt.clf()"
   ]
  },
  {
   "cell_type": "markdown",
   "metadata": {},
   "source": [
    "### Baryonic correction model\n",
    "\n",
    "To incorporate the effect of baryons on the matter power spectrum, CCL uses the BC model of Schenider & Teyssier (2015, arXiv:1510.06034). Here, we test that we have implemented this model correctly. "
   ]
  },
  {
   "cell_type": "code",
   "execution_count": 25,
   "metadata": {
    "collapsed": false
   },
   "outputs": [
    {
     "name": "stdout",
     "output_type": "stream",
     "text": [
      "('Max diff for BCM=', 8.453238109495942e-13)\n"
     ]
    },
    {
     "data": {
      "image/png": "[encoded data removed]",
      "text/plain": [
       "<matplotlib.figure.Figure at 0x1114610d0>"
      ]
     },
     "metadata": {},
     "output_type": "display_data"
    },
    {
     "data": {
      "text/plain": [
       "<matplotlib.figure.Figure at 0x1101acf90>"
      ]
     },
     "metadata": {},
     "output_type": "display_data"
    }
   ],
   "source": [
    "#Set-up two cosmologies, with and without baryons\n",
    "cosmo_bar = ccl.Cosmology(\n",
    "    Omega_c=0.25, Omega_b=0.05, h=0.7, A_s = 2.2e-9, n_s=0.96, Neff=3.046,\n",
    "    bcm_log10Mc=14., baryons_power_spectrum='bcm', Omega_g=0.0)\n",
    "\n",
    "cosmo_nobar = ccl.Cosmology(\n",
    "    Omega_c=0.25, Omega_b=0.05, h=0.7, A_s = 2.2e-9, n_s=0.96,  Neff=3.046, Omega_g=0.0)\n",
    "\n",
    "#Load two benchmark power spectra, with and without baryons\n",
    "pk_bench_bar=np.loadtxt('../tests/benchmark/bcm/w_baryonspk_nl.dat')\n",
    "pk_bench_nobar=np.loadtxt('../tests/benchmark/bcm/wo_baryonspk_nl.dat')\n",
    "\n",
    "#Make the CCL prediction\n",
    "pk_ccl_bar=ccl.nonlin_matter_power(cosmo_bar,pk_bench_bar[:,0]*0.7,1.)\n",
    "pk_ccl_nobar=ccl.nonlin_matter_power(cosmo_nobar,pk_bench_bar[:,0]*0.7,1.)\n",
    "\n",
    "\n",
    "#Ensure that the ratio of the two types of power spectra is within a certain tolerance.\n",
    "accuracy = 1e-12\n",
    "\n",
    "plt.figure(figsize=fig_size)\n",
    "plt.gcf().subplots_adjust(**plot_adjust)\n",
    "plt.ylabel(r'$|\\Delta P(k)|/P(k)$')\n",
    "plt.xlabel(r'$k$ [Mpc$^{-1}$]')\n",
    "plt.gca().set_xscale('log')\n",
    "plt.plot(pk_bench_bar[:,0]*0.7,np.abs(pk_ccl_bar/pk_ccl_nobar/(pk_bench_bar[:,1]/pk_bench_nobar[:,1])-1.),\n",
    "         '-',color=color_map(0))\n",
    "print(\"Max diff for BCM=\",np.max(np.abs(pk_ccl_bar/pk_ccl_nobar/(pk_bench_bar[:,1]/pk_bench_nobar[:,1])-1.)))\n",
    "plt.axhline(accuracy, c=\"k\", ls=\"--\")\n",
    "\n",
    "plt.ticklabel_format(style=\"sci\", axis=\"y\", scilimits=(0,1))\n",
    "plt.yscale(\"log\")\n",
    "plt.locator_params(axis=\"x\", numticks=7)\n",
    "\n",
    "plt.savefig('bcm.pdf')\n",
    "plt.show()\n",
    "plt.clf()"
   ]
  },
  {
   "cell_type": "markdown",
   "metadata": {},
   "source": [
    "## Power spectrum spline accuracy check\n",
    "\n",
    "This section of the notebook compares the predicted CCL power spectrum with default spline parameters to a high-accuracy settings version. Note that in this case both results are taken as input, as any modification of the accuracy parameters requires changes in the .ini file."
   ]
  },
  {
   "cell_type": "code",
   "execution_count": 26,
   "metadata": {
    "collapsed": false
   },
   "outputs": [
    {
     "data": {
      "image/png": "[encoded data removed]",
      "text/plain": [
       "<matplotlib.figure.Figure at 0x110e3f290>"
      ]
     },
     "metadata": {},
     "output_type": "display_data"
    },
    {
     "data": {
      "image/png": "[encoded data removed]",
      "text/plain": [
       "<matplotlib.figure.Figure at 0x111481490>"
      ]
     },
     "metadata": {},
     "output_type": "display_data"
    }
   ],
   "source": [
    "data=np.loadtxt(\"pks_lin_test.txt\",unpack=True)\n",
    "data2=np.loadtxt(\"pks_lin_comp.txt\",unpack=True)\n",
    "data3=np.loadtxt(\"pks_nlin_test.txt\",unpack=True)\n",
    "data4=np.loadtxt(\"pks_nlin_comp.txt\",unpack=True)\n",
    "\n",
    "k=data2[0]\n",
    "pk=data[1]\n",
    "pk2=data2[1]\n",
    "pk3=data3[1]\n",
    "pk4=data4[1]\n",
    "delta_pk=abs(pk-pk2)/pk2\n",
    "delta_pk2=abs(pk3-pk4)/pk4\n",
    "\n",
    "#z=3\n",
    "pk_z3=data[2]\n",
    "pk2_z3=data2[2]\n",
    "pk3_z3=data3[2]\n",
    "pk4_z3=data4[2]\n",
    "delta_pk_z3=abs(pk_z3-pk2_z3)/pk2_z3\n",
    "delta_pk2_z3=abs(pk3_z3-pk4_z3)/pk4_z3\n",
    "#z=20\n",
    "pk_z20=data[3]\n",
    "pk2_z20=data2[3]\n",
    "pk3_z20=data3[3]\n",
    "pk4_z20=data4[3]\n",
    "delta_pk_z20=abs(pk_z20-pk2_z20)/pk2_z20\n",
    "delta_pk2_z20=abs(pk3_z20-pk4_z20)/pk4_z20\n",
    "\n",
    "fig=plt.figure(figsize=fig_size)\n",
    "plt.gcf().subplots_adjust(**plot_adjust)\n",
    "\n",
    "ax=plt.gca()\n",
    "ax.set_xscale('log')\n",
    "ax.set_yscale('log')\n",
    "ax.set_xlabel(r'$k$ [h Mpc$^{-1}$]')\n",
    "ax.set_ylabel(r'$|\\Delta P(k)|/P(k)$')\n",
    "\n",
    "plt.plot(k,np.fabs(delta_pk),color=color_map(0),label='$z=0$')\n",
    "plt.plot(k,np.fabs(delta_pk_z3),color=color_map(1),label='$z=3$')\n",
    "plt.plot(k,np.fabs(delta_pk_z20),color=color_map(2),ls='--',label='$z=20$')\n",
    "plt.legend(loc='upper left',frameon=False, fontsize=\"x-small\")\n",
    "ax.set_ylim([1E-8,1E-2])\n",
    "\n",
    "ax.set_title(\"Linear\")\n",
    "\n",
    "plt.savefig(\"splacc_power_lin.pdf\")\n",
    "\n",
    "\n",
    "\n",
    "fig=plt.figure(figsize=fig_size)\n",
    "plt.gcf().subplots_adjust(**plot_adjust)\n",
    "\n",
    "ax=plt.gca()\n",
    "ax.set_xscale('log')\n",
    "ax.set_yscale('log')\n",
    "ax.set_xlabel(r'$k$ [h Mpc$^{-1}$]')\n",
    "ax.set_ylabel(r'$|\\Delta P(k)|/P(k)$')\n",
    "\n",
    "plt.plot(k,np.fabs(delta_pk2),color=color_map(0),label='$z=0$')\n",
    "plt.plot(k,np.fabs(delta_pk2_z3),color=color_map(1),label='$z=3$')\n",
    "plt.plot(k,np.fabs(delta_pk2_z20),color=color_map(2),ls='--', label='$z=20$')\n",
    "ax.set_ylim([1E-8,1E-2])\n",
    "ax.set_title(\"Non-linear\")\n",
    "plt.legend(fontsize=\"x-small\", frameon=False)\n",
    "\n",
    "plt.savefig(\"splacc_power_nl.pdf\")\n"
   ]
  },
  {
   "cell_type": "markdown",
   "metadata": {},
   "source": [
    "## Generalized validation over LCDM parameter space"
   ]
  },
  {
   "cell_type": "markdown",
   "metadata": {},
   "source": [
    "In general, we would like to repeat the same exercise as above for a wider range of cosmologies. This is the purpose of the next set of plots, which compare CCL predicted power spectra to CLASS outputs for many different cases."
   ]
  },
  {
   "cell_type": "code",
   "execution_count": null,
   "metadata": {
    "collapsed": false
   },
   "outputs": [
    {
     "name": "stdout",
     "output_type": "stream",
     "text": [
      "z = 0.00\n"
     ]
    },
    {
     "data": {
      "image/png": "[encoded data removed]",
      "text/plain": [
       "<matplotlib.figure.Figure at 0x110286290>"
      ]
     },
     "metadata": {},
     "output_type": "display_data"
    },
    {
     "name": "stdout",
     "output_type": "stream",
     "text": [
      "z = 2.00\n"
     ]
    },
    {
     "data": {
      "image/png": "[encoded data removed]",
      "text/plain": [
       "<matplotlib.figure.Figure at 0x117a71a10>"
      ]
     },
     "metadata": {},
     "output_type": "display_data"
    },
    {
     "data": {
      "text/plain": [
       "<matplotlib.figure.Figure at 0x110f5bf50>"
      ]
     },
     "metadata": {},
     "output_type": "display_data"
    }
   ],
   "source": [
    "from matplotlib import gridspec\n",
    "\n",
    "continuous_cmap = plt.get_cmap(\"RdBu\")\n",
    "\n",
    "# Define binning in (z, k) and threshold values\n",
    "thresholds = [5e-5, 1e-4, 5e-4, 1e-3, 5e-3, 1e-2]\n",
    "scale_ranges = [(1e-4, 1e-2), (1e-2, 1e-1), (1e-1, 1e0)]\n",
    "z_vals = np.arange(0., 3., 0.5)\n",
    "\n",
    "# Calculate summary stats\n",
    "# Shape: N_samples, N_thres, N_z, N_kbins\n",
    "roots = [\"%s_lin_std\", \"%s_nl_std\", \"%s_lin_pre\", \"%s_nl_pre\"]\n",
    "labels = [\"Linear, standard precision\", \"Non-linear/halofit, standard precision\", \n",
    "          \"Linear, high precision\", \"Nonlinear/halofit, high precision\"]\n",
    "frac_dev = []\n",
    "k_arr = []\n",
    "\n",
    "for j in range(len(roots)):\n",
    "    _k_arr = np.load((roots[j]%\"cache\") + \".k_arr.npy\", encoding=\"bytes\")\n",
    "    _frac_dev = np.load((roots[j]%\"cache\") + \".frac_dev.npy\", encoding=\"bytes\")\n",
    "    frac_dev.append(_frac_dev)\n",
    "    k_arr.append(_k_arr)\n",
    "\n",
    "\n",
    "\n",
    "# Parameter values for each sample\n",
    "x = np.loadtxt(\"std_params.dat\", usecols=[2])\n",
    "\n",
    "y = (x - np.min(x)) / (np.max(x) - np.min(x))\n",
    "\n",
    "#Loop over redshifts\n",
    "for z_idx in [0, 4]:\n",
    "    # Set up grid of subplots\n",
    "    gs1 = gridspec.GridSpec(2, 2)\n",
    "    gs1.update(hspace=0.02, wspace=0.02, bottom=0.13, top=0.98, right=0.85, left=0.1)\n",
    "    ax1 = plt.subplot(gs1[0, 0])\n",
    "    ax2 = plt.subplot(gs1[0, 1])\n",
    "    ax3 = plt.subplot(gs1[1, 0])\n",
    "    ax4 = plt.subplot(gs1[1, 1])\n",
    "    plt.gcf().set_size_inches((paper_textwidth, 3.5))\n",
    "\n",
    "    # Loop over subplots\n",
    "    for j, ax in enumerate([ax1, ax2, ax3, ax4]):\n",
    "        for i in range(frac_dev[j].shape[0]):\n",
    "            ax.plot(k_arr[j][i,z_idx], np.abs(frac_dev[j][i,z_idx]), alpha=0.3, \n",
    "                   color=continuous_cmap(y[i]), lw=1)\n",
    "\n",
    "        # Hidden scatterplot\n",
    "        sct = ax.scatter(-1.*np.ones(y.size), np.zeros(y.size), c=x, cmap=continuous_cmap)\n",
    "\n",
    "        if j==2 or j==3: ax.set_xlabel(r\"$k$ [Mpc$^{-1}$]\")\n",
    "        if j==0 or j==2: ax.set_ylabel(r\"$|\\Delta P(k)|/P(k)$\")\n",
    "\n",
    "        ax.axhline(1e-3, color='k', ls='dashed', lw=1.2, alpha=0.2)\n",
    "        ax.axhline(1e-4, color='k', ls='dashed', lw=1.2, alpha=0.2)\n",
    "        ax.axhline(1e-5, color='k', ls='dashed', lw=1.2, alpha=0.2)\n",
    "        \n",
    "        ax.tick_params(axis='both', which='major')\n",
    "        ax.tick_params(axis='both', which='minor')\n",
    "\n",
    "        if j==0 or j==1: \n",
    "            ax.tick_params(axis='x', which='both', direction='in', labelbottom=False)\n",
    "        if j==1 or j==3: \n",
    "            ax.tick_params(axis='y', which='both', direction='in', labelleft=False)\n",
    "\n",
    "        ax.set_xlim((5e-5, 2e0))\n",
    "        ax.set_ylim((5e-6, 5e-3))\n",
    "\n",
    "        ax.set_yscale('log')\n",
    "        ax.set_xscale('log')\n",
    "\n",
    "        # Label each panel\n",
    "        ax.text(8e-5, 2.e-3, labels[j])\n",
    "\n",
    "    ax_cbar = plt.gcf().add_axes([0.62, 0.15, 0.3, 0.8])\n",
    "    cbar = plt.gcf().colorbar(mappable=sct, ax=ax_cbar)\n",
    "    cbar.set_label(r\"$\\Omega_{\\rm c}$\", labelpad=5)\n",
    "    ax_cbar.axis('off')\n",
    "\n",
    "    print(\"z = %2.2f\" % z_vals[z_idx])\n",
    "\n",
    "    plt.savefig(\"pkdev_v3_z{}.pdf\".format(\"{:.2f}\".format(z_vals[z_idx]).replace(\".\", \"_\")))\n",
    "    plt.show()\n",
    "    plt.clf()\n"
   ]
  },
  {
   "cell_type": "markdown",
   "metadata": {
    "collapsed": true
   },
   "source": [
    "## Halo model prediction of the power spectrum"
   ]
  },
  {
   "cell_type": "markdown",
   "metadata": {},
   "source": [
    "Finally, CCL is capable of predicting the matter power spectrum via the halo model. This section establishes the numerical accuracy of that prediction when compared to an independent benchmark."
   ]
  },
  {
   "cell_type": "code",
   "execution_count": null,
   "metadata": {
    "collapsed": true
   },
   "outputs": [],
   "source": [
    "accuracy = 1e-3\n",
    "\n",
    "# Number of cosmological models\n",
    "nc=3\n",
    "\n",
    "# Number of redshifts\n",
    "z_list = [0, 1]\n",
    "nz = len(z_list)\n",
    "\n",
    "# Number of points in k\n",
    "nk = 256\n",
    "\n",
    "# Declare arrays\n",
    "k = np.zeros((nc, nk, nz))\n",
    "Pk_in = np.zeros((nc, nk, nz))\n",
    "Pk_hm = np.zeros((nc, nk, nz))\n",
    "\n",
    "# Loop over redshifts\n",
    "for j, z in enumerate(z_list):\n",
    "    a = 1/(1+z)\n",
    "        \n",
    "    # Loop over cosmologies\n",
    "    for i in range(nc):\n",
    "\n",
    "        # Set the cosmological parameters and file locations\n",
    "        if(i==0):\n",
    "            infile=\"../tests/benchmark/pk_hm_c1_z{}.txt\".format(z)\n",
    "            Om_c=0.25\n",
    "            Om_b=0.05\n",
    "            h=0.7\n",
    "            sig8=0.8\n",
    "            n_s=0.96\n",
    "        elif(i==1):\n",
    "            infile=\"../tests/benchmark/pk_hm_c2_z{}.txt\".format(z)\n",
    "            Om_c=0.2265\n",
    "            Om_b=0.0455\n",
    "            h=0.7040\n",
    "            sig8=0.8100\n",
    "            n_s=0.9670\n",
    "        elif(i==2):\n",
    "            infile=\"../tests/benchmark/pk_hm_c3_z{}.txt\".format(z)\n",
    "            Om_c=0.2685\n",
    "            Om_b=0.0490\n",
    "            h=0.6711\n",
    "            sig8=0.8340\n",
    "            n_s=0.9624\n",
    "\n",
    "        # Set the cosmology\n",
    "        cosmo=ccl.Cosmology(Omega_c=Om_c, Omega_b=Om_b, h=h, sigma8=sig8, n_s=n_s,\n",
    "                            transfer_function='eisenstein_hu',\n",
    "                            matter_power_spectrum='halofit',\n",
    "                            mass_function='shethtormen')\n",
    "\n",
    "        # Load the data and pick out the k and P(k) columns\n",
    "        data = np.loadtxt(infile)\n",
    "        k[i,:,j] = data[:,0]\n",
    "        Pk_in[i,:,j] = data[:,4]\n",
    "\n",
    "        # Convert units of k from benchmark data [h/Mpc] -> [1/Mpc]\n",
    "        k[i,:,j] = k[i,:,j]*h\n",
    "\n",
    "        # Convert units of P(k) from benchmark data [Mpc/h]^3 -> [Mpc]^3\n",
    "        Pk_in[i,:,j] = Pk_in[i,:,j]/h**3\n",
    "\n",
    "        # Calculate the halo-model prediction\n",
    "        Pk_hm[i,:,j] = ccl.halomodel_matter_power(cosmo, k[i,:,j], a)\n",
    "        #Pk_hm[i,:,j]=ccl.onehalo_matter_power(cosmo, k[i,:,j], a)\n",
    "        #Pk_hm[i,:,j]=ccl.linear_matter_power(cosmo, k[i,:,j], a)\n",
    "\n",
    "# Plot the power spectra\n",
    "plt.figure(figsize=fig_size)\n",
    "plt.gcf().subplots_adjust(**plot_adjust)\n",
    "plt.xscale('log')\n",
    "plt.yscale('log')\n",
    "plt.xlabel(r'$k$ [Mpc$^{-1}$]')\n",
    "plt.ylabel(r'$P(k)$ [Mpc$^3$]')\n",
    "plt.ylim([1e-2,1e5])\n",
    "\n",
    "# Loop over redshift and cosmological model\n",
    "for j, z in enumerate(z_list):\n",
    "    for i in range(nc):\n",
    "        \n",
    "        # Set the lables\n",
    "        if(i==0):\n",
    "            label_in='Test data, z={}'.format(z)\n",
    "            label_hm='Halo model, z={}'.format(z)\n",
    "        else:\n",
    "            label_in=''\n",
    "            label_hm=''\n",
    "            \n",
    "        # Set the line style\n",
    "        if(j==0):\n",
    "            ls_in='-'\n",
    "            ls_hm='-'\n",
    "        elif(j==1):\n",
    "            ls_in='--'\n",
    "            ls_hm='--'\n",
    "            \n",
    "        # Plot the data\n",
    "        plt.plot(k[i,:,j], Pk_in[i,:,j]/10**i, ls=ls_in, c=color_map(0), label=label_in)\n",
    "        plt.plot(k[i,:,j], Pk_hm[i,:,j]/10**i, ls=ls_hm, c=color_map(1), label=label_hm)\n",
    "    \n",
    "# Set the scale ranges\n",
    "plt.legend(fontsize=\"x-small\", frameon=False)\n",
    "\n",
    "\n",
    "# Plot the residual\n",
    "plt.figure(figsize=fig_size)\n",
    "plt.gcf().subplots_adjust(**plot_adjust)\n",
    "plt.xscale('log')\n",
    "plt.yscale('log')\n",
    "plt.ylim(1e-6, 1e-1)\n",
    "\n",
    "plt.xlabel(r'$k$ [Mpc$^{-1}$]')\n",
    "plt.ylabel(r\"$|\\Delta P(k)|/P(k)$\")\n",
    "\n",
    "cosmology_labels = [\"CCL1\", \"WMAP7\", \"Planck 2013\"]\n",
    "# Loop over redshifts and cosmological model\n",
    "for j, z in enumerate(z_list):\n",
    "    # Set the labels\n",
    "    if(j==0): ls='-'\n",
    "    if(j==1): ls='--'\n",
    "    plt.plot([], [], ls=ls, c=color_map(0), label=\"z={}\".format(z))\n",
    "    for i in range(nc):\n",
    "        # Plot the data\n",
    "        plt.plot(k[i,:,j], Pk_hm[i,:,j]/Pk_in[i,:,j]-1, ls=ls, c=color_map(i), label=cosmology_labels[i])\n",
    "        \n",
    "# Show the plot\n",
    "plt.legend(fontsize=\"x-small\", frameon=False, ncol=2)\n",
    "plt.axhline(accuracy, c=\"k\", ls=\"--\")\n",
    "\n",
    "plt.savefig(\"halo_model_benchmark.pdf\")"
   ]
  },
  {
   "cell_type": "markdown",
   "metadata": {},
   "source": [
    "The following plot illustrates the different components of the halo model."
   ]
  },
  {
   "cell_type": "code",
   "execution_count": null,
   "metadata": {
    "collapsed": false
   },
   "outputs": [],
   "source": [
    "cosmo = ccl.Cosmology(Omega_c=0.27, Omega_b=0.045, h=0.67, sigma8=0.8, n_s=0.96, Neff=3.04,\n",
    "                      transfer_function='class',\n",
    "                      matter_power_spectrum='halofit',\n",
    "                      mass_function='shethtormen',\n",
    "                      halo_concentration='duffy2008'\n",
    "                     )\n",
    "\n",
    "# Wavenumber\n",
    "kmin=1e-4\n",
    "kmax=1e1\n",
    "nk=128\n",
    "k = np.logspace(np.log10(kmin), np.log10(kmax), nk) \n",
    "\n",
    "# Scale factor\n",
    "a = 1. \n",
    "\n",
    "# Calculate all these different P(k)\n",
    "pk_li = ccl.linear_matter_power(cosmo, k, a)\n",
    "pk_nl = ccl.nonlin_matter_power(cosmo, k, a)\n",
    "pk_hm = ccl.halomodel_matter_power(cosmo, k, a)\n",
    "pk_1h = ccl.halomodel.onehalo_matter_power(cosmo, k, a)\n",
    "pk_2h = ccl.halomodel.twohalo_matter_power(cosmo, k, a)\n",
    "\n",
    "plt.figure(figsize=fig_size)\n",
    "plt.gcf().subplots_adjust(**plot_adjust)\n",
    "\n",
    "plt.plot(k, pk_li, c=color_map(0),  label='Linear')\n",
    "plt.plot(k, pk_nl, c=color_map(1),  label='Non-linear')\n",
    "plt.plot(k, pk_hm, c=color_map(2),  label='Halo model')\n",
    "plt.plot(k, pk_1h, c=color_map(0), ls=\":\",  label='One-halo term')\n",
    "plt.plot(k, pk_2h, c=color_map(0), ls=\"--\", label='Two-halo term')\n",
    "plt.xscale('log')\n",
    "plt.yscale('log')\n",
    "plt.xlabel(r'$k$ [Mpc$^{-1}$]')\n",
    "plt.ylabel(r'$P(k)$ [Mpc$^3$]')\n",
    "plt.ylim([1e1,1e5])\n",
    "plt.legend(fontsize=\"x-small\", frameon=False)\n",
    "plt.savefig(\"halomodel.pdf\")"
   ]
  },
  {
   "cell_type": "markdown",
   "metadata": {},
   "source": [
    "## Angular power spectra"
   ]
  },
  {
   "cell_type": "markdown",
   "metadata": {},
   "source": [
    "In what follows, we test the accuracy of the angular power spectra predicted by CCL for clustering, lensing and CMB lensing. Once more, we compare CCL runs to predictions made by independent codes (e.g. 3x2pt against CosmoLSS). We take two different approaches to the redshift distribution: a binned and an analytic one."
   ]
  },
  {
   "cell_type": "code",
   "execution_count": null,
   "metadata": {
    "collapsed": true
   },
   "outputs": [],
   "source": [
    "accuracy = 1e-3\n",
    "\n",
    "#Redshift distribution\n",
    "zmean1=1.0; zmean2=1.5;\n",
    "sigz1=0.15; sigz2=0.15;\n",
    "nzs=512;\n",
    "\n",
    "#Analytic redshift distributions\n",
    "z_a_1=np.linspace(zmean1-5*sigz1,zmean1+5*sigz1,nzs);\n",
    "z_a_2=np.linspace(zmean2-5*sigz2,zmean2+5*sigz2,nzs);\n",
    "pz_a_1=np.exp(-0.5*((z_a_1-zmean1)/sigz1)**2)\n",
    "pz_a_2=np.exp(-0.5*((z_a_2-zmean2)/sigz2)**2)\n",
    "#Bias parameters for these distributions\n",
    "bz_a_1=np.ones_like(z_a_1); bz_a_2=np.ones_like(z_a_2);\n",
    "\n",
    "#Binned redshift distributions and biases\n",
    "z_h_1,pz_h_1=np.loadtxt(\"../tests/benchmark/codecomp_step2_outputs/bin1_histo.txt\",unpack=True)[:,1:]\n",
    "z_h_2,pz_h_2=np.loadtxt(\"../tests/benchmark/codecomp_step2_outputs/bin2_histo.txt\",unpack=True)[:,1:]\n",
    "bz_h_1=np.ones_like(z_h_1); bz_h_2=np.ones_like(z_h_2);\n",
    "\n",
    "#IA amplitude arrays\n",
    "zi_h_1,az_h_1=np.loadtxt(\"../tests/benchmark/codecomp_step2_outputs/cclamparrhisto1nznb.txt\",unpack=True)\n",
    "zi_h_2,az_h_2=np.loadtxt(\"../tests/benchmark/codecomp_step2_outputs/cclamparrhisto2nznb.txt\",unpack=True)\n",
    "zi_a_1,az_a_1=np.loadtxt(\"../tests/benchmark/codecomp_step2_outputs/cclamparranalytic1nz512nb.txt\",unpack=True)\n",
    "zi_a_2,az_a_2=np.loadtxt(\"../tests/benchmark/codecomp_step2_outputs/cclamparranalytic2nz512nb.txt\",unpack=True)\n",
    "\n",
    "rz_a_1=np.ones_like(z_a_1); rz_a_2=np.ones_like(z_a_2);\n",
    "rz_h_1=np.ones_like(z_h_1); rz_h_2=np.ones_like(z_h_2);\n",
    "\n",
    "zarrs={'analytic':{'b1':{'z':z_a_1,'nz':pz_a_1,'bz':bz_a_1,'az':az_a_1,'rz':rz_a_1},'b2':{'z':z_a_2,'nz':pz_a_2,'bz':bz_a_2,'az':az_a_2,'rz':rz_a_2}},\n",
    "      'histo':{'b1':{'z':z_h_1,'nz':pz_h_1,'bz':bz_h_1,'az':az_h_1,'rz':rz_h_1},'b2':{'z':z_h_2,'nz':pz_h_2,'bz':bz_h_2,'az':az_h_2,'rz':rz_h_2}}}\n",
    "\n",
    "#Initialize tracers\n",
    "cosmo_cls=cosmo_list[-2]\n",
    "cosmo_cls_cmbl=cosmo_list[-1]\n",
    "trcrs={}\n",
    "for nztyp in ['analytic','histo'] :\n",
    "    trcrs[nztyp]={}\n",
    "    za=zarrs[nztyp]\n",
    "    trcrs[nztyp]['nc_1']=ccl.NumberCountsTracer(cosmo_cls,has_rsd=False,\n",
    "                                                dndz=(za['b1']['z'],za['b1']['nz']),\n",
    "                                                bias=(za['b1']['z'],za['b1']['bz']))\n",
    "    trcrs[nztyp]['nc_2']=ccl.NumberCountsTracer(cosmo_cls,has_rsd=False,\n",
    "                                                dndz=(za['b2']['z'],za['b2']['nz']),\n",
    "                                                bias=(za['b2']['z'],za['b2']['bz']))\n",
    "    trcrs[nztyp]['wl_1']=ccl.WeakLensingTracer(cosmo_cls,\n",
    "                                               dndz=(za['b1']['z'],za['b1']['nz']))\n",
    "    trcrs[nztyp]['wl_2']=ccl.WeakLensingTracer(cosmo_cls,\n",
    "                                               dndz=(za['b2']['z'],za['b2']['nz']))\n",
    "    trcrs[nztyp]['wli_1']=ccl.WeakLensingTracer(cosmo_cls,\n",
    "                                               dndz=(za['b1']['z'],za['b1']['nz']),\n",
    "                                                ia_bias=(za['b1']['z'],za['b1']['az']),\n",
    "                                               red_frac=(za['b1']['z'],za['b1']['rz']))\n",
    "    trcrs[nztyp]['wli_2']=ccl.WeakLensingTracer(cosmo_cls,\n",
    "                                               dndz=(za['b2']['z'],za['b2']['nz']), \n",
    "                                                ia_bias=(za['b2']['z'],za['b2']['az']),\n",
    "                                               red_frac=(za['b2']['z'],za['b2']['rz']))\n",
    "    trcrs[nztyp]['cmbl']=ccl.CMBLensingTracer(cosmo_cls,1100.)\n",
    "    trcrs[nztyp]['cmblb']=ccl.CMBLensingTracer(cosmo_cls_cmbl,1100.)\n",
    "    \n",
    "#Read in benchmark files \n",
    "#(Beyond \"1-1, 1-2, 2-2\", there are \"2-1\" components for galaxy-galaxy lensing included in the c unit test.)\n",
    "cl_bench={}\n",
    "for nztyp in ['analytic','histo'] :\n",
    "    cl_bench[nztyp]={}\n",
    "    l,cl=np.loadtxt(\"../tests/benchmark/codecomp_step2_outputs/run_b1b1\"+nztyp+\"_log_cl_dd.txt\",unpack=True)[:,:3001]\n",
    "    cl_bench[nztyp]['nc_1/nc_1']=cl\n",
    "    l,cl=np.loadtxt(\"../tests/benchmark/codecomp_step2_outputs/run_b1b2\"+nztyp+\"_log_cl_dd.txt\",unpack=True)[:,:3001]\n",
    "    cl_bench[nztyp]['nc_1/nc_2']=cl\n",
    "    l,cl=np.loadtxt(\"../tests/benchmark/codecomp_step2_outputs/run_b1b1\"+nztyp+\"_log_cl_dl.txt\",unpack=True)[:,:3001]\n",
    "    cl_bench[nztyp]['nc_1/wl_1']=cl\n",
    "    l,cl=np.loadtxt(\"../tests/benchmark/codecomp_step2_outputs/run_b1b2\"+nztyp+\"_log_cl_dl.txt\",unpack=True)[:,:3001]\n",
    "    cl_bench[nztyp]['nc_1/wl_2']=cl\n",
    "    l,cl=np.loadtxt(\"../tests/benchmark/codecomp_step2_outputs/run_b2b1\"+nztyp+\"_log_cl_dl.txt\",unpack=True)[:,:3001]\n",
    "    cl_bench[nztyp]['nc_2/wl_1']=cl\n",
    "    l,cl=np.loadtxt(\"../tests/benchmark/codecomp_step2_outputs/run_b1b1\"+nztyp+\"_log_cl_dc.txt\",unpack=True)[:,:3001]\n",
    "    cl_bench[nztyp]['nc_1/cmbl']=cl\n",
    "    l,cl=np.loadtxt(\"../tests/benchmark/codecomp_step2_outputs/run_b2b2\"+nztyp+\"_log_cl_dd.txt\",unpack=True)[:,:3001]\n",
    "    cl_bench[nztyp]['nc_2/nc_2']=cl\n",
    "    l,cl=np.loadtxt(\"../tests/benchmark/codecomp_step2_outputs/run_b2b2\"+nztyp+\"_log_cl_dl.txt\",unpack=True)[:,:3001]\n",
    "    cl_bench[nztyp]['nc_2/wl_2']=cl\n",
    "    l,cl=np.loadtxt(\"../tests/benchmark/codecomp_step2_outputs/run_b2b2\"+nztyp+\"_log_cl_dc.txt\",unpack=True)[:,:3001]\n",
    "    cl_bench[nztyp]['nc_2/cmbl']=cl\n",
    "    l,cl=np.loadtxt(\"../tests/benchmark/codecomp_step2_outputs/run_b1b1\"+nztyp+\"_log_cl_ii.txt\",unpack=True)[:,:3001]\n",
    "    cl_bench[nztyp]['wli_1/wli_1']=cl\n",
    "    l,cl=np.loadtxt(\"../tests/benchmark/codecomp_step2_outputs/run_b1b2\"+nztyp+\"_log_cl_ii.txt\",unpack=True)[:,:3001]\n",
    "    cl_bench[nztyp]['wli_1/wli_2']=cl\n",
    "    l,cl=np.loadtxt(\"../tests/benchmark/codecomp_step2_outputs/run_b2b2\"+nztyp+\"_log_cl_ii.txt\",unpack=True)[:,:3001]\n",
    "    cl_bench[nztyp]['wli_2/wli_2']=cl\n",
    "    l,cl=np.loadtxt(\"../tests/benchmark/codecomp_step2_outputs/run_b1b1\"+nztyp+\"_log_cl_li.txt\",unpack=True)[:,:3001]\n",
    "    cl_bench[nztyp]['wl_1/wli_1']=cl\n",
    "    l,cl=np.loadtxt(\"../tests/benchmark/codecomp_step2_outputs/run_b1b2\"+nztyp+\"_log_cl_li.txt\",unpack=True)[:,:3001]\n",
    "    cl_bench[nztyp]['wl_1/wli_2']=cl\n",
    "    l,cl=np.loadtxt(\"../tests/benchmark/codecomp_step2_outputs/run_b2b2\"+nztyp+\"_log_cl_li.txt\",unpack=True)[:,:3001]\n",
    "    cl_bench[nztyp]['wl_2/wli_2']=cl\n",
    "    l,cl=np.loadtxt(\"../tests/benchmark/codecomp_step2_outputs/run_b1b1\"+nztyp+\"_log_cl_ll.txt\",unpack=True)[:,:3001]\n",
    "    cl_bench[nztyp]['wl_1/wl_1']=cl\n",
    "    l,cl=np.loadtxt(\"../tests/benchmark/codecomp_step2_outputs/run_b1b2\"+nztyp+\"_log_cl_ll.txt\",unpack=True)[:,:3001]\n",
    "    cl_bench[nztyp]['wl_1/wl_2']=cl\n",
    "    l,cl=np.loadtxt(\"../tests/benchmark/codecomp_step2_outputs/run_b1b1\"+nztyp+\"_log_cl_lc.txt\",unpack=True)[:,:3001]\n",
    "    cl_bench[nztyp]['wl_1/cmbl']=cl\n",
    "    l,cl=np.loadtxt(\"../tests/benchmark/codecomp_step2_outputs/run_b2b2\"+nztyp+\"_log_cl_ll.txt\",unpack=True)[:,:3001]\n",
    "    cl_bench[nztyp]['wl_2/wl_2']=cl\n",
    "    l,cl=np.loadtxt(\"../tests/benchmark/codecomp_step2_outputs/run_b2b2\"+nztyp+\"_log_cl_lc.txt\",unpack=True)[:,:3001]\n",
    "    cl_bench[nztyp]['wl_2/cmbl']=cl\n",
    "    l,cl=np.loadtxt(\"../tests/benchmark/codecomp_step2_outputs/run_log_cl_cc.txt\",unpack=True)[:,:3001]\n",
    "    cl_bench[nztyp]['cmbl/cmbl']=cl\n",
    "    l,cl=np.loadtxt(\"../tests/benchmark/codecomp_step2_outputs/run_b1b1\"+nztyp+\"_log_cl_di.txt\",unpack=True)[:,:3001]\n",
    "    cl_bench[nztyp]['nc_1/wli_1']=cl\n",
    "    l,cl=np.loadtxt(\"../tests/benchmark/codecomp_step2_outputs/run_b1b2\"+nztyp+\"_log_cl_di.txt\",unpack=True)[:,:3001]\n",
    "    cl_bench[nztyp]['nc_1/wli_2']=cl\n",
    "    l,cl=np.loadtxt(\"../tests/benchmark/codecomp_step2_outputs/run_b2b1\"+nztyp+\"_log_cl_di.txt\",unpack=True)[:,:3001]\n",
    "    cl_bench[nztyp]['nc_2/wli_1']=cl\n",
    "    l,cl=np.loadtxt(\"../tests/benchmark/codecomp_step2_outputs/run_b2b2\"+nztyp+\"_log_cl_di.txt\",unpack=True)[:,:3001]\n",
    "    cl_bench[nztyp]['nc_2/wli_2']=cl\n",
    "    cl_bench[nztyp]['wltot_1/wltot_1']=cl_bench[nztyp]['wl_1/wl_1']+cl_bench[nztyp]['wl_1/wli_1']+cl_bench[nztyp]['wli_1/wli_1']\n",
    "    cl_bench[nztyp]['wltot_1/wltot_2']=cl_bench[nztyp]['wl_1/wl_2']+cl_bench[nztyp]['wl_1/wli_2']+cl_bench[nztyp]['wli_1/wli_2']\n",
    "    cl_bench[nztyp]['wltot_2/wltot_2']=cl_bench[nztyp]['wl_2/wl_2']+cl_bench[nztyp]['wl_2/wli_2']+cl_bench[nztyp]['wli_2/wli_2']\n",
    "    cl_bench[nztyp]['nc_1/wltot_1']=cl_bench[nztyp]['nc_1/wl_1']+cl_bench[nztyp]['nc_1/wli_1']\n",
    "    cl_bench[nztyp]['nc_1/wltot_2']=cl_bench[nztyp]['nc_1/wl_2']+cl_bench[nztyp]['nc_1/wli_2']\n",
    "    cl_bench[nztyp]['nc_2/wltot_1']=cl_bench[nztyp]['nc_2/wl_1']+cl_bench[nztyp]['nc_2/wli_1']\n",
    "    cl_bench[nztyp]['nc_2/wltot_2']=cl_bench[nztyp]['nc_2/wl_2']+cl_bench[nztyp]['nc_2/wli_2']\n",
    "\n",
    "cl_ccl={}\n",
    "el_ccl={}\n",
    "el_bench={}\n",
    "ells=np.loadtxt(\"larr_cls.txt\").astype(int)\n",
    "ells3k=np.linspace(0,3000,3001).astype(int)\n",
    "for nztyp in ['analytic','histo'] :\n",
    "    #Limber prefactors\n",
    "    lf_dl=(ells+0.5)**2/np.sqrt((ells+2.)*(ells+1.)*ells*(ells-1.))\n",
    "    lf_dc=(ells+0.5)**2/(ells*(ells+1.))\n",
    "    lf_ll=ells*(ells+1.)/np.sqrt((ells+2.)*(ells+1.)*ells*(ells-1.))\n",
    "    \n",
    "    #CCL Power spectra\n",
    "    cl_ccl[nztyp]={}\n",
    "    cl_ccl[nztyp]['nc_1/nc_1']=ccl.angular_cl(cosmo_cls,\n",
    "                                       trcrs[nztyp]['nc_1'],trcrs[nztyp]['nc_1'],ells)\n",
    "    cl_ccl[nztyp]['nc_1/nc_2']=ccl.angular_cl(cosmo_cls,\n",
    "                                       trcrs[nztyp]['nc_1'],trcrs[nztyp]['nc_2'],ells)\n",
    "    cl_ccl[nztyp]['nc_1/wl_1']=ccl.angular_cl(cosmo_cls,\n",
    "                                       trcrs[nztyp]['nc_1'],trcrs[nztyp]['wl_1'],ells)*lf_dl\n",
    "    cl_ccl[nztyp]['nc_1/wl_2']=ccl.angular_cl(cosmo_cls,\n",
    "                                       trcrs[nztyp]['nc_1'],trcrs[nztyp]['wl_2'],ells)*lf_dl\n",
    "    cl_ccl[nztyp]['nc_2/wl_1']=ccl.angular_cl(cosmo_cls,\n",
    "                                       trcrs[nztyp]['nc_2'],trcrs[nztyp]['wl_1'],ells)*lf_dl\n",
    "    cl_ccl[nztyp]['nc_1/cmbl']=ccl.angular_cl(cosmo_cls,\n",
    "                                       trcrs[nztyp]['nc_1'],trcrs[nztyp]['cmbl'],ells)*lf_dc\n",
    "    cl_ccl[nztyp]['nc_2/nc_2']=ccl.angular_cl(cosmo_cls,\n",
    "                                       trcrs[nztyp]['nc_2'],trcrs[nztyp]['nc_2'],ells)\n",
    "    cl_ccl[nztyp]['nc_2/wl_2']=ccl.angular_cl(cosmo_cls,\n",
    "                                       trcrs[nztyp]['nc_2'],trcrs[nztyp]['wl_2'],ells)*lf_dl\n",
    "    cl_ccl[nztyp]['nc_2/cmbl']=ccl.angular_cl(cosmo_cls,\n",
    "                                       trcrs[nztyp]['nc_2'],trcrs[nztyp]['cmbl'],ells)*lf_dc\n",
    "    cl_ccl[nztyp]['wl_1/wl_1']=ccl.angular_cl(cosmo_cls,trcrs[nztyp]['wl_1'],trcrs[nztyp]['wl_1'],ells)*lf_dl**2\n",
    "    cl_ccl[nztyp]['wl_1/wl_2']=ccl.angular_cl(cosmo_cls,trcrs[nztyp]['wl_1'],trcrs[nztyp]['wl_2'],ells)*lf_dl**2\n",
    "    cl_ccl[nztyp]['wl_1/cmbl']=ccl.angular_cl(cosmo_cls,\n",
    "                                       trcrs[nztyp]['wl_1'],trcrs[nztyp]['cmbl'],ells)*lf_ll\n",
    "    cl_ccl[nztyp]['wl_2/wl_2']=ccl.angular_cl(cosmo_cls,trcrs[nztyp]['wl_2'],trcrs[nztyp]['wl_2'],ells)*lf_dl**2\n",
    "    cl_ccl[nztyp]['wl_2/cmbl']=ccl.angular_cl(cosmo_cls,\n",
    "                                       trcrs[nztyp]['wl_2'],trcrs[nztyp]['cmbl'],ells)*lf_ll\n",
    "    cl_ccl[nztyp]['cmbl/cmbl']=ccl.angular_cl(cosmo_cls,\n",
    "                                       trcrs[nztyp]['cmblb'],trcrs[nztyp]['cmblb'],ells)\n",
    "    cl_ccl[nztyp]['nc_1/wli_1']=(ccl.angular_cl(cosmo_cls,trcrs[nztyp]['nc_1'],trcrs[nztyp]['wli_1'],ells)-ccl.angular_cl(cosmo_cls,trcrs[nztyp]['nc_1'],trcrs[nztyp]['wl_1'],ells))*lf_dl\n",
    "    cl_ccl[nztyp]['nc_1/wli_2']=(ccl.angular_cl(cosmo_cls,trcrs[nztyp]['nc_1'],trcrs[nztyp]['wli_2'],ells)-ccl.angular_cl(cosmo_cls,trcrs[nztyp]['nc_1'],trcrs[nztyp]['wl_2'],ells))*lf_dl\n",
    "    cl_ccl[nztyp]['nc_2/wli_1']=(ccl.angular_cl(cosmo_cls,trcrs[nztyp]['nc_2'],trcrs[nztyp]['wli_1'],ells)-ccl.angular_cl(cosmo_cls,trcrs[nztyp]['nc_2'],trcrs[nztyp]['wl_1'],ells))*lf_dl\n",
    "    cl_ccl[nztyp]['nc_2/wli_2']=(ccl.angular_cl(cosmo_cls,trcrs[nztyp]['nc_2'],trcrs[nztyp]['wli_2'],ells)-ccl.angular_cl(cosmo_cls,trcrs[nztyp]['nc_2'],trcrs[nztyp]['wl_2'],ells))*lf_dl\n",
    "    cl_ccl[nztyp]['wli_1/wli_1']=(ccl.angular_cl(cosmo_cls,trcrs[nztyp]['wli_1'],trcrs[nztyp]['wli_1'],ells)+ccl.angular_cl(cosmo_cls,trcrs[nztyp]['wl_1'],trcrs[nztyp]['wl_1'],ells)-2*ccl.angular_cl(cosmo_cls,trcrs[nztyp]['wli_1'],trcrs[nztyp]['wl_1'],ells))*lf_dl**2\n",
    "    cl_ccl[nztyp]['wli_1/wli_2']=(ccl.angular_cl(cosmo_cls,trcrs[nztyp]['wli_1'],trcrs[nztyp]['wli_2'],ells)+ccl.angular_cl(cosmo_cls,trcrs[nztyp]['wl_1'],trcrs[nztyp]['wl_2'],ells)-ccl.angular_cl(cosmo_cls,trcrs[nztyp]['wli_1'],trcrs[nztyp]['wl_2'],ells)-ccl.angular_cl(cosmo_cls,trcrs[nztyp]['wl_1'],trcrs[nztyp]['wli_2'],ells))*lf_dl**2\n",
    "    cl_ccl[nztyp]['wli_2/wli_2']=(ccl.angular_cl(cosmo_cls,trcrs[nztyp]['wli_2'],trcrs[nztyp]['wli_2'],ells)+ccl.angular_cl(cosmo_cls,trcrs[nztyp]['wl_2'],trcrs[nztyp]['wl_2'],ells)-2*ccl.angular_cl(cosmo_cls,trcrs[nztyp]['wli_2'],trcrs[nztyp]['wl_2'],ells))*lf_dl**2\n",
    "    cl_ccl[nztyp]['wl_1/wli_1']=2*(ccl.angular_cl(cosmo_cls,trcrs[nztyp]['wl_1'],trcrs[nztyp]['wli_1'],ells)-ccl.angular_cl(cosmo_cls,trcrs[nztyp]['wl_1'],trcrs[nztyp]['wl_1'],ells))*lf_dl**2\n",
    "    cl_ccl[nztyp]['wl_1/wli_2']=(ccl.angular_cl(cosmo_cls,trcrs[nztyp]['wl_1'],trcrs[nztyp]['wli_2'],ells)+ccl.angular_cl(cosmo_cls,trcrs[nztyp]['wli_1'],trcrs[nztyp]['wl_2'],ells)-2*ccl.angular_cl(cosmo_cls,trcrs[nztyp]['wl_1'],trcrs[nztyp]['wl_2'],ells))*lf_dl**2\n",
    "    cl_ccl[nztyp]['wl_2/wli_2']=2*(ccl.angular_cl(cosmo_cls,trcrs[nztyp]['wl_2'],trcrs[nztyp]['wli_2'],ells)-ccl.angular_cl(cosmo_cls,trcrs[nztyp]['wl_2'],trcrs[nztyp]['wl_2'],ells))*lf_dl**2\n",
    "    cl_ccl[nztyp]['wltot_1/wltot_1']=(ccl.angular_cl(cosmo_cls,trcrs[nztyp]['wli_1'],trcrs[nztyp]['wli_1'],ells))*lf_dl**2\n",
    "    cl_ccl[nztyp]['wltot_1/wltot_2']=(ccl.angular_cl(cosmo_cls,trcrs[nztyp]['wli_1'],trcrs[nztyp]['wli_2'],ells))*lf_dl**2\n",
    "    cl_ccl[nztyp]['wltot_2/wltot_2']=(ccl.angular_cl(cosmo_cls,trcrs[nztyp]['wli_2'],trcrs[nztyp]['wli_2'],ells))*lf_dl**2\n",
    "    cl_ccl[nztyp]['nc_1/wltot_1']=(ccl.angular_cl(cosmo_cls,trcrs[nztyp]['nc_1'],trcrs[nztyp]['wli_1'],ells))*lf_dl\n",
    "    cl_ccl[nztyp]['nc_1/wltot_2']=(ccl.angular_cl(cosmo_cls,trcrs[nztyp]['nc_1'],trcrs[nztyp]['wli_2'],ells))*lf_dl\n",
    "    cl_ccl[nztyp]['nc_2/wltot_1']=(ccl.angular_cl(cosmo_cls,trcrs[nztyp]['nc_2'],trcrs[nztyp]['wli_1'],ells))*lf_dl\n",
    "    cl_ccl[nztyp]['nc_2/wltot_2']=(ccl.angular_cl(cosmo_cls,trcrs[nztyp]['nc_2'],trcrs[nztyp]['wli_2'],ells))*lf_dl\n",
    "\n",
    "    #Cosmic variance errors\n",
    "    el_ccl[nztyp]={}\n",
    "    el_bench[nztyp]={}\n",
    "    el_ccl[nztyp]['nc_1/nc_1']=np.sqrt((cl_ccl[nztyp]['nc_1/nc_1']*cl_ccl[nztyp]['nc_1/nc_1']+\n",
    "                                        cl_ccl[nztyp]['nc_1/nc_1']**2)/(2*ells+1.))\n",
    "    el_ccl[nztyp]['nc_1/nc_2']=np.sqrt((cl_ccl[nztyp]['nc_1/nc_1']*cl_ccl[nztyp]['nc_2/nc_2']+\n",
    "                                        cl_ccl[nztyp]['nc_1/nc_2']**2)/(2*ells+1.))\n",
    "    el_ccl[nztyp]['nc_1/wl_1']=np.sqrt((cl_ccl[nztyp]['nc_1/nc_1']*cl_ccl[nztyp]['wl_1/wl_1']+\n",
    "                                        cl_ccl[nztyp]['nc_1/wl_1']**2)/(2*ells+1.))\n",
    "    el_ccl[nztyp]['nc_1/wl_2']=np.sqrt((cl_ccl[nztyp]['nc_1/nc_1']*cl_ccl[nztyp]['wl_2/wl_2']+\n",
    "                                        cl_ccl[nztyp]['nc_1/wl_2']**2)/(2*ells+1.))\n",
    "    el_ccl[nztyp]['nc_2/wl_1']=np.sqrt((cl_ccl[nztyp]['nc_2/nc_2']*cl_ccl[nztyp]['wl_1/wl_1']+\n",
    "                                        cl_ccl[nztyp]['nc_2/wl_1']**2)/(2*ells+1.))\n",
    "    el_ccl[nztyp]['nc_1/cmbl']=np.sqrt((cl_ccl[nztyp]['nc_1/nc_1']*cl_ccl[nztyp]['cmbl/cmbl']+\n",
    "                                        cl_ccl[nztyp]['nc_1/cmbl']**2)/(2*ells+1.))\n",
    "    el_ccl[nztyp]['nc_2/nc_2']=np.sqrt((cl_ccl[nztyp]['nc_2/nc_2']*cl_ccl[nztyp]['nc_2/nc_2']+\n",
    "                                        cl_ccl[nztyp]['nc_2/nc_2']**2)/(2*ells+1.))\n",
    "    el_ccl[nztyp]['nc_2/wl_2']=np.sqrt((cl_ccl[nztyp]['nc_2/nc_2']*cl_ccl[nztyp]['wl_2/wl_2']+\n",
    "                                        cl_ccl[nztyp]['nc_2/wl_2']**2)/(2*ells+1.))\n",
    "    el_ccl[nztyp]['nc_2/cmbl']=np.sqrt((cl_ccl[nztyp]['nc_2/nc_2']*cl_ccl[nztyp]['cmbl/cmbl']+\n",
    "                                        cl_ccl[nztyp]['nc_2/cmbl']**2)/(2*ells+1.))\n",
    "    el_ccl[nztyp]['wl_1/wl_1']=np.sqrt((cl_ccl[nztyp]['wl_1/wl_1']*cl_ccl[nztyp]['wl_1/wl_1']+\n",
    "                                        cl_ccl[nztyp]['wl_1/wl_1']**2)/(2*ells+1.))\n",
    "    el_ccl[nztyp]['wl_1/wl_2']=np.sqrt((cl_ccl[nztyp]['wl_1/wl_1']*cl_ccl[nztyp]['wl_2/wl_2']+\n",
    "                                        cl_ccl[nztyp]['wl_1/wl_2']**2)/(2*ells+1.))\n",
    "    el_ccl[nztyp]['wl_1/cmbl']=np.sqrt((cl_ccl[nztyp]['wl_1/wl_1']*cl_ccl[nztyp]['cmbl/cmbl']+\n",
    "                                        cl_ccl[nztyp]['wl_1/cmbl']**2)/(2*ells+1.))\n",
    "    el_ccl[nztyp]['wl_2/wl_2']=np.sqrt((cl_ccl[nztyp]['wl_2/wl_2']*cl_ccl[nztyp]['wl_2/wl_2']+\n",
    "                                        cl_ccl[nztyp]['wl_2/wl_2']**2)/(2*ells+1.))\n",
    "    el_ccl[nztyp]['wl_2/cmbl']=np.sqrt((cl_ccl[nztyp]['wl_2/wl_2']*cl_ccl[nztyp]['cmbl/cmbl']+\n",
    "                                        cl_ccl[nztyp]['wl_2/cmbl']**2)/(2*ells+1.))\n",
    "    el_ccl[nztyp]['cmbl/cmbl']=np.sqrt((cl_ccl[nztyp]['cmbl/cmbl']*cl_ccl[nztyp]['cmbl/cmbl']+\n",
    "                                        cl_ccl[nztyp]['cmbl/cmbl']**2)/(2*ells+1.))\n",
    "    el_ccl[nztyp]['nc_1/wltot_1']=np.sqrt((cl_ccl[nztyp]['nc_1/nc_1']*cl_ccl[nztyp]['wltot_1/wltot_1']+\n",
    "                                        cl_ccl[nztyp]['nc_1/wltot_1']**2)/(2*ells+1.))\n",
    "    el_ccl[nztyp]['nc_1/wltot_2']=np.sqrt((cl_ccl[nztyp]['nc_1/nc_1']*cl_ccl[nztyp]['wltot_2/wltot_2']+\n",
    "                                        cl_ccl[nztyp]['nc_1/wltot_2']**2)/(2*ells+1.))\n",
    "    el_ccl[nztyp]['nc_2/wltot_1']=np.sqrt((cl_ccl[nztyp]['nc_2/nc_2']*cl_ccl[nztyp]['wltot_1/wltot_1']+\n",
    "                                        cl_ccl[nztyp]['nc_2/wltot_1']**2)/(2*ells+1.))\n",
    "    el_ccl[nztyp]['nc_2/wltot_2']=np.sqrt((cl_ccl[nztyp]['nc_2/nc_2']*cl_ccl[nztyp]['wltot_2/wltot_2']+\n",
    "                                        cl_ccl[nztyp]['nc_2/wltot_2']**2)/(2*ells+1.))\n",
    "    el_ccl[nztyp]['wltot_1/wltot_1']=np.sqrt((cl_ccl[nztyp]['wltot_1/wltot_1']*cl_ccl[nztyp]['wltot_1/wltot_1']+\n",
    "                                        cl_ccl[nztyp]['wltot_1/wltot_1']**2)/(2*ells+1.))\n",
    "    el_ccl[nztyp]['wltot_1/wltot_2']=np.sqrt((cl_ccl[nztyp]['wltot_1/wltot_1']*cl_ccl[nztyp]['wltot_2/wltot_2']+\n",
    "                                        cl_ccl[nztyp]['wltot_1/wltot_2']**2)/(2*ells+1.))\n",
    "    el_ccl[nztyp]['wltot_2/wltot_2']=np.sqrt((cl_ccl[nztyp]['wltot_2/wltot_2']*cl_ccl[nztyp]['wltot_2/wltot_2']+\n",
    "                                        cl_ccl[nztyp]['wltot_2/wltot_2']**2)/(2*ells+1.))\n",
    "    #Using total error for intrinsic-intrinsic, shear-intrinsic, galaxy-intrinsic terms; CCL needs to be improved to avoid spikes\n",
    "    el_ccl[nztyp]['wli_1/wli_1']=el_ccl[nztyp]['wltot_1/wltot_1']\n",
    "    el_ccl[nztyp]['wli_1/wli_2']=el_ccl[nztyp]['wltot_1/wltot_2']\n",
    "    el_ccl[nztyp]['wli_2/wli_2']=el_ccl[nztyp]['wltot_2/wltot_2']\n",
    "    el_ccl[nztyp]['wl_1/wli_1']=el_ccl[nztyp]['wltot_1/wltot_1']\n",
    "    el_ccl[nztyp]['wl_1/wli_2']=el_ccl[nztyp]['wltot_1/wltot_2']\n",
    "    el_ccl[nztyp]['wl_2/wli_2']=el_ccl[nztyp]['wltot_2/wltot_2']\n",
    "    el_ccl[nztyp]['nc_1/wli_1'] = el_ccl[nztyp]['nc_1/wltot_1']\n",
    "    el_ccl[nztyp]['nc_1/wli_2'] = el_ccl[nztyp]['nc_1/wltot_2']\n",
    "    el_ccl[nztyp]['nc_2/wli_1'] = el_ccl[nztyp]['nc_2/wltot_1']\n",
    "    el_ccl[nztyp]['nc_2/wli_2'] = el_ccl[nztyp]['nc_2/wltot_2']\n",
    "   \n",
    "    #Obtaining the error using benchmark files instead (not fiducially used)\n",
    "    el_bench[nztyp]={}\n",
    "    el_bench[nztyp]['nc_1/nc_1']=np.sqrt((cl_bench[nztyp]['nc_1/nc_1']*cl_bench[nztyp]['nc_1/nc_1']+\n",
    "                                        cl_bench[nztyp]['nc_1/nc_1']**2)/(2*ells3k+1.))\n",
    "    el_bench[nztyp]['nc_1/nc_2']=np.sqrt((cl_bench[nztyp]['nc_1/nc_1']*cl_bench[nztyp]['nc_2/nc_2']+\n",
    "                                        cl_bench[nztyp]['nc_1/nc_2']**2)/(2*ells3k+1.))\n",
    "    el_bench[nztyp]['nc_1/wl_1']=np.sqrt((cl_bench[nztyp]['nc_1/nc_1']*cl_bench[nztyp]['wl_1/wl_1']+\n",
    "                                        cl_bench[nztyp]['nc_1/wl_1']**2)/(2*ells3k+1.))\n",
    "    el_bench[nztyp]['nc_1/wl_2']=np.sqrt((cl_bench[nztyp]['nc_1/nc_1']*cl_bench[nztyp]['wl_2/wl_2']+\n",
    "                                        cl_bench[nztyp]['nc_1/wl_2']**2)/(2*ells3k+1.))\n",
    "    el_bench[nztyp]['nc_2/wl_1']=np.sqrt((cl_bench[nztyp]['nc_2/nc_2']*cl_bench[nztyp]['wl_1/wl_1']+\n",
    "                                        cl_bench[nztyp]['nc_2/wl_1']**2)/(2*ells3k+1.))\n",
    "    el_bench[nztyp]['nc_1/cmbl']=np.sqrt((cl_bench[nztyp]['nc_1/nc_1']*cl_bench[nztyp]['cmbl/cmbl']+\n",
    "                                        cl_bench[nztyp]['nc_1/cmbl']**2)/(2*ells3k+1.))\n",
    "    el_bench[nztyp]['nc_2/nc_2']=np.sqrt((cl_bench[nztyp]['nc_2/nc_2']*cl_bench[nztyp]['nc_2/nc_2']+\n",
    "                                        cl_bench[nztyp]['nc_2/nc_2']**2)/(2*ells3k+1.))\n",
    "    el_bench[nztyp]['nc_2/wl_2']=np.sqrt((cl_bench[nztyp]['nc_2/nc_2']*cl_bench[nztyp]['wl_2/wl_2']+\n",
    "                                        cl_bench[nztyp]['nc_2/wl_2']**2)/(2*ells3k+1.))\n",
    "    el_bench[nztyp]['nc_2/cmbl']=np.sqrt((cl_bench[nztyp]['nc_2/nc_2']*cl_bench[nztyp]['cmbl/cmbl']+\n",
    "                                        cl_bench[nztyp]['nc_2/cmbl']**2)/(2*ells3k+1.))\n",
    "    el_bench[nztyp]['wl_1/wl_1']=np.sqrt((cl_bench[nztyp]['wl_1/wl_1']*cl_bench[nztyp]['wl_1/wl_1']+\n",
    "                                        cl_bench[nztyp]['wl_1/wl_1']**2)/(2*ells3k+1.))\n",
    "    el_bench[nztyp]['wl_1/wl_2']=np.sqrt((cl_bench[nztyp]['wl_1/wl_1']*cl_bench[nztyp]['wl_2/wl_2']+\n",
    "                                        cl_bench[nztyp]['wl_1/wl_2']**2)/(2*ells3k+1.))\n",
    "    el_bench[nztyp]['wl_1/cmbl']=np.sqrt((cl_bench[nztyp]['wl_1/wl_1']*cl_bench[nztyp]['cmbl/cmbl']+\n",
    "                                        cl_bench[nztyp]['wl_1/cmbl']**2)/(2*ells3k+1.))\n",
    "    el_bench[nztyp]['wl_2/wl_2']=np.sqrt((cl_bench[nztyp]['wl_2/wl_2']*cl_bench[nztyp]['wl_2/wl_2']+\n",
    "                                        cl_bench[nztyp]['wl_2/wl_2']**2)/(2*ells3k+1.))\n",
    "    el_bench[nztyp]['wl_2/cmbl']=np.sqrt((cl_bench[nztyp]['wl_2/wl_2']*cl_bench[nztyp]['cmbl/cmbl']+\n",
    "                                        cl_bench[nztyp]['wl_2/cmbl']**2)/(2*ells3k+1.))\n",
    "    el_bench[nztyp]['cmbl/cmbl']=np.sqrt((cl_bench[nztyp]['cmbl/cmbl']*cl_bench[nztyp]['cmbl/cmbl']+\n",
    "                                        cl_bench[nztyp]['cmbl/cmbl']**2)/(2*ells3k+1.))\n",
    "    el_bench[nztyp]['nc_1/wltot_1']=np.sqrt((cl_bench[nztyp]['nc_1/nc_1']*cl_bench[nztyp]['wltot_1/wltot_1']+\n",
    "                                        cl_bench[nztyp]['nc_1/wltot_1']**2)/(2*ells3k+1.))\n",
    "    el_bench[nztyp]['nc_1/wltot_2']=np.sqrt((cl_bench[nztyp]['nc_1/nc_1']*cl_bench[nztyp]['wltot_2/wltot_2']+\n",
    "                                        cl_bench[nztyp]['nc_1/wltot_2']**2)/(2*ells3k+1.))\n",
    "    el_bench[nztyp]['nc_2/wltot_1']=np.sqrt((cl_bench[nztyp]['nc_2/nc_2']*cl_bench[nztyp]['wltot_1/wltot_1']+\n",
    "                                        cl_bench[nztyp]['nc_2/wltot_1']**2)/(2*ells3k+1.))\n",
    "    el_bench[nztyp]['nc_2/wltot_2']=np.sqrt((cl_bench[nztyp]['nc_2/nc_2']*cl_bench[nztyp]['wltot_2/wltot_2']+\n",
    "                                        cl_bench[nztyp]['nc_2/wltot_2']**2)/(2*ells3k+1.))\n",
    "    el_bench[nztyp]['wltot_1/wltot_1']=np.sqrt((cl_bench[nztyp]['wltot_1/wltot_1']*cl_bench[nztyp]['wltot_1/wltot_1']+\n",
    "                                        cl_bench[nztyp]['wltot_1/wltot_1']**2)/(2*ells3k+1.))\n",
    "    el_bench[nztyp]['wltot_1/wltot_2']=np.sqrt((cl_bench[nztyp]['wltot_1/wltot_1']*cl_bench[nztyp]['wltot_2/wltot_2']+\n",
    "                                        cl_bench[nztyp]['wltot_1/wltot_2']**2)/(2*ells3k+1.))\n",
    "    el_bench[nztyp]['wltot_2/wltot_2']=np.sqrt((cl_bench[nztyp]['wltot_2/wltot_2']*cl_bench[nztyp]['wltot_2/wltot_2']+\n",
    "                                        cl_bench[nztyp]['wltot_2/wltot_2']**2)/(2*ells3k+1.))\n",
    "    #Using total error for intrinsic-intrinsic, shear-intrinsic, galaxy-intrinsic terms; CCL needs to be improved to avoid spikes\n",
    "    el_bench[nztyp]['wli_1/wli_1']=el_bench[nztyp]['wltot_1/wltot_1']\n",
    "    el_bench[nztyp]['wli_1/wli_2']=el_bench[nztyp]['wltot_1/wltot_2']\n",
    "    el_bench[nztyp]['wli_2/wli_2']=el_bench[nztyp]['wltot_2/wltot_2']\n",
    "    el_bench[nztyp]['wl_1/wli_1']=el_bench[nztyp]['wltot_1/wltot_1']\n",
    "    el_bench[nztyp]['wl_1/wli_2']=el_bench[nztyp]['wltot_1/wltot_2']\n",
    "    el_bench[nztyp]['wl_2/wli_2']=el_bench[nztyp]['wltot_2/wltot_2']\n",
    "    el_bench[nztyp]['nc_1/wli_1'] = el_bench[nztyp]['nc_1/wltot_1']\n",
    "    el_bench[nztyp]['nc_1/wli_2'] = el_bench[nztyp]['nc_1/wltot_2']\n",
    "    el_bench[nztyp]['nc_2/wli_1'] = el_bench[nztyp]['nc_2/wltot_1']\n",
    "    el_bench[nztyp]['nc_2/wli_2'] = el_bench[nztyp]['nc_2/wltot_2']\n",
    "\n",
    "    \n",
    "#And make a figure that compares the results, plotting the fractional relative difference\n",
    "#between benchmark angular spectra and CCL output. We make each figure in a separate block below\n",
    "ltypes={'analytic':'-','histo':'--'}\n"
   ]
  },
  {
   "cell_type": "code",
   "execution_count": null,
   "metadata": {
    "collapsed": false
   },
   "outputs": [],
   "source": [
    "#Galaxy-Galaxy\n",
    "title=r' $C_\\ell$ Galaxy-Galaxy'\n",
    "plt.figure(figsize=fig_size)\n",
    "plt.title(title)\n",
    "plt.gcf().subplots_adjust(**plot_adjust)\n",
    "plt.ylabel(r'$|\\Delta C_\\ell|/\\sigma_\\ell$')\n",
    "plt.xlabel(r'$\\ell$')\n",
    "for itag,tag in enumerate(['nc_1/nc_1','nc_1/nc_2','nc_2/nc_2']) :\n",
    "    for nztyp in ['analytic','histo'] :\n",
    "        plt.plot(ells,np.fabs(cl_bench[nztyp][tag][ells]-cl_ccl[nztyp][tag])/el_ccl[nztyp][tag],\n",
    "                 ls=ltypes[nztyp],c=color_map(itag))\n",
    "plt.plot([-1,-1],[-1,-1],ls='-',c=color_map(0),label='1-1')\n",
    "plt.plot([-1,-1],[-1,-1],ls='-',c=color_map(1),label='1-2')\n",
    "plt.plot([-1,-1],[-1,-1],ls='-',c=color_map(2),label='2-2')\n",
    "plt.plot([-1,-1],[-1,-1],ls='-',c='k',label='Analytic $N(z)$')\n",
    "plt.plot([-1,-1],[-1,-1],ls='--',c='k',label='Binned $N(z)$')\n",
    "plt.axhline(0.1, c=\"k\", ls=\"-.\")\n",
    "plt.xscale('log');\n",
    "plt.yscale('log');\n",
    "plt.ylim([1e-6, 10])\n",
    "plt.xlim([2,2980])\n",
    "plt.legend(loc='upper left',ncol=2, frameon=False, fontsize=\"x-small\");\n",
    "plt.savefig('Cl_dd.pdf')\n",
    "plt.show();\n",
    "plt.clf();\n"
   ]
  },
  {
   "cell_type": "code",
   "execution_count": null,
   "metadata": {
    "collapsed": false
   },
   "outputs": [],
   "source": [
    "#Shear-Shear\n",
    "title=r' $C_\\ell$ Shear-Shear'\n",
    "plt.figure(figsize=fig_size)\n",
    "plt.title(title)\n",
    "plt.gcf().subplots_adjust(**plot_adjust)\n",
    "plt.ylabel(r'$|\\Delta C_\\ell|/\\sigma_\\ell$')\n",
    "plt.xlabel(r'$\\ell$')\n",
    "for itag,tag in enumerate(['wl_1/wl_1','wl_1/wl_2','wl_2/wl_2']) :\n",
    "    for nztyp in ['analytic','histo'] :\n",
    "        plt.plot(ells,np.fabs(cl_bench[nztyp][tag][ells]-cl_ccl[nztyp][tag])/el_ccl[nztyp][tag],\n",
    "                 ls=ltypes[nztyp],c=color_map(itag))\n",
    "plt.plot([-1,-1],[-1,-1],ls='-',c=color_map(0),label='1-1')\n",
    "plt.plot([-1,-1],[-1,-1],ls='-',c=color_map(1),label='1-2')\n",
    "plt.plot([-1,-1],[-1,-1],ls='-',c=color_map(2),label='2-2')\n",
    "plt.plot([-1,-1],[-1,-1],ls='-',c='k',label='Analytic $N(z)$')\n",
    "plt.plot([-1,-1],[-1,-1],ls='--',c='k',label='Binned $N(z)$')\n",
    "plt.axhline(0.1, c=\"k\", ls=\"-.\")\n",
    "plt.xscale('log');\n",
    "plt.yscale('log');\n",
    "plt.ylim([1e-6, 10])\n",
    "plt.xlim([2,2980])\n",
    "plt.legend(loc='upper left',ncol=2, frameon=False, fontsize=\"x-small\");\n",
    "plt.savefig('Cl_ll.pdf')\n",
    "plt.show();\n",
    "plt.clf();\n"
   ]
  },
  {
   "cell_type": "code",
   "execution_count": null,
   "metadata": {
    "collapsed": false
   },
   "outputs": [],
   "source": [
    "#galaxy-shear\n",
    "title=r' $C_\\ell$ Galaxy-Shear'\n",
    "plt.figure(figsize=fig_size)\n",
    "plt.title(title)\n",
    "plt.gcf().subplots_adjust(**plot_adjust)\n",
    "plt.ylabel(r'$|\\Delta C_\\ell|/\\sigma_\\ell$')\n",
    "plt.xlabel(r'$\\ell$')\n",
    "for itag,tag in enumerate(['nc_1/wl_1','nc_1/wl_2','nc_2/wl_1','nc_2/wl_2']) :\n",
    "    for nztyp in ['analytic','histo'] :\n",
    "        plt.plot(ells,np.fabs(cl_bench[nztyp][tag][ells]-cl_ccl[nztyp][tag])/el_ccl[nztyp][tag],\n",
    "                 ls=ltypes[nztyp],c=color_map(itag))\n",
    "plt.plot([-1,-1],[-1,-1],ls='-',c=color_map(0),label='1-1')\n",
    "plt.plot([-1,-1],[-1,-1],ls='-',c=color_map(1),label='1-2')\n",
    "plt.plot([-1,-1],[-1,-1],ls='-',c=color_map(2),label='2-2')\n",
    "plt.plot([-1,-1],[-1,-1],ls='-',c=color_map(3),label='2-1')\n",
    "plt.plot([-1,-1],[-1,-1],ls='-',c='k',label='Analytic $N(z)$')\n",
    "plt.plot([-1,-1],[-1,-1],ls='--',c='k',label='Binned $N(z)$')\n",
    "plt.axhline(0.1, c=\"k\", ls=\"-.\")\n",
    "plt.xscale('log');\n",
    "plt.yscale('log');\n",
    "plt.ylim([1e-6, 10])\n",
    "plt.xlim([2,2980])\n",
    "plt.legend(loc='upper left',ncol=2, frameon=False, fontsize=\"x-small\");\n",
    "plt.savefig('Cl_dl.pdf')\n",
    "plt.show();\n",
    "plt.clf();\n"
   ]
  },
  {
   "cell_type": "code",
   "execution_count": null,
   "metadata": {
    "collapsed": false
   },
   "outputs": [],
   "source": [
    "#galaxy-intrinsic\n",
    "title=r' $C_\\ell$ Galaxy-Intrinsic'\n",
    "plt.figure(figsize=fig_size)\n",
    "plt.title(title)\n",
    "plt.gcf().subplots_adjust(**plot_adjust)\n",
    "plt.ylabel(r'$|\\Delta C_\\ell|/\\sigma_\\ell$')\n",
    "plt.xlabel(r'$\\ell$')\n",
    "for itag,tag in enumerate(['nc_1/wli_1','nc_1/wli_2','nc_2/wli_1','nc_2/wli_2']) :\n",
    "    for nztyp in ['analytic','histo'] :\n",
    "        plt.plot(ells,np.fabs(cl_bench[nztyp][tag][ells]-cl_ccl[nztyp][tag])/el_ccl[nztyp][tag],\n",
    "                 ls=ltypes[nztyp],c=color_map(itag))\n",
    "plt.plot([-1,-1],[-1,-1],ls='-',c=color_map(0),label='1-1')\n",
    "plt.plot([-1,-1],[-1,-1],ls='-',c=color_map(1),label='1-2')\n",
    "plt.plot([-1,-1],[-1,-1],ls='-',c=color_map(2),label='2-2')\n",
    "plt.plot([-1,-1],[-1,-1],ls='-',c=color_map(3),label='2-1')\n",
    "plt.plot([-1,-1],[-1,-1],ls='-',c='k',label='Analytic $N(z)$')\n",
    "plt.plot([-1,-1],[-1,-1],ls='--',c='k',label='Binned $N(z)$')\n",
    "plt.axhline(0.1, c=\"k\", ls=\"-.\")\n",
    "plt.xscale('log');\n",
    "plt.yscale('log');\n",
    "plt.ylim([1e-6, 10])\n",
    "plt.xlim([2,2980])\n",
    "plt.legend(loc='upper left',ncol=2, frameon=False, fontsize=\"x-small\");\n",
    "plt.savefig('Cl_di.pdf')\n",
    "plt.show();\n",
    "plt.clf();\n"
   ]
  },
  {
   "cell_type": "code",
   "execution_count": null,
   "metadata": {
    "collapsed": false
   },
   "outputs": [],
   "source": [
    "#galaxy-total (gG+gI)\n",
    "title=r' $C_\\ell$ Galaxy-WL (gG+gI)'\n",
    "plt.figure(figsize=fig_size)\n",
    "plt.title(title)\n",
    "plt.gcf().subplots_adjust(**plot_adjust)\n",
    "plt.ylabel(r'$|\\Delta C_\\ell|/\\sigma_\\ell$')\n",
    "plt.xlabel(r'$\\ell$')\n",
    "for itag,tag in enumerate(['nc_1/wltot_1','nc_1/wltot_2','nc_2/wltot_1','nc_2/wltot_2']) :\n",
    "    for nztyp in ['analytic','histo'] :\n",
    "        plt.plot(ells,np.fabs(cl_bench[nztyp][tag][ells]-cl_ccl[nztyp][tag])/el_ccl[nztyp][tag],\n",
    "                 ls=ltypes[nztyp],c=color_map(itag))\n",
    "plt.plot([-1,-1],[-1,-1],ls='-',c=color_map(0),label='1-1')\n",
    "plt.plot([-1,-1],[-1,-1],ls='-',c=color_map(1),label='1-2')\n",
    "plt.plot([-1,-1],[-1,-1],ls='-',c=color_map(2),label='2-2')\n",
    "plt.plot([-1,-1],[-1,-1],ls='-',c=color_map(3),label='2-1')\n",
    "plt.plot([-1,-1],[-1,-1],ls='-',c='k',label='Analytic $N(z)$')\n",
    "plt.plot([-1,-1],[-1,-1],ls='--',c='k',label='Binned $N(z)$')\n",
    "plt.axhline(0.1, c=\"k\", ls=\"-.\")\n",
    "plt.xscale('log');\n",
    "plt.yscale('log');\n",
    "plt.ylim([1e-6, 10])\n",
    "plt.xlim([2,2980])\n",
    "plt.legend(loc='upper left',ncol=2, frameon=False, fontsize=\"x-small\");\n",
    "plt.savefig('Cl_dltot.pdf')\n",
    "plt.show();\n",
    "plt.clf();"
   ]
  },
  {
   "cell_type": "code",
   "execution_count": null,
   "metadata": {
    "collapsed": false
   },
   "outputs": [],
   "source": [
    "#shear-intrinsic\n",
    "title=r' $C_\\ell$ Shear-Intrinsic'\n",
    "plt.figure(figsize=fig_size)\n",
    "plt.title(title)\n",
    "plt.gcf().subplots_adjust(**plot_adjust)\n",
    "plt.ylabel(r'$|\\Delta C_\\ell|/\\sigma_\\ell$')\n",
    "plt.xlabel(r'$\\ell$')\n",
    "for itag,tag in enumerate(['wl_1/wli_1','wl_1/wli_2','wl_2/wli_2']) :\n",
    "    for nztyp in ['analytic','histo'] :\n",
    "        plt.plot(ells,np.fabs(cl_bench[nztyp][tag][ells]-cl_ccl[nztyp][tag])/el_ccl[nztyp][tag],\n",
    "#        plt.plot(ells,np.fabs(cl_bench[nztyp][tag][ells]-cl_ccl[nztyp][tag])/el_bench[nztyp][tag][ells],\n",
    "                 ls=ltypes[nztyp],c=color_map(itag))\n",
    "plt.plot([-1,-1],[-1,-1],ls='-',c=color_map(0),label='1-1')\n",
    "plt.plot([-1,-1],[-1,-1],ls='-',c=color_map(1),label='1-2')\n",
    "plt.plot([-1,-1],[-1,-1],ls='-',c=color_map(2),label='2-2')\n",
    "plt.plot([-1,-1],[-1,-1],ls='-',c='k',label='Analytic $N(z)$')\n",
    "plt.plot([-1,-1],[-1,-1],ls='--',c='k',label='Binned $N(z)$')\n",
    "plt.axhline(0.1, c=\"k\", ls=\"-.\")\n",
    "plt.xscale('log');\n",
    "plt.yscale('log');\n",
    "plt.ylim([1e-5, 100])\n",
    "plt.xlim([2,2980])\n",
    "plt.legend(loc='upper left',ncol=2, frameon=False, fontsize=\"x-small\");\n",
    "plt.savefig('Cl_li.pdf')\n",
    "plt.show();\n",
    "plt.clf();"
   ]
  },
  {
   "cell_type": "code",
   "execution_count": null,
   "metadata": {
    "collapsed": false
   },
   "outputs": [],
   "source": [
    "#intrinsic-intrinsic\n",
    "title=r' $C_\\ell$ Intrinsic-Intrinsic'\n",
    "plt.figure(figsize=fig_size)\n",
    "plt.title(title)\n",
    "plt.gcf().subplots_adjust(**plot_adjust)\n",
    "plt.ylabel(r'$|\\Delta C_\\ell|/\\sigma_\\ell$')\n",
    "#plt.ylabel(r'$|\\Delta C_\\ell|/C_\\ell$')\n",
    "plt.xlabel(r'$\\ell$')\n",
    "for itag,tag in enumerate(['wli_1/wli_1','wli_1/wli_2','wli_2/wli_2']) :\n",
    "    for nztyp in ['analytic','histo'] :\n",
    "        plt.plot(ells,np.fabs(cl_bench[nztyp][tag][ells]-cl_ccl[nztyp][tag])/el_ccl[nztyp][tag],\n",
    "#        plt.plot(ells,np.fabs(cl_bench[nztyp][tag][ells]-cl_ccl[nztyp][tag])/el_bench[nztyp][tag][ells],\n",
    "                 ls=ltypes[nztyp],c=color_map(itag))\n",
    "plt.plot([-1,-1],[-1,-1],ls='-',c=color_map(0),label='1-1')\n",
    "plt.plot([-1,-1],[-1,-1],ls='-',c=color_map(1),label='1-2')\n",
    "plt.plot([-1,-1],[-1,-1],ls='-',c=color_map(2),label='2-2')\n",
    "plt.plot([-1,-1],[-1,-1],ls='-',c='k',label='Analytic $N(z)$')\n",
    "plt.plot([-1,-1],[-1,-1],ls='--',c='k',label='Binned $N(z)$')\n",
    "plt.axhline(0.1, c=\"k\", ls=\"-.\")\n",
    "plt.xscale('log');\n",
    "plt.yscale('log');\n",
    "plt.ylim([1e-5, 100])\n",
    "plt.xlim([2,2980])\n",
    "plt.legend(loc='upper left',ncol=2, frameon=False, fontsize=\"x-small\");\n",
    "plt.savefig('Cl_ii.pdf')\n",
    "plt.show();\n",
    "plt.clf();"
   ]
  },
  {
   "cell_type": "code",
   "execution_count": null,
   "metadata": {
    "collapsed": false
   },
   "outputs": [],
   "source": [
    "#total-total, i.e. GG+GI+II\n",
    "title=r' $C_\\ell$ WL-WL (GG+GI+II)'\n",
    "plt.figure(figsize=fig_size)\n",
    "plt.title(title)\n",
    "plt.gcf().subplots_adjust(**plot_adjust)\n",
    "plt.ylabel(r'$|\\Delta C_\\ell|/\\sigma_\\ell$')\n",
    "plt.xlabel(r'$\\ell$')\n",
    "for itag,tag in enumerate(['wltot_1/wltot_1','wltot_1/wltot_2','wltot_2/wltot_2']) :\n",
    "    for nztyp in ['analytic','histo'] :\n",
    "        plt.plot(ells,np.fabs(cl_bench[nztyp][tag][ells]-cl_ccl[nztyp][tag])/el_ccl[nztyp][tag],\n",
    "#        plt.plot(ells,np.fabs(cl_bench[nztyp][tag][ells]-cl_ccl[nztyp][tag])/el_bench[nztyp][tag][ells],\n",
    "                 ls=ltypes[nztyp],c=color_map(itag))\n",
    "plt.plot([-1,-1],[-1,-1],ls='-',c=color_map(0),label='1-1')\n",
    "plt.plot([-1,-1],[-1,-1],ls='-',c=color_map(1),label='1-2')\n",
    "plt.plot([-1,-1],[-1,-1],ls='-',c=color_map(2),label='2-2')\n",
    "plt.plot([-1,-1],[-1,-1],ls='-',c='k',label='Analytic $N(z)$')\n",
    "plt.plot([-1,-1],[-1,-1],ls='--',c='k',label='Binned $N(z)$')\n",
    "plt.axhline(0.1, c=\"k\", ls=\"-.\")\n",
    "plt.xscale('log');\n",
    "plt.yscale('log');\n",
    "plt.ylim([1e-6, 10])\n",
    "plt.xlim([2,2980])\n",
    "plt.legend(loc='upper left',ncol=2, frameon=False, fontsize=\"x-small\");\n",
    "plt.savefig('Cl_lltot.pdf')\n",
    "plt.show();\n",
    "plt.clf();"
   ]
  },
  {
   "cell_type": "code",
   "execution_count": null,
   "metadata": {
    "collapsed": false
   },
   "outputs": [],
   "source": [
    "#galaxy-CMBl\n",
    "title=r' $C_\\ell$ $\\kappa_{\\rm CMB}$-NC'\n",
    "plt.figure(figsize=fig_size)\n",
    "plt.title(title)\n",
    "plt.gcf().subplots_adjust(**plot_adjust)\n",
    "plt.ylabel(r'$|\\Delta C_\\ell|/\\sigma_\\ell$')\n",
    "plt.xlabel(r'$\\ell$')\n",
    "for itag,tag in enumerate(['nc_1/cmbl','nc_2/cmbl']) :\n",
    "    for nztyp in ['analytic','histo'] :\n",
    "        plt.plot(ells,np.fabs(cl_bench[nztyp][tag][ells]-cl_ccl[nztyp][tag])/el_ccl[nztyp][tag],\n",
    "                 ls=ltypes[nztyp],c=color_map(itag))\n",
    "for itag,tag in enumerate(['cmbl/cmbl']) :\n",
    "    for nztyp in ['analytic'] :\n",
    "        plt.plot(ells,np.fabs(cl_bench[nztyp][tag][ells]-cl_ccl[nztyp][tag])/el_ccl[nztyp][tag],\n",
    "                 ls=ltypes[nztyp],c=color_map(2))\n",
    "plt.plot([-1,-1],[-1,-1],ls='-',c=color_map(0),label='$\\\\kappa_{\\\\rm CMB}$-1')\n",
    "plt.plot([-1,-1],[-1,-1],ls='-',c=color_map(1),label='$\\\\kappa_{\\\\rm CMB}$-2')\n",
    "plt.plot([-1,-1],[-1,-1],ls='-',c=color_map(2),label='$\\\\kappa_{\\\\rm CMB}$-$\\\\kappa_{\\\\rm CMB}$')\n",
    "plt.plot([-1,-1],[-1,-1],ls='-',c='k',label='Analytic $N(z)$')\n",
    "plt.plot([-1,-1],[-1,-1],ls='--',c='k',label='Binned $N(z)$')\n",
    "plt.axhline(0.1, c=\"k\", ls=\"-.\")\n",
    "plt.xscale('log');\n",
    "plt.yscale('log');\n",
    "plt.ylim([1e-6, 10])\n",
    "plt.xlim([2,2980])\n",
    "plt.legend(loc='upper left',ncol=2, frameon=False, fontsize=\"x-small\");\n",
    "plt.savefig('Cl_dc.pdf')\n",
    "plt.show();\n",
    "plt.clf();\n"
   ]
  },
  {
   "cell_type": "code",
   "execution_count": null,
   "metadata": {
    "collapsed": false
   },
   "outputs": [],
   "source": [
    "#shear-CMBl\n",
    "title=r' $C_\\ell$ $\\kappa_{\\rm CMB}$-WL'\n",
    "plt.figure(figsize=fig_size)\n",
    "plt.title(title)\n",
    "plt.gcf().subplots_adjust(**plot_adjust)\n",
    "plt.ylabel(r'$|\\Delta C_\\ell|/\\sigma_\\ell$')\n",
    "plt.xlabel(r'$\\ell$')\n",
    "for itag,tag in enumerate(['wl_1/cmbl','wl_2/cmbl']) :\n",
    "    for nztyp in ['analytic','histo'] :\n",
    "        plt.plot(ells,np.fabs(cl_bench[nztyp][tag][ells]-cl_ccl[nztyp][tag])/el_ccl[nztyp][tag],\n",
    "                 ls=ltypes[nztyp],c=color_map(itag))\n",
    "plt.plot([-1,-1],[-1,-1],ls='-',c=color_map(0),label='$\\\\kappa_{\\\\rm CMB}$-1')\n",
    "plt.plot([-1,-1],[-1,-1],ls='-',c=color_map(1),label='$\\\\kappa_{\\\\rm CMB}$-2')\n",
    "plt.plot([-1,-1],[-1,-1],ls='-',c='k',label='Analytic $N(z)$')\n",
    "plt.plot([-1,-1],[-1,-1],ls='--',c='k',label='Binned $N(z)$')\n",
    "plt.axhline(0.1, c=\"k\", ls=\"-.\")\n",
    "plt.xscale('log');\n",
    "plt.yscale('log');\n",
    "plt.ylim([1e-6, 10])\n",
    "plt.xlim([2,2980])\n",
    "plt.legend(loc='upper left',ncol=2, frameon=False, fontsize=\"x-small\");\n",
    "plt.savefig('Cl_lc.pdf')\n",
    "plt.show();\n",
    "plt.clf();\n"
   ]
  },
  {
   "cell_type": "markdown",
   "metadata": {},
   "source": [
    "# Correlation functions (CCL compared with range of codes)"
   ]
  },
  {
   "cell_type": "code",
   "execution_count": null,
   "metadata": {
    "collapsed": true
   },
   "outputs": [],
   "source": [
    "#Read benchmarks and expected LSST error bars\n",
    "bench_err={}\n",
    "bench_err['dd']=np.genfromtxt(\"../tests/benchmark/cov_corr/sigma_clustering_Nbin5\",names=('theta','b1b1','b2b2','b1b2'))\n",
    "bench_err['ll+']=np.genfromtxt(\"../tests/benchmark/cov_corr/sigma_xi+_Nbin5\",names=('theta','b1b1','b2b2','b1b2'))\n",
    "bench_err['ll-']=np.genfromtxt(\"../tests/benchmark/cov_corr/sigma_xi-_Nbin5\",names=('theta','b1b1','b2b2','b1b2'))\n",
    "\n",
    "corr_bench={}\n",
    "for nztyp in ['analytic','histo'] :\n",
    "    corr_bench[nztyp]={}\n",
    "    for bn in ['b1b1','b2b2'] :\n",
    "        corr_bench[nztyp][bn]={}\n",
    "        for trtyp in ['dd','ll'] :\n",
    "            if  'dd' in trtyp:\n",
    "                corr_bench[nztyp][bn][trtyp]=np.genfromtxt(\"../tests/benchmark/codecomp_step2_outputs/oldcorrfiles/run_\"+bn+nztyp+\"_log_wt_\"+trtyp+\".txt\",names=('theta','xi'))\n",
    "            else:\n",
    "                corr_bench[nztyp][bn][trtyp+'+']=np.genfromtxt(\"../tests/benchmark/codecomp_step2_outputs/oldcorrfiles/run_\"+bn+nztyp+\"_log_wt_\"+trtyp+\"_pp.txt\",names=('theta','xi'))\n",
    "                corr_bench[nztyp][bn][trtyp+'-']=np.genfromtxt(\"../tests/benchmark/codecomp_step2_outputs/oldcorrfiles/run_\"+bn+nztyp+\"_log_wt_\"+trtyp+\"_mm.txt\",names=('theta','xi'))\n",
    "                \n",
    "theta_deg=corr_bench[nztyp][bn]['dd']['theta']"
   ]
  },
  {
   "cell_type": "code",
   "execution_count": null,
   "metadata": {
    "collapsed": true
   },
   "outputs": [],
   "source": [
    "#Get Cls to compute correlation\n",
    "#Redshift distribution\n",
    "zmean1=1.0; zmean2=1.5;\n",
    "sigz1=0.15; sigz2=0.15;\n",
    "nzs=512;\n",
    "\n",
    "#Analytic redshift distributions\n",
    "z_a_1=np.linspace(zmean1-5*sigz1,zmean1+5*sigz1,nzs);\n",
    "z_a_2=np.linspace(zmean2-5*sigz2,zmean2+5*sigz2,nzs);\n",
    "pz_a_1=np.exp(-0.5*((z_a_1-zmean1)/sigz1)**2)\n",
    "pz_a_2=np.exp(-0.5*((z_a_2-zmean2)/sigz2)**2)\n",
    "#Bias parameters for these distributions\n",
    "bz_a_1=np.ones_like(z_a_1); bz_a_2=np.ones_like(z_a_2);\n",
    "\n",
    "#Binned redshift distributions and biases\n",
    "z_h_1,pz_h_1=np.loadtxt(\"../tests/benchmark/codecomp_step2_outputs/bin1_histo.txt\",unpack=True)\n",
    "z_h_2,pz_h_2=np.loadtxt(\"../tests/benchmark/codecomp_step2_outputs/bin2_histo.txt\",unpack=True)\n",
    "bz_h_1=np.ones_like(z_h_1); bz_h_2=np.ones_like(z_h_2);\n",
    "\n",
    "zarrs={'analytic':{'b1':{'z':z_a_1,'nz':pz_a_1,'bz':bz_a_1},'b2':{'z':z_a_2,'nz':pz_a_2,'bz':bz_a_2}},\n",
    "      'histo':{'b1':{'z':z_h_1,'nz':pz_h_1,'bz':bz_h_1},'b2':{'z':z_h_2,'nz':pz_h_2,'bz':bz_h_2}}}\n",
    "\n",
    "#Initialize tracers\n",
    "cosmo_cls=cosmo_list[-2]\n",
    "cosmo_cls_cmbl=cosmo_list[-1]\n",
    "trcrs={}\n",
    "for nztyp in ['analytic','histo'] :\n",
    "    trcrs[nztyp]={}\n",
    "    za=zarrs[nztyp]\n",
    "    for trtyp in ['dd','ll'] :\n",
    "        trcrs[nztyp][trtyp]={}\n",
    "        for bn in ['b1','b2'] :\n",
    "            if trtyp=='dd' :\n",
    "                trcrs[nztyp][trtyp][bn]=ccl.NumberCountsTracer(cosmo_cls,has_rsd=False,\n",
    "                                                                dndz=(za[bn]['z'],za[bn]['nz']),\n",
    "                                                                bias=(za[bn]['z'],za[bn]['bz']))\n",
    "            else :\n",
    "                trcrs[nztyp][trtyp][bn]=ccl.WeakLensingTracer(cosmo_cls,\n",
    "                                                            dndz=(za[bn]['z'],za[bn]['nz']))\n",
    "                \n",
    "#Compute ccl predictions\n",
    "cl_ccl={}\n",
    "for nztyp in ['analytic','histo'] :\n",
    "    cl_ccl[nztyp]={}\n",
    "    for trtyp in ['dd','ll'] :\n",
    "        cl_ccl[nztyp][trtyp]={}\n",
    "        cl_ccl[nztyp][trtyp]['b1b1']={}\n",
    "        ells=np.arange(2,10000)\n",
    "        cfac=np.ones(len(ells))\n",
    "        if trtyp=='ll' :\n",
    "            cfac[2:]=ells[2:]*(ells[2:]+1.)/np.sqrt((ells[2:]+2.)*(ells[2:]+1.)*ells[2:]*(ells[2:]-1.))\n",
    "        cl_ccl[nztyp][trtyp]['b1b1']['ell']=ells\n",
    "        cl_ccl[nztyp][trtyp]['b1b1']['cell']=ccl.angular_cl(cosmo_cls,trcrs[nztyp][trtyp]['b1'],\n",
    "                                                            trcrs[nztyp][trtyp]['b1'],ells)*cfac**2\n",
    "        cl_ccl[nztyp][trtyp]['b1b2']={}\n",
    "        cfac=np.ones(len(ells))\n",
    "        if trtyp=='ll' :\n",
    "            cfac[2:]=ells[2:]*(ells[2:]+1.)/np.sqrt((ells[2:]+2.)*(ells[2:]+1.)*ells[2:]*(ells[2:]-1.))\n",
    "        cl_ccl[nztyp][trtyp]['b1b2']['ell']=ells\n",
    "        cl_ccl[nztyp][trtyp]['b1b2']['cell']=ccl.angular_cl(cosmo_cls,trcrs[nztyp][trtyp]['b1'],\n",
    "                                                            trcrs[nztyp][trtyp]['b2'],ells)*cfac**2\n",
    "        cl_ccl[nztyp][trtyp]['b2b2']={}\n",
    "        cfac=np.ones(len(ells))\n",
    "        if trtyp=='ll' :\n",
    "            cfac[2:]=ells[2:]*(ells[2:]+1.)/np.sqrt((ells[2:]+2.)*(ells[2:]+1.)*ells[2:]*(ells[2:]-1.))\n",
    "        cl_ccl[nztyp][trtyp]['b2b2']['ell']=ells\n",
    "        cl_ccl[nztyp][trtyp]['b2b2']['cell']=ccl.angular_cl(cosmo_cls,trcrs[nztyp][trtyp]['b2'],\n",
    "                                                            trcrs[nztyp][trtyp]['b2'],ells)*cfac**2"
   ]
  },
  {
   "cell_type": "code",
   "execution_count": null,
   "metadata": {
    "collapsed": true
   },
   "outputs": [],
   "source": [
    "#Assume that c_ell are computed above in the Angular_cl benchmark\n",
    "#If you haven't run that cell, please scroll up to run it.\n",
    "#Then proceed to compute the relavent correlation functions: clustering and lensing auto-correlations.\n",
    "corr={}\n",
    "for nztyp in ['analytic','histo'] :\n",
    "    corr[nztyp]={}\n",
    "    za=zarrs[nztyp]\n",
    "    for bn in ['b1b1','b2b2'] :\n",
    "        corr[nztyp][bn]={}\n",
    "        for trtyp in ['dd','ll'] :\n",
    "            ell=cl_ccl[nztyp][trtyp][bn]['ell']\n",
    "            cell=cl_ccl[nztyp][trtyp][bn]['cell']\n",
    "            if 'dd' in trtyp:\n",
    "                corr[nztyp][bn][trtyp]=ccl.correlation(cosmo_cls, ell, cell, theta_deg,\n",
    "                                                       corr_type='GG', method='FFTLog')\n",
    "            else :\n",
    "                corr[nztyp][bn][trtyp+'+']=ccl.correlation(cosmo_cls, ell, cell, theta_deg,\n",
    "                                                       corr_type='L+', method='FFTLog')\n",
    "                corr[nztyp][bn][trtyp+'-']=ccl.correlation(cosmo_cls, ell, cell, theta_deg,\n",
    "                                                       corr_type='L-', method='FFTLog')"
   ]
  },
  {
   "cell_type": "code",
   "execution_count": null,
   "metadata": {
    "collapsed": false,
    "scrolled": true
   },
   "outputs": [],
   "source": [
    "#With the computations done, proceed to compare the difference between benchmark and prediction\n",
    "#to the size of the LSST error bars.\n",
    "\n",
    "names={'analytic':'Analytic','histo':'Histogram','dd':r'$\\xi_{gg}$','ll+':r'$\\xi_+$','ll-':r'$\\xi_-$',\n",
    "       'b1b1':'1-1','b1b2':'1-2','b2b2':'2-2','cb1b1':'r','cb1b2':'b','cb2b2':'y','cdd':'o-','cll+':'^--',\n",
    "       'cll-':'s:'}\n",
    "\n",
    "accuracy = 1\n",
    "\n",
    "inz=0\n",
    "for nztyp in ['analytic','histo'] :\n",
    "    plt.figure(figsize=fig_size)\n",
    "\n",
    "    za=zarrs[nztyp]\n",
    "    ibn=0\n",
    "    for trtyp in ['dd','ll+','ll-'] :\n",
    "        for i, bn in enumerate(['b1b1','b2b2']):\n",
    "                plt.plot(theta_deg*(1+0.03*(ibn+inz)),np.absolute(corr_bench[nztyp][bn][trtyp]['xi']-corr[nztyp][bn][trtyp])/(0.5*bench_err[trtyp][bn]),\n",
    "                         c=color_map(i), marker=names['c'+trtyp][0], ms=5, ls=names['c'+trtyp][1:], \n",
    "                         label=names[trtyp]+', '+names[bn])\n",
    "                \n",
    "                plt.xscale('log')\n",
    "                plt.yscale('log')\n",
    "        plt.axhline(accuracy, c=\"k\", ls=\"--\")\n",
    "        plt.legend(ncol=3, fontsize=\"x-small\", frameon=False)\n",
    "        plt.ylim(1.e-4,22.e0)\n",
    "        plt.xlabel(r'$\\theta$ (degrees)')\n",
    "        plt.ylabel(r'$|\\Delta \\xi|/0.5\\sigma_{\\rm LSST}$')\n",
    "        ibn+=1\n",
    "    inz+=1\n",
    "    plt.title(names[nztyp]+r' $N(z)$')\n",
    "    plt.gcf().subplots_adjust(**plot_adjust)\n",
    "    plt.savefig('projected_correlation_error_comparison_'+nztyp+'.pdf')\n",
    "    plt.show()\n",
    "    plt.clf()"
   ]
  },
  {
   "cell_type": "code",
   "execution_count": null,
   "metadata": {
    "collapsed": false
   },
   "outputs": [],
   "source": [
    "#The following plot shows the relative difference between the CCL prediction and the benchmark. \n",
    "#While this plot is informative, the plot that demonstrates the accuracy is the above one.\n",
    "names={'analytic':'Analytic','histo':'Histogram','dd':r'$w_{gg}$','ll+':r'$\\xi_+$','ll-':r'$\\xi_-$',\n",
    "       'b1b1':'1-1','b1b2':'1-2','b2b2':'2-2','cb1b1':'r','cb1b2':'b','cb2b2':'y','cdd':'o','cll+':'^',\n",
    "       'cll-':'s'}\n",
    "\n",
    "inz=0\n",
    "for nztyp in ['analytic','histo'] :\n",
    "    plt.figure(figsize=fig_size)\n",
    "    \n",
    "    za=zarrs[nztyp]\n",
    "    itr=0\n",
    "    for trtyp in ['dd','ll+','ll-'] :\n",
    "        ibn=0\n",
    "        for i, bn in enumerate(['b1b1','b2b2']):\n",
    "                plt.errorbar(theta_deg*(1+0.04*(ibn+itr*3)),np.absolute(corr_bench[nztyp][bn][trtyp]['xi']/corr[nztyp][bn][trtyp]-1),\n",
    "                             0.5*bench_err[trtyp][bn]/corr[nztyp][bn][trtyp]/1,\n",
    "                             c=color_map(i), ls=\"none\", marker=names['c'+trtyp], ms=5,\n",
    "                     label=names[trtyp]+', '+names[bn])\n",
    "                \n",
    "                plt.xscale('log')\n",
    "                plt.yscale('log')\n",
    "                ibn+=1\n",
    "        plt.ylim(1e-6, 1e4)\n",
    "        plt.xlim(1.e-2,12)\n",
    "        plt.legend(ncol=3, fontsize=\"x-small\", frameon=False)\n",
    "        plt.xlabel(r'$\\theta$ (degrees)')\n",
    "        plt.ylabel(r'$|\\Delta \\xi|/\\xi$')\n",
    "        itr+=1\n",
    "    inz+=1\n",
    "    plt.title(r' $\\xi$ '+names[nztyp]+r' $N(z)$')\n",
    "    plt.gcf().subplots_adjust(**plot_adjust)\n",
    "    plt.savefig('projected_correlation_'+nztyp+'.pdf')\n",
    "    plt.show()\n",
    "    plt.clf()"
   ]
  },
  {
   "cell_type": "code",
   "execution_count": null,
   "metadata": {
    "collapsed": true
   },
   "outputs": [],
   "source": [
    "#Redshift distribution\n",
    "zmean1=1.0; zmean2=1.5;\n",
    "sigz1=0.15; sigz2=0.15;\n",
    "nzs=512;\n",
    "\n",
    "#Analytic redshift distributions\n",
    "z_a_1=np.linspace(zmean1-5*sigz1,zmean1+5*sigz1,nzs);\n",
    "z_a_2=np.linspace(zmean2-5*sigz2,zmean2+5*sigz2,nzs);\n",
    "pz_a_1=np.exp(-0.5*((z_a_1-zmean1)/sigz1)**2)\n",
    "pz_a_2=np.exp(-0.5*((z_a_2-zmean2)/sigz2)**2)\n",
    "#Bias parameters for these distributions\n",
    "bz_a_1=np.ones_like(z_a_1); bz_a_2=np.ones_like(z_a_2);\n",
    "\n",
    "#Binned redshift distributions and biases\n",
    "z_h_1,pz_h_1=np.loadtxt(\"../tests/benchmark/codecomp_step2_outputs/bin1_histo.txt\",unpack=True)\n",
    "z_h_2,pz_h_2=np.loadtxt(\"../tests/benchmark/codecomp_step2_outputs/bin2_histo.txt\",unpack=True)\n",
    "bz_h_1=np.ones_like(z_h_1); bz_h_2=np.ones_like(z_h_2);\n",
    "\n",
    "zarrs={'analytic':{'b1':{'z':z_a_1,'nz':pz_a_1,'bz':bz_a_1},'b2':{'z':z_a_2,'nz':pz_a_2,'bz':bz_a_2}},\n",
    "      'histo':{'b1':{'z':z_h_1,'nz':pz_h_1,'bz':bz_h_1},'b2':{'z':z_h_2,'nz':pz_h_2,'bz':bz_h_2}}}\n",
    "\n",
    "#Initialize tracers\n",
    "cl_ccl={}\n",
    "ells=np.arange(0,3001)\n",
    "cfac=np.ones(3001)\n",
    "for nztyp in ['analytic','histo'] :\n",
    "    cl_ccl[nztyp]={}\n",
    "    za=zarrs[nztyp]\n",
    "    trcrNC=ccl.NumberCountsTracer(cosmo_ccl7,has_rsd=False,\n",
    "                                    dndz=(za['b1']['z'],za['b1']['nz']),\n",
    "                                    bias=(za['b1']['z'],za['b1']['bz']))\n",
    "    trcrWL=ccl.WeakLensingTracer(cosmo_ccl7, dndz=(za['b2']['z'],za['b2']['nz']))\n",
    "    #Compute ccl predictions\n",
    "    cfac[2:]=(ells[2:]+0.5)*(ells[2:]+0.5)/np.sqrt((ells[2:]+2.)*(ells[2:]+1.)*ells[2:]*(ells[2:]-1.))\n",
    "    cl_ccl[nztyp]=ccl.angular_cl(cosmo_ccl7,trcrNC,trcrWL,ells)*cfac"
   ]
  },
  {
   "cell_type": "code",
   "execution_count": null,
   "metadata": {
    "collapsed": true
   },
   "outputs": [],
   "source": [
    "import scipy\n",
    "\n",
    "#Read benchmarks and expected LSST error bars\n",
    "bench_err=np.loadtxt(\"../tests/benchmark/cov_corr/sigma_ggl_Nbin5\")\n",
    "sig_wt_spline=scipy.interpolate.interp1d(bench_err[:,0]/60.,bench_err[:,1])\n",
    "\n",
    "corrggl_bench={}\n",
    "for nztyp in ['analytic'] :\n",
    "    corrggl_bench[nztyp]={}\n",
    "    corrggl_bench[nztyp]=np.genfromtxt(\"../tests/benchmark/run_b1b2\"+nztyp+\"_log_wt_dl.txt\",names=('theta','xi'))\n",
    "    \n",
    "theta_deg=corrggl_bench[nztyp]['theta']\n"
   ]
  },
  {
   "cell_type": "code",
   "execution_count": null,
   "metadata": {
    "collapsed": true
   },
   "outputs": [],
   "source": [
    "#Assume that c_ell are computed above in the Angular_cl benchmark\n",
    "#If you haven't run that cell, please scroll up to run it.\n",
    "#Then proceed to compute the relavent correlation functions: clustering and lensing auto-correlations.\n",
    "corrggl_fftlog={}\n",
    "corrggl_bessel={}\n",
    "cosmo_cls=cosmo_list[-2]\n",
    "cosmo_cls_cmbl=cosmo_list[-1]\n",
    "for nztyp in ['analytic'] :\n",
    "    za=zarrs[nztyp]\n",
    "    corrggl_fftlog[nztyp]={}\n",
    "    corrggl_fftlog[nztyp]=ccl.correlation(cosmo_cls, ells, cl_ccl[nztyp], theta_deg,corr_type='GL', method='FFTLog')\n",
    "    corrggl_bessel[nztyp]={}\n",
    "    corrggl_bessel[nztyp]=ccl.correlation(cosmo_cls, ells, cl_ccl[nztyp], theta_deg,corr_type='GL', method='Bessel')"
   ]
  },
  {
   "cell_type": "code",
   "execution_count": null,
   "metadata": {
    "collapsed": false
   },
   "outputs": [],
   "source": [
    "accuracy = 1\n",
    "\n",
    "for nztyp in ['analytic'] :\n",
    "    plt.figure(figsize=fig_size)\n",
    "    plt.plot(theta_deg[1:],np.abs(corrggl_bench[nztyp]['xi'][1:]-corrggl_fftlog[nztyp][1:])/(0.5*sig_wt_spline(theta_deg[1:])),\"o-\",c=color_map(0), ms=5,label='FFTLog')\n",
    "    plt.xscale('log')\n",
    "    plt.yscale('log')\n",
    "    plt.axhline(accuracy, c=\"k\", ls=\"--\")\n",
    "    plt.xlabel(r'$\\theta$ (degrees)')\n",
    "    plt.ylabel(r'$|\\Delta \\xi_{ggl}|/0.5\\sigma_{\\rm LSST}$')\n",
    "    plt.title(r'Analytic $N(z)$, $1-2$')\n",
    "    plt.gcf().subplots_adjust(**plot_adjust)\n",
    "    plt.savefig('projected_xiggl_error_comparison_'+nztyp+'.pdf')\n",
    "    plt.show()\n",
    "    plt.clf()"
   ]
  },
  {
   "cell_type": "markdown",
   "metadata": {},
   "source": [
    "# Correlation functions (CCL compared with CosmoLSS)\n",
    "\n",
    "Here we show that CCL and CosmoLSS are in agreement to within 0.1$\\sigma_\\rm{LSST}$ for the full 3x2pt set of observables (cosmic shear, galaxy-galaxy lensing, galaxy clustering). This moreover holds when including intrinsic alignments. The agreement between CCL and CosmoLSS degrades to 0.2$\\sigma_\\rm{LSST}$ when using the FFTLog method in CCL."
   ]
  },
  {
   "cell_type": "code",
   "execution_count": null,
   "metadata": {
    "collapsed": true
   },
   "outputs": [],
   "source": [
    "#Read benchmarks and expected LSST error bars\n",
    "bench_err={}\n",
    "bench_err['dd']=np.genfromtxt(\"../tests/benchmark/cov_corr/sigma_clustering_Nbin5\",names=('theta','b1b1','b2b2','b1b2'))\n",
    "bench_err['ll+']=np.genfromtxt(\"../tests/benchmark/cov_corr/sigma_xi+_Nbin5\",names=('theta','b1b1','b2b2','b1b2'))\n",
    "bench_err['ll-']=np.genfromtxt(\"../tests/benchmark/cov_corr/sigma_xi-_Nbin5\",names=('theta','b1b1','b2b2','b1b2'))\n",
    "\n",
    "corr_bench={}\n",
    "for nztyp in ['analytic','histo'] :\n",
    "    corr_bench[nztyp]={}\n",
    "    for bn in ['b1b1','b2b2'] :\n",
    "        corr_bench[nztyp][bn]={}\n",
    "        for trtyp in ['dd','ll'] :\n",
    "            if  'dd' in trtyp:\n",
    "                corr_bench[nztyp][bn][trtyp]=np.genfromtxt(\"../tests/benchmark/codecomp_step2_outputs/run_\"+bn+nztyp+\"_log_wt_\"+trtyp+\".txt\",names=('theta','xi'))\n",
    "            else:\n",
    "                corr_bench[nztyp][bn][trtyp+'+']=np.genfromtxt(\"../tests/benchmark/codecomp_step2_outputs/run_\"+bn+nztyp+\"_log_wt_\"+trtyp+\"_pp.txt\",names=('theta','xi'))\n",
    "                corr_bench[nztyp][bn][trtyp+'-']=np.genfromtxt(\"../tests/benchmark/codecomp_step2_outputs/run_\"+bn+nztyp+\"_log_wt_\"+trtyp+\"_mm.txt\",names=('theta','xi'))\n",
    "                \n",
    "theta_deg=corr_bench[nztyp][bn]['dd']['theta']"
   ]
  },
  {
   "cell_type": "code",
   "execution_count": null,
   "metadata": {
    "collapsed": true,
    "scrolled": true
   },
   "outputs": [],
   "source": [
    "#Get Cls to compute correlation\n",
    "#Redshift distribution\n",
    "zmean1=1.0; zmean2=1.5;\n",
    "sigz1=0.15; sigz2=0.15;\n",
    "nzs=512;\n",
    "\n",
    "#Analytic redshift distributions\n",
    "z_a_1=np.linspace(zmean1-5*sigz1,zmean1+5*sigz1,nzs);\n",
    "z_a_2=np.linspace(zmean2-5*sigz2,zmean2+5*sigz2,nzs);\n",
    "pz_a_1=np.exp(-0.5*((z_a_1-zmean1)/sigz1)**2)\n",
    "pz_a_2=np.exp(-0.5*((z_a_2-zmean2)/sigz2)**2)\n",
    "#Bias parameters for these distributions\n",
    "bz_a_1=np.ones_like(z_a_1); bz_a_2=np.ones_like(z_a_2);\n",
    "\n",
    "#Binned redshift distributions and biases\n",
    "z_h_1,pz_h_1=np.loadtxt(\"../tests/benchmark/codecomp_step2_outputs/bin1_histo.txt\",unpack=True)\n",
    "z_h_2,pz_h_2=np.loadtxt(\"../tests/benchmark/codecomp_step2_outputs/bin2_histo.txt\",unpack=True)\n",
    "bz_h_1=np.ones_like(z_h_1); bz_h_2=np.ones_like(z_h_2);\n",
    "\n",
    "zarrs={'analytic':{'b1':{'z':z_a_1,'nz':pz_a_1,'bz':bz_a_1},'b2':{'z':z_a_2,'nz':pz_a_2,'bz':bz_a_2}},\n",
    "      'histo':{'b1':{'z':z_h_1,'nz':pz_h_1,'bz':bz_h_1},'b2':{'z':z_h_2,'nz':pz_h_2,'bz':bz_h_2}}}\n",
    "\n",
    "#Initialize tracers\n",
    "cosmo_cls=cosmo_list[-2]\n",
    "cosmo_cls_cmbl=cosmo_list[-1]\n",
    "trcrs={}\n",
    "for nztyp in ['analytic','histo'] :\n",
    "    trcrs[nztyp]={}\n",
    "    za=zarrs[nztyp]\n",
    "    for trtyp in ['dd','ll'] :\n",
    "        trcrs[nztyp][trtyp]={}\n",
    "        for bn in ['b1','b2'] :\n",
    "            if trtyp=='dd' :\n",
    "                trcrs[nztyp][trtyp][bn]=ccl.NumberCountsTracer(cosmo_cls,has_rsd=False,\n",
    "                                                                dndz=(za[bn]['z'],za[bn]['nz']),\n",
    "                                                                bias=(za[bn]['z'],za[bn]['bz']))\n",
    "            else :\n",
    "                trcrs[nztyp][trtyp][bn]=ccl.WeakLensingTracer(cosmo_cls,\n",
    "                                                            dndz=(za[bn]['z'],za[bn]['nz']))\n",
    "                \n",
    "#Compute ccl predictions\n",
    "cl_ccl={}\n",
    "for nztyp in ['analytic','histo'] :\n",
    "    cl_ccl[nztyp]={}\n",
    "    for trtyp in ['dd','ll'] :\n",
    "        cl_ccl[nztyp][trtyp]={}\n",
    "        cl_ccl[nztyp][trtyp]['b1b1']={}\n",
    "        ells=np.arange(2,10000)\n",
    "        cfac=np.ones(len(ells))\n",
    "        if trtyp=='ll' :\n",
    "            cfac[2:]=ells[2:]*(ells[2:]+1.)/np.sqrt((ells[2:]+2.)*(ells[2:]+1.)*ells[2:]*(ells[2:]-1.))\n",
    "        cl_ccl[nztyp][trtyp]['b1b1']['ell']=ells\n",
    "        cl_ccl[nztyp][trtyp]['b1b1']['cell']=ccl.angular_cl(cosmo_cls,trcrs[nztyp][trtyp]['b1'],\n",
    "                                                            trcrs[nztyp][trtyp]['b1'],ells)*cfac**2\n",
    "        cl_ccl[nztyp][trtyp]['b1b2']={}\n",
    "        cfac=np.ones(len(ells))\n",
    "        if trtyp=='ll' :\n",
    "            cfac[2:]=ells[2:]*(ells[2:]+1.)/np.sqrt((ells[2:]+2.)*(ells[2:]+1.)*ells[2:]*(ells[2:]-1.))\n",
    "        cl_ccl[nztyp][trtyp]['b1b2']['ell']=ells\n",
    "        cl_ccl[nztyp][trtyp]['b1b2']['cell']=ccl.angular_cl(cosmo_cls,trcrs[nztyp][trtyp]['b1'],\n",
    "                                                            trcrs[nztyp][trtyp]['b2'],ells)*cfac**2\n",
    "        cl_ccl[nztyp][trtyp]['b2b2']={}\n",
    "        cfac=np.ones(len(ells))\n",
    "        if trtyp=='ll' :\n",
    "            cfac[2:]=ells[2:]*(ells[2:]+1.)/np.sqrt((ells[2:]+2.)*(ells[2:]+1.)*ells[2:]*(ells[2:]-1.))\n",
    "        cl_ccl[nztyp][trtyp]['b2b2']['ell']=ells\n",
    "        cl_ccl[nztyp][trtyp]['b2b2']['cell']=ccl.angular_cl(cosmo_cls,trcrs[nztyp][trtyp]['b2'],\n",
    "                                                            trcrs[nztyp][trtyp]['b2'],ells)*cfac**2"
   ]
  },
  {
   "cell_type": "code",
   "execution_count": null,
   "metadata": {
    "collapsed": true
   },
   "outputs": [],
   "source": [
    "#Assume that c_ell are computed above in the Angular_cl benchmark\n",
    "#If you haven't run that cell, please scroll up to run it.\n",
    "#Then proceed to compute the relavent correlation functions: clustering and lensing auto-correlations.\n",
    "corr={}\n",
    "corr_bessel={}\n",
    "for nztyp in ['analytic','histo'] :\n",
    "    corr[nztyp]={}\n",
    "    corr_bessel[nztyp]={}\n",
    "    za=zarrs[nztyp]\n",
    "    for bn in ['b1b1','b2b2'] :\n",
    "        corr[nztyp][bn]={}\n",
    "        corr_bessel[nztyp][bn]={}\n",
    "        for trtyp in ['dd','ll'] :\n",
    "            ell=cl_ccl[nztyp][trtyp][bn]['ell']\n",
    "            cell=cl_ccl[nztyp][trtyp][bn]['cell']\n",
    "            if 'dd' in trtyp:\n",
    "                corr[nztyp][bn][trtyp]=ccl.correlation(cosmo_cls, ell, cell, theta_deg,\n",
    "                                                       corr_type='GG', method='FFTLog')\n",
    "                corr_bessel[nztyp][bn][trtyp]=ccl.correlation(cosmo_cls, ell, cell, theta_deg,\n",
    "                                                       corr_type='GG', method='Bessel')\n",
    "            else :\n",
    "                corr[nztyp][bn][trtyp+'+']=ccl.correlation(cosmo_cls, ell, cell, theta_deg,\n",
    "                                                       corr_type='L+', method='FFTLog')\n",
    "                corr_bessel[nztyp][bn][trtyp+'+']=ccl.correlation(cosmo_cls, ell, cell, theta_deg,\n",
    "                                                       corr_type='L+', method='Bessel')\n",
    "                corr[nztyp][bn][trtyp+'-']=ccl.correlation(cosmo_cls, ell, cell, theta_deg,\n",
    "                                                       corr_type='L-', method='FFTLog')\n",
    "                corr_bessel[nztyp][bn][trtyp+'-']=ccl.correlation(cosmo_cls, ell, cell, theta_deg,\n",
    "                                                       corr_type='L-', method='Bessel')"
   ]
  },
  {
   "cell_type": "code",
   "execution_count": null,
   "metadata": {
    "collapsed": false
   },
   "outputs": [],
   "source": [
    "#With the computations done, proceed to compare the difference between benchmark and prediction\n",
    "#to the size of the LSST error bars.\n",
    "\n",
    "names={'analytic':'Analytic','histo':'Histogram','dd':r'$\\xi_{gg}$','ll+':r'$\\xi_+$','ll-':r'$\\xi_-$',\n",
    "       'b1b1':'1-1','b1b2':'1-2','b2b2':'2-2','cb1b1':'r','cb1b2':'b','cb2b2':'y','cdd':'o-','cll+':'^--',\n",
    "       'cll-':'s:'}\n",
    "\n",
    "accuracy = 1\n",
    "\n",
    "inz=0\n",
    "for nztyp in ['analytic','histo'] :\n",
    "    plt.figure(figsize=fig_size)\n",
    "\n",
    "    za=zarrs[nztyp]\n",
    "    ibn=0\n",
    "    for trtyp in ['dd','ll+','ll-'] :\n",
    "        for i, bn in enumerate(['b1b1','b2b2']):\n",
    "                plt.plot(theta_deg*(1+0.03*(ibn+inz)),np.absolute(corr_bench[nztyp][bn][trtyp]['xi']-corr[nztyp][bn][trtyp])/(0.2*bench_err[trtyp][bn]),\n",
    "                         c=color_map(i), marker=names['c'+trtyp][0], ms=5, ls=names['c'+trtyp][1:], \n",
    "                         label=names[trtyp]+', '+names[bn])\n",
    "                \n",
    "                plt.xscale('log')\n",
    "                plt.yscale('log')\n",
    "        plt.axhline(accuracy, c=\"k\", ls=\"--\")\n",
    "        plt.legend(ncol=3, fontsize=\"x-small\", frameon=False)\n",
    "        plt.ylim(1.e-4,22.e0)\n",
    "        plt.xlabel(r'$\\theta$ (degrees)')\n",
    "        plt.ylabel(r'$|\\Delta \\xi|/0.2\\sigma_{\\rm LSST}$')\n",
    "        ibn+=1\n",
    "    inz+=1\n",
    "    plt.title(names[nztyp]+r' $N(z)$ FFTLog')\n",
    "    plt.gcf().subplots_adjust(**plot_adjust)\n",
    "    plt.savefig('projected_correlation_error_comparison_'+nztyp+'fftlog.pdf')\n",
    "    plt.show()\n",
    "    plt.clf()\n",
    "        \n",
    "    \n",
    "inz=0\n",
    "for nztyp in ['analytic','histo'] :\n",
    "    plt.figure(figsize=fig_size)\n",
    "\n",
    "    za=zarrs[nztyp]\n",
    "    ibn=0\n",
    "    for trtyp in ['dd','ll+','ll-'] :\n",
    "        for i, bn in enumerate(['b1b1','b2b2']):\n",
    "                plt.plot(theta_deg*(1+0.03*(ibn+inz)),np.absolute(corr_bench[nztyp][bn][trtyp]['xi']-corr_bessel[nztyp][bn][trtyp])/(0.1*bench_err[trtyp][bn]),\n",
    "                         c=color_map(i), marker=names['c'+trtyp][0], ms=5, ls=names['c'+trtyp][1:], \n",
    "                         label=names[trtyp]+', '+names[bn])\n",
    "                \n",
    "                plt.xscale('log')\n",
    "                plt.yscale('log')\n",
    "        plt.axhline(accuracy, c=\"k\", ls=\"--\")\n",
    "        plt.legend(ncol=3, fontsize=\"x-small\", frameon=False)\n",
    "        plt.ylim(1.e-4,22.e0)\n",
    "        plt.xlabel(r'$\\theta$ (degrees)')\n",
    "        plt.ylabel(r'$|\\Delta \\xi|/0.1\\sigma_{\\rm LSST}$')\n",
    "        ibn+=1\n",
    "    inz+=1\n",
    "    plt.title(names[nztyp]+r' $N(z)$ Bessel')\n",
    "    plt.gcf().subplots_adjust(**plot_adjust)\n",
    "    plt.savefig('projected_correlation_error_comparison_'+nztyp+'bessel.pdf')\n",
    "    plt.show()\n",
    "    plt.clf()"
   ]
  },
  {
   "cell_type": "code",
   "execution_count": null,
   "metadata": {
    "collapsed": false
   },
   "outputs": [],
   "source": [
    "#The following plot shows the relative difference between the CCL prediction and the benchmark. \n",
    "#While this plot is informative, the plot that demonstrates the accuracy is the above one.\n",
    "names={'analytic':'Analytic','histo':'Histogram','dd':r'$w_{gg}$','ll+':r'$\\xi_+$','ll-':r'$\\xi_-$',\n",
    "       'b1b1':'1-1','b1b2':'1-2','b2b2':'2-2','cb1b1':'r','cb1b2':'b','cb2b2':'y','cdd':'o','cll+':'^',\n",
    "       'cll-':'s'}\n",
    "\n",
    "inz=0\n",
    "for nztyp in ['analytic','histo'] :\n",
    "    plt.figure(figsize=fig_size)\n",
    "    \n",
    "    za=zarrs[nztyp]\n",
    "    itr=0\n",
    "    for trtyp in ['dd','ll+','ll-'] :\n",
    "        ibn=0\n",
    "        for i, bn in enumerate(['b1b1','b2b2']):\n",
    "                plt.errorbar(theta_deg*(1+0.04*(ibn+itr*3)),np.absolute(corr_bench[nztyp][bn][trtyp]['xi']/corr[nztyp][bn][trtyp]-1),\n",
    "                             0.5*bench_err[trtyp][bn]/corr[nztyp][bn][trtyp]/1,\n",
    "                             c=color_map(i), ls=\"none\", marker=names['c'+trtyp], ms=5,\n",
    "                             label=names[trtyp]+', '+names[bn])\n",
    "                plt.xscale('log')\n",
    "                plt.yscale('log')\n",
    "                ibn+=1\n",
    "        plt.ylim(1e-6, 1e4)\n",
    "        plt.xlim(1.e-2,12)\n",
    "        plt.legend(ncol=3, fontsize=\"x-small\", frameon=False)\n",
    "        plt.xlabel(r'$\\theta$ (degrees)')\n",
    "        plt.ylabel(r'$|\\Delta \\xi|/\\xi$')\n",
    "        itr+=1\n",
    "    inz+=1\n",
    "    plt.title(r' $\\xi$ '+names[nztyp]+r' $N(z)$ FFTLog')\n",
    "    plt.gcf().subplots_adjust(**plot_adjust)\n",
    "    plt.savefig('projected_correlation_'+nztyp+'fftlog.pdf')\n",
    "    plt.show()\n",
    "    plt.clf()\n",
    "    \n",
    "    \n",
    "inz=0\n",
    "for nztyp in ['analytic','histo'] :\n",
    "    plt.figure(figsize=fig_size)\n",
    "    \n",
    "    za=zarrs[nztyp]\n",
    "    itr=0\n",
    "    for trtyp in ['dd','ll+','ll-'] :\n",
    "        ibn=0\n",
    "        for i, bn in enumerate(['b1b1','b2b2']):\n",
    "                plt.errorbar(theta_deg*(1+0.04*(ibn+itr*3)),np.absolute(corr_bench[nztyp][bn][trtyp]['xi']/corr_bessel[nztyp][bn][trtyp]-1),\n",
    "                             0.5*bench_err[trtyp][bn]/corr[nztyp][bn][trtyp]/1,\n",
    "                             c=color_map(i), ls=\"none\", marker=names['c'+trtyp], ms=5,\n",
    "                             label=names[trtyp]+', '+names[bn])\n",
    "                plt.xscale('log')\n",
    "                plt.yscale('log')\n",
    "                ibn+=1\n",
    "        plt.ylim(1e-6, 1e4)\n",
    "        plt.xlim(1.e-2,12)\n",
    "        plt.legend(ncol=3, fontsize=\"x-small\", frameon=False)\n",
    "        plt.xlabel(r'$\\theta$ (degrees)')\n",
    "        plt.ylabel(r'$|\\Delta \\xi|/\\xi$')\n",
    "        itr+=1\n",
    "    inz+=1\n",
    "    plt.title(r' $\\xi$ '+names[nztyp]+r' $N(z)$ Bessel')\n",
    "    plt.gcf().subplots_adjust(**plot_adjust)\n",
    "    plt.savefig('projected_correlation_'+nztyp+'bessel.pdf')\n",
    "    plt.show()\n",
    "    plt.clf()"
   ]
  },
  {
   "cell_type": "markdown",
   "metadata": {},
   "source": [
    "### Galaxy-galaxy lensing"
   ]
  },
  {
   "cell_type": "code",
   "execution_count": null,
   "metadata": {
    "collapsed": true
   },
   "outputs": [],
   "source": [
    "#Redshift distribution\n",
    "zmean1=1.0; zmean2=1.5;\n",
    "sigz1=0.15; sigz2=0.15;\n",
    "nzs=512;\n",
    "\n",
    "#Analytic redshift distributions\n",
    "z_a_1=np.linspace(zmean1-5*sigz1,zmean1+5*sigz1,nzs);\n",
    "z_a_2=np.linspace(zmean2-5*sigz2,zmean2+5*sigz2,nzs);\n",
    "pz_a_1=np.exp(-0.5*((z_a_1-zmean1)/sigz1)**2)\n",
    "pz_a_2=np.exp(-0.5*((z_a_2-zmean2)/sigz2)**2)\n",
    "#Bias parameters for these distributions\n",
    "bz_a_1=np.ones_like(z_a_1); bz_a_2=np.ones_like(z_a_2);\n",
    "\n",
    "#Binned redshift distributions and biases\n",
    "z_h_1,pz_h_1=np.loadtxt(\"../tests/benchmark/codecomp_step2_outputs/bin1_histo.txt\",unpack=True)\n",
    "z_h_2,pz_h_2=np.loadtxt(\"../tests/benchmark/codecomp_step2_outputs/bin2_histo.txt\",unpack=True)\n",
    "bz_h_1=np.ones_like(z_h_1); bz_h_2=np.ones_like(z_h_2);\n",
    "\n",
    "zarrs={'analytic':{'b1':{'z':z_a_1,'nz':pz_a_1,'bz':bz_a_1},'b2':{'z':z_a_2,'nz':pz_a_2,'bz':bz_a_2}},\n",
    "      'histo':{'b1':{'z':z_h_1,'nz':pz_h_1,'bz':bz_h_1},'b2':{'z':z_h_2,'nz':pz_h_2,'bz':bz_h_2}}}\n",
    "\n",
    "#Initialize tracers\n",
    "cl_ccl={}\n",
    "ells=np.arange(2,10000)\n",
    "cfac=np.ones(len(ells))\n",
    "for nztyp in ['analytic','histo'] :\n",
    "    cl_ccl[nztyp]={}\n",
    "    for bn in ['b1b1','b1b2','b2b1','b2b2'] :\n",
    "        cl_ccl[nztyp][bn]={}\n",
    "        za=zarrs[nztyp]\n",
    "        if bn=='b1b1' or bn=='b1b2':\n",
    "            trcrNC=ccl.NumberCountsTracer(cosmo_ccl7,has_rsd=False,\n",
    "                                            dndz=(za['b1']['z'],za['b1']['nz']),\n",
    "                                            bias=(za['b1']['z'],za['b1']['bz']))\n",
    "        else:\n",
    "            trcrNC=ccl.NumberCountsTracer(cosmo_ccl7,has_rsd=False,\n",
    "                                            dndz=(za['b2']['z'],za['b2']['nz']),\n",
    "                                            bias=(za['b1']['z'],za['b2']['bz']))\n",
    "        if bn=='b1b1' or bn=='b2b1':\n",
    "            trcrWL=ccl.WeakLensingTracer(cosmo_ccl7, dndz=(za['b1']['z'],za['b1']['nz']))\n",
    "        else:\n",
    "            trcrWL=ccl.WeakLensingTracer(cosmo_ccl7, dndz=(za['b2']['z'],za['b2']['nz']))\n",
    "        #Compute ccl predictions\n",
    "        cfac[2:]=(ells[2:]+0.5)*(ells[2:]+0.5)/np.sqrt((ells[2:]+2.)*(ells[2:]+1.)*ells[2:]*(ells[2:]-1.))\n",
    "        cl_ccl[nztyp][bn]=ccl.angular_cl(cosmo_ccl7,trcrNC,trcrWL,ells)*cfac"
   ]
  },
  {
   "cell_type": "code",
   "execution_count": null,
   "metadata": {
    "collapsed": true
   },
   "outputs": [],
   "source": [
    "import scipy\n",
    "\n",
    "##Read benchmarks and expected LSST error bars\n",
    "bench_err=np.loadtxt(\"../tests/benchmark/cov_corr/sigma_ggl_Nbin5\")\n",
    "sig_wt_spline={}\n",
    "bnum=0\n",
    "for bn in ['b1b2','b1b1','b2b2','b2b1'] : #ordering due to format in covariance file\n",
    "    bnum=bnum+1\n",
    "    sig_wt_spline[bn]=scipy.interpolate.interp1d(bench_err[:,0]/60.,bench_err[:,bnum])\n",
    "\n",
    "corrggl_bench={}\n",
    "for nztyp in ['analytic','histo'] :\n",
    "    corrggl_bench[nztyp]={}\n",
    "    for bn in ['b1b1','b1b2','b2b1','b2b2'] :\n",
    "        corrggl_bench[nztyp][bn]={}\n",
    "        corrggl_bench[nztyp][bn]=np.genfromtxt(\"../tests/benchmark/codecomp_step2_outputs/run_\"+bn+nztyp+\"_log_wt_dl.txt\",names=('theta','xi'))\n",
    "    \n",
    "theta_deg=corrggl_bench[nztyp]['b1b1']['theta']"
   ]
  },
  {
   "cell_type": "code",
   "execution_count": null,
   "metadata": {
    "collapsed": true
   },
   "outputs": [],
   "source": [
    "#Assume that c_ell are computed above in the Angular_cl benchmark\n",
    "#If you haven't run that cell, please scroll up to run it.\n",
    "#Then proceed to compute the relavent correlation functions: clustering and lensing auto-correlations.\n",
    "corrggl_fftlog={}\n",
    "corrggl_bessel={}\n",
    "cosmo_cls=cosmo_list[-2]\n",
    "cosmo_cls_cmbl=cosmo_list[-1]\n",
    "for nztyp in ['analytic','histo'] :\n",
    "    corrggl_fftlog[nztyp]={}\n",
    "    corrggl_bessel[nztyp]={}\n",
    "    for bn in ['b1b1','b1b2','b2b1','b2b2'] :\n",
    "        za=zarrs[nztyp]\n",
    "        corrggl_fftlog[nztyp][bn]={}\n",
    "        corrggl_fftlog[nztyp][bn]=ccl.correlation(cosmo_cls, ells, cl_ccl[nztyp][bn], theta_deg,corr_type='GL', method='FFTLog')\n",
    "        corrggl_bessel[nztyp][bn]={}\n",
    "        corrggl_bessel[nztyp][bn]=ccl.correlation(cosmo_cls, ells, cl_ccl[nztyp][bn], theta_deg,corr_type='GL', method='Bessel')"
   ]
  },
  {
   "cell_type": "code",
   "execution_count": null,
   "metadata": {
    "collapsed": false
   },
   "outputs": [],
   "source": [
    "accuracy = 1\n",
    "gglnames = ['1-1', '1-2', '2-2', '2-1']\n",
    "for nztyp in ['analytic','histo'] :\n",
    "    plt.figure(figsize=fig_size)\n",
    "    bnum=-1\n",
    "    for bn in ['b1b1','b1b2','b2b2','b2b1'] :\n",
    "        bnum=bnum+1\n",
    "        plt.plot(theta_deg[1:],np.abs(corrggl_bench[nztyp][bn]['xi'][1:]-corrggl_fftlog[nztyp][bn][1:])/(0.1*sig_wt_spline[bn](theta_deg[1:])),\"o-\",c=color_map(bnum), ms=4,label=gglnames[bnum])\n",
    "        plt.xscale('log')\n",
    "        plt.yscale('log')\n",
    "        plt.axhline(accuracy, c=\"k\", ls=\"--\")\n",
    "    plt.xlabel(r'$\\theta$ (degrees)')\n",
    "    plt.ylabel(r'$|\\Delta \\xi_{g\\kappa}|/0.1\\sigma_{\\rm LSST}$')\n",
    "    plt.title(names[nztyp]+r' $N(z)$ FFTLog')\n",
    "    plt.legend(ncol=2, loc=\"lower left\", fontsize=\"x-small\", frameon=False)\n",
    "    plt.gcf().subplots_adjust(**plot_adjust)\n",
    "    plt.savefig('projected_xiggl_error_comparison_'+nztyp+'.pdf')\n",
    "    plt.show()\n",
    "    plt.clf()"
   ]
  },
  {
   "cell_type": "code",
   "execution_count": null,
   "metadata": {
    "collapsed": false
   },
   "outputs": [],
   "source": [
    "accuracy = 1\n",
    "gglnames = ['1-1', '1-2', '2-2', '2-1']\n",
    "lslist=['-',':','-','-','--','--','--','--']\n",
    "plt.figure(figsize=fig_size)\n",
    "lsnum=-1\n",
    "for nztyp in ['analytic','histo'] :\n",
    "    lsnum=lsnum+1\n",
    "    bnum=-1\n",
    "    for bn in ['b1b1','b1b2','b2b2','b2b1'] :\n",
    "        bnum=bnum+1\n",
    "        plt.plot(theta_deg[1:],np.abs(corrggl_bench[nztyp][bn]['xi'][1:]-corrggl_fftlog[nztyp][bn][1:])/(0.1*sig_wt_spline[bn](theta_deg[1:])),\"o-\",c=color_map(bnum), ms=4,label=gglnames[bnum],ls=lslist[lsnum])\n",
    "        plt.xscale('log')\n",
    "        plt.yscale('log')\n",
    "        plt.axhline(accuracy, c=\"k\", ls=\"--\")\n",
    "plt.plot([-1,-1],[-1,-1],ls='-',c='k',label='Analytic $N(z)$')\n",
    "plt.plot([-1,-1],[-1,-1],ls=':',c='k',label='Binned $N(z)$')\n",
    "plt.xlabel(r'$\\theta$ (degrees)')\n",
    "plt.ylabel(r'$|\\Delta \\xi_{g\\kappa}|/0.1\\sigma_{\\rm LSST}$')\n",
    "#plt.title(r'Analytic $N(z)$, $1-2$')\n",
    "plt.title(r' Galaxy -- galaxy lensing (FFTLog)')\n",
    "plt.legend(ncol=2, loc=\"lower left\", fontsize=\"x-small\", frameon=False)\n",
    "plt.gcf().subplots_adjust(**plot_adjust)\n",
    "plt.savefig('projected_xiggl_error_comparison_bothnz_fftlog.pdf')\n",
    "plt.show()\n",
    "plt.clf()\n",
    "\n",
    "\n",
    "plt.figure(figsize=fig_size)\n",
    "lsnum=-1\n",
    "for nztyp in ['analytic','histo'] :\n",
    "    lsnum=lsnum+1\n",
    "    bnum=-1\n",
    "    for bn in ['b1b1','b1b2','b2b2','b2b1'] :\n",
    "        bnum=bnum+1\n",
    "        plt.plot(theta_deg[1:],np.abs(corrggl_bench[nztyp][bn]['xi'][1:]-corrggl_bessel[nztyp][bn][1:])/(0.1*sig_wt_spline[bn](theta_deg[1:])),\"o-\",c=color_map(bnum), ms=4,label=gglnames[bnum],ls=lslist[lsnum])\n",
    "        plt.xscale('log')\n",
    "        plt.yscale('log')\n",
    "        plt.axhline(accuracy, c=\"k\", ls=\"--\")\n",
    "plt.plot([-1,-1],[-1,-1],ls='-',c='k',label='Analytic $N(z)$')\n",
    "plt.plot([-1,-1],[-1,-1],ls=':',c='k',label='Binned $N(z)$')\n",
    "plt.xlabel(r'$\\theta$ (degrees)')\n",
    "plt.ylabel(r'$|\\Delta \\xi_{g\\kappa}|/0.1\\sigma_{\\rm LSST}$')\n",
    "plt.ylim([1e-6, 4])\n",
    "#plt.title(r'Analytic $N(z)$, $1-2$')\n",
    "plt.title(r' Galaxy -- galaxy lensing (Bessel)')\n",
    "plt.legend(ncol=2, loc=\"lower left\", fontsize=\"x-small\", frameon=False)\n",
    "plt.gcf().subplots_adjust(**plot_adjust)\n",
    "plt.savefig('projected_xiggl_error_comparison_bothnz_bessel.pdf')\n",
    "plt.show()\n",
    "plt.clf()"
   ]
  },
  {
   "cell_type": "markdown",
   "metadata": {},
   "source": [
    "## Including intrinsic alignments\n",
    "\n",
    "Here we are only showing the comparison for the total signal (GG+GI+II). The individual intrinsic alignment terms (II, GI) have been included in the c unit test and pass the same 0.1$\\sigma_\\rm{LSST}$ threshold requirement using CCL with brute-force integration and 0.2$\\sigma_\\rm{LSST}$ with the FFTLog method."
   ]
  },
  {
   "cell_type": "code",
   "execution_count": null,
   "metadata": {
    "collapsed": true
   },
   "outputs": [],
   "source": [
    "#Read benchmarks and expected LSST error bars\n",
    "bench_err={}\n",
    "bench_err['dd']=np.genfromtxt(\"../tests/benchmark/cov_corr/sigma_clustering_Nbin5\",names=('theta','b1b1','b2b2','b1b2'))\n",
    "bench_err['ll+']=np.genfromtxt(\"../tests/benchmark/cov_corr/sigma_xi+_Nbin5\",names=('theta','b1b1','b2b2','b1b2'))\n",
    "bench_err['ll-']=np.genfromtxt(\"../tests/benchmark/cov_corr/sigma_xi-_Nbin5\",names=('theta','b1b1','b2b2','b1b2'))\n",
    "bench_err['lltot+']=np.genfromtxt(\"../tests/benchmark/cov_corr/sigma_xi+_Nbin5\",names=('theta','b1b1','b2b2','b1b2'))\n",
    "bench_err['lltot-']=np.genfromtxt(\"../tests/benchmark/cov_corr/sigma_xi-_Nbin5\",names=('theta','b1b1','b2b2','b1b2'))\n",
    "#bench_err['li+']=np.genfromtxt(\"../tests/benchmark/cov_corr/sigma_xi+_Nbin5\",names=('theta','b1b1','b2b2','b1b2'))\n",
    "#bench_err['li-']=np.genfromtxt(\"../tests/benchmark/cov_corr/sigma_xi-_Nbin5\",names=('theta','b1b1','b2b2','b1b2'))\n",
    "#bench_err['ii+']=np.genfromtxt(\"../tests/benchmark/cov_corr/sigma_xi+_Nbin5\",names=('theta','b1b1','b2b2','b1b2'))\n",
    "#bench_err['ii-']=np.genfromtxt(\"../tests/benchmark/cov_corr/sigma_xi-_Nbin5\",names=('theta','b1b1','b2b2','b1b2'))\n",
    "\n",
    "\n",
    "corr_bench={}\n",
    "for nztyp in ['analytic','histo'] :\n",
    "    corr_bench[nztyp]={}\n",
    "    for bn in ['b1b1','b2b2'] :\n",
    "        corr_bench[nztyp][bn]={}\n",
    "#        for trtyp in ['dd','ll','lltot','li','ii'] :\n",
    "        for trtyp in ['dd','ll','lltot'] :\n",
    "            if  'dd' in trtyp:\n",
    "                corr_bench[nztyp][bn][trtyp]=np.genfromtxt(\"../tests/benchmark/codecomp_step2_outputs/run_\"+bn+nztyp+\"_log_wt_\"+trtyp+\".txt\",names=('theta','xi'))\n",
    "            if  'll' in trtyp:\n",
    "                corr_bench[nztyp][bn][trtyp+'+']=np.genfromtxt(\"../tests/benchmark/codecomp_step2_outputs/run_\"+bn+nztyp+\"_log_wt_\"+trtyp+\"_pp.txt\",names=('theta','xi'))\n",
    "                corr_bench[nztyp][bn][trtyp+'-']=np.genfromtxt(\"../tests/benchmark/codecomp_step2_outputs/run_\"+bn+nztyp+\"_log_wt_\"+trtyp+\"_mm.txt\",names=('theta','xi'))\n",
    "            if  'lltot' in trtyp:\n",
    "                corr_bench[nztyp][bn][trtyp+'+']=np.genfromtxt(\"../tests/benchmark/codecomp_step2_outputs/run_\"+bn+nztyp+\"_log_wt_\"+trtyp+\"_pp.txt\",names=('theta','xi'))\n",
    "                corr_bench[nztyp][bn][trtyp+'-']=np.genfromtxt(\"../tests/benchmark/codecomp_step2_outputs/run_\"+bn+nztyp+\"_log_wt_\"+trtyp+\"_mm.txt\",names=('theta','xi'))\n",
    "\n",
    "                \n",
    "theta_deg=corr_bench[nztyp][bn]['dd']['theta']"
   ]
  },
  {
   "cell_type": "code",
   "execution_count": null,
   "metadata": {
    "collapsed": true
   },
   "outputs": [],
   "source": [
    "#Get Cls to compute correlation\n",
    "#Redshift distribution\n",
    "zmean1=1.0; zmean2=1.5;\n",
    "sigz1=0.15; sigz2=0.15;\n",
    "nzs=512;\n",
    "\n",
    "#Analytic redshift distributions\n",
    "z_a_1=np.linspace(zmean1-5*sigz1,zmean1+5*sigz1,nzs);\n",
    "z_a_2=np.linspace(zmean2-5*sigz2,zmean2+5*sigz2,nzs);\n",
    "pz_a_1=np.exp(-0.5*((z_a_1-zmean1)/sigz1)**2)\n",
    "pz_a_2=np.exp(-0.5*((z_a_2-zmean2)/sigz2)**2)\n",
    "#Bias parameters for these distributions\n",
    "bz_a_1=np.ones_like(z_a_1); bz_a_2=np.ones_like(z_a_2);\n",
    "\n",
    "#Binned redshift distributions and biases\n",
    "z_h_1,pz_h_1=np.loadtxt(\"../tests/benchmark/codecomp_step2_outputs/bin1_histo.txt\",unpack=True)[:,1:]\n",
    "z_h_2,pz_h_2=np.loadtxt(\"../tests/benchmark/codecomp_step2_outputs/bin2_histo.txt\",unpack=True)[:,1:]\n",
    "bz_h_1=np.ones_like(z_h_1); bz_h_2=np.ones_like(z_h_2);\n",
    "\n",
    "#IA amplitude arrays\n",
    "zi_h_1,az_h_1=np.loadtxt(\"../tests/benchmark/codecomp_step2_outputs/cclamparrhisto1nznb.txt\",unpack=True)\n",
    "zi_h_2,az_h_2=np.loadtxt(\"../tests/benchmark/codecomp_step2_outputs/cclamparrhisto2nznb.txt\",unpack=True)\n",
    "zi_a_1,az_a_1=np.loadtxt(\"../tests/benchmark/codecomp_step2_outputs/cclamparranalytic1nz512nb.txt\",unpack=True)\n",
    "zi_a_2,az_a_2=np.loadtxt(\"../tests/benchmark/codecomp_step2_outputs/cclamparranalytic2nz512nb.txt\",unpack=True)\n",
    "\n",
    "rz_a_1=np.ones_like(z_a_1); rz_a_2=np.ones_like(z_a_2);\n",
    "rz_h_1=np.ones_like(z_h_1); rz_h_2=np.ones_like(z_h_2);\n",
    "\n",
    "zarrs={'analytic':{'b1':{'z':z_a_1,'nz':pz_a_1,'bz':bz_a_1,'az':az_a_1,'rz':rz_a_1},'b2':{'z':z_a_2,'nz':pz_a_2,'bz':bz_a_2,'az':az_a_2,'rz':rz_a_2}},\n",
    "      'histo':{'b1':{'z':z_h_1,'nz':pz_h_1,'bz':bz_h_1,'az':az_h_1,'rz':rz_h_1},'b2':{'z':z_h_2,'nz':pz_h_2,'bz':bz_h_2,'az':az_h_2,'rz':rz_h_2}}}\n",
    "\n",
    "\n",
    "#Initialize tracers\n",
    "cosmo_cls=cosmo_list[-2]\n",
    "cosmo_cls_cmbl=cosmo_list[-1]\n",
    "trcrs={}\n",
    "for nztyp in ['analytic','histo'] :\n",
    "    trcrs[nztyp]={}\n",
    "    za=zarrs[nztyp]\n",
    "#    for trtyp in ['dd','ll','lltot','li','ii'] :\n",
    "    for trtyp in ['dd','ll','lltot'] :\n",
    "        trcrs[nztyp][trtyp]={}\n",
    "        for bn in ['b1','b2'] :\n",
    "            if trtyp=='dd' :\n",
    "                trcrs[nztyp][trtyp][bn]=ccl.NumberCountsTracer(cosmo_cls,has_rsd=False,\n",
    "                                                                dndz=(za[bn]['z'],za[bn]['nz']),\n",
    "                                                                bias=(za[bn]['z'],za[bn]['bz']))\n",
    "            if trtyp=='ll' :\n",
    "                trcrs[nztyp][trtyp][bn]=ccl.WeakLensingTracer(cosmo_cls,\n",
    "                                                            dndz=(za[bn]['z'],za[bn]['nz']))\n",
    "\n",
    "            if trtyp=='lltot':\n",
    "                trcrs[nztyp][trtyp][bn]=ccl.WeakLensingTracer(cosmo_cls,dndz=(za[bn]['z'],za[bn]['nz']), \n",
    "                                                       ia_bias=(za[bn]['z'],za[bn]['az']), \n",
    "                                                       red_frac=(za[bn]['z'],za[bn]['rz']))            \n",
    "\n",
    "                \n",
    "#Compute ccl predictions\n",
    "cl_ccl={}\n",
    "for nztyp in ['analytic','histo'] :\n",
    "    cl_ccl[nztyp]={}\n",
    "    for trtyp in ['dd','ll','lltot'] :\n",
    "#    for trtyp in ['dd','ll','lltot','li','ii'] :\n",
    "        cl_ccl[nztyp][trtyp]={}\n",
    "        cl_ccl[nztyp][trtyp]['b1b1']={}\n",
    "        ells=np.arange(1,10000)\n",
    "        cfac=np.ones(len(ells))\n",
    "#    if trtyp=='ll' or trtyp=='lltot' or trtyp=='li' or trtyp=='ii' :\n",
    "        if (trtyp=='ll' or trtyp=='lltot') :\n",
    "            cfac[1:]=ells[1:]*(ells[1:]+1.)/np.sqrt((ells[1:]+2.)*(ells[1:]+1.)*ells[1:]*(ells[1:]-1.))\n",
    "        cl_ccl[nztyp][trtyp]['b1b1']['ell']=ells\n",
    "        cl_ccl[nztyp][trtyp]['b1b1']['cell']=ccl.angular_cl(cosmo_cls,trcrs[nztyp][trtyp]['b1'], trcrs[nztyp][trtyp]['b1'],ells)*cfac**2\n",
    "        cl_ccl[nztyp][trtyp]['b1b2']={}\n",
    "        cfac=np.ones(len(ells))\n",
    "#    if trtyp=='ll' or trtyp=='lltot' or trtyp=='li' or trtyp=='ii' :\n",
    "        if (trtyp=='ll' or trtyp=='lltot') :\n",
    "            cfac[1:]=ells[1:]*(ells[1:]+1.)/np.sqrt((ells[1:]+2.)*(ells[1:]+1.)*ells[1:]*(ells[1:]-1.))\n",
    "        cl_ccl[nztyp][trtyp]['b1b2']['ell']=ells\n",
    "        cl_ccl[nztyp][trtyp]['b1b2']['cell']=ccl.angular_cl(cosmo_cls,trcrs[nztyp][trtyp]['b1'],\n",
    "                                                            trcrs[nztyp][trtyp]['b2'],ells)*cfac**2\n",
    "        cl_ccl[nztyp][trtyp]['b2b2']={}\n",
    "        cfac=np.ones(len(ells))\n",
    "#    if trtyp=='ll' or trtyp=='lltot' or trtyp=='li' or trtyp=='ii' :\n",
    "        if (trtyp=='ll' or trtyp=='lltot') :\n",
    "            cfac[1:]=ells[1:]*(ells[1:]+1.)/np.sqrt((ells[1:]+2.)*(ells[1:]+1.)*ells[1:]*(ells[1:]-1.))\n",
    "        cl_ccl[nztyp][trtyp]['b2b2']['ell']=ells\n",
    "        cl_ccl[nztyp][trtyp]['b2b2']['cell']=ccl.angular_cl(cosmo_cls,trcrs[nztyp][trtyp]['b2'],\n",
    "                                                            trcrs[nztyp][trtyp]['b2'],ells)*cfac**2\n",
    "        \n",
    "        "
   ]
  },
  {
   "cell_type": "code",
   "execution_count": null,
   "metadata": {
    "collapsed": true
   },
   "outputs": [],
   "source": [
    "#Assume that c_ell are computed above in the Angular_cl benchmark\n",
    "#If you haven't run that cell, please scroll up to run it.\n",
    "#Then proceed to compute the relavent correlation functions: clustering and lensing auto-correlations.\n",
    "corr={}\n",
    "corr_bessel={}\n",
    "for nztyp in ['analytic','histo'] :\n",
    "    corr[nztyp]={}\n",
    "    corr_bessel[nztyp]={}\n",
    "    za=zarrs[nztyp]\n",
    "    for bn in ['b1b1','b2b2'] :\n",
    "        corr[nztyp][bn]={}\n",
    "        corr_bessel[nztyp][bn]={}\n",
    "        for trtyp in ['dd','ll','lltot'] :\n",
    "            ell=cl_ccl[nztyp][trtyp][bn]['ell']\n",
    "            cell=cl_ccl[nztyp][trtyp][bn]['cell']\n",
    "            if 'dd' in trtyp:\n",
    "                corr[nztyp][bn][trtyp]=ccl.correlation(cosmo_cls, ell, cell, theta_deg,\n",
    "                                                       corr_type='GG', method='FFTLog')\n",
    "                corr_bessel[nztyp][bn][trtyp]=ccl.correlation(cosmo_cls, ell, cell, theta_deg,\n",
    "                                                       corr_type='GG', method='Bessel')\n",
    "            if 'll' in trtyp:\n",
    "                corr[nztyp][bn][trtyp+'+']=ccl.correlation(cosmo_cls, ell, cell, theta_deg,\n",
    "                                                       corr_type='L+', method='FFTLog')\n",
    "                corr_bessel[nztyp][bn][trtyp+'+']=ccl.correlation(cosmo_cls, ell, cell, theta_deg,\n",
    "                                                       corr_type='L+', method='Bessel')\n",
    "                corr[nztyp][bn][trtyp+'-']=ccl.correlation(cosmo_cls, ell, cell, theta_deg,\n",
    "                                                       corr_type='L-', method='FFTLog')\n",
    "                corr_bessel[nztyp][bn][trtyp+'-']=ccl.correlation(cosmo_cls, ell, cell, theta_deg,\n",
    "                                                       corr_type='L-', method='Bessel')\n",
    "                \n",
    "            if 'lltot' in trtyp:\n",
    "                corr[nztyp][bn][trtyp+'+']=ccl.correlation(cosmo_cls, ell, cell, theta_deg,\n",
    "                                                       corr_type='L+', method='FFTLog')\n",
    "                corr_bessel[nztyp][bn][trtyp+'+']=ccl.correlation(cosmo_cls, ell, cell, theta_deg,\n",
    "                                                       corr_type='L+', method='Bessel')\n",
    "                corr[nztyp][bn][trtyp+'-']=ccl.correlation(cosmo_cls, ell, cell, theta_deg,\n",
    "                                                       corr_type='L-', method='FFTLog')\n",
    "                corr_bessel[nztyp][bn][trtyp+'-']=ccl.correlation(cosmo_cls, ell, cell, theta_deg,\n",
    "                                                       corr_type='L-', method='Bessel')            "
   ]
  },
  {
   "cell_type": "code",
   "execution_count": null,
   "metadata": {
    "collapsed": false
   },
   "outputs": [],
   "source": [
    "#With the computations done, proceed to compare the difference between benchmark and prediction\n",
    "#to the size of the LSST error bars.\n",
    "\n",
    "names={'analytic':'Analytic','histo':'Histogram','dd':r'$\\xi_{gg}$','ll+':r'$\\xi_+$','ll-':r'$\\xi_-$','lltot+':r'$\\xi_+^{\\rm{GG+GI+II}}$','lltot-':r'$\\xi_-^{\\rm{GG+GI+II}}$',\n",
    "       'b1b1':'1-1','b1b2':'1-2','b2b2':'2-2','cb1b1':'r','cb1b2':'b','cb2b2':'y','cdd':'o-','cll+':'^--',\n",
    "       'cll-':'s:','clltot+':'^--','clltot-':'s:'}\n",
    "\n",
    "accuracy = 1\n",
    "\n",
    "inz=0\n",
    "for nztyp in ['analytic','histo'] :\n",
    "    plt.figure(figsize=fig_size)\n",
    "\n",
    "    za=zarrs[nztyp]\n",
    "    ibn=0\n",
    "#    for trtyp in ['dd','ll+','ll-','lltot+','lltot-'] :\n",
    "    for trtyp in ['lltot+','lltot-'] :\n",
    "        for i, bn in enumerate(['b1b1','b2b2']):\n",
    "                plt.plot(theta_deg*(1+0.03*(ibn+inz)),np.absolute(corr_bench[nztyp][bn][trtyp]['xi']-corr[nztyp][bn][trtyp])/(0.2*bench_err[trtyp][bn]),\n",
    "                         c=color_map(i), marker=names['c'+trtyp][0], ms=5, ls=names['c'+trtyp][1:], \n",
    "                         label=names[trtyp]+', '+names[bn])\n",
    "                plt.xscale('log')\n",
    "                plt.yscale('log')\n",
    "        plt.axhline(accuracy, c=\"k\", ls=\"--\")\n",
    "        plt.legend(ncol=2, fontsize=\"x-small\", frameon=False)\n",
    "        plt.ylim(1.e-4,4.e0)\n",
    "        plt.xlabel(r'$\\theta$ (degrees)')\n",
    "        plt.ylabel(r'$|\\Delta \\xi|/0.2\\sigma_{\\rm LSST}$')\n",
    "        ibn+=1\n",
    "    inz+=1\n",
    "    plt.title(names[nztyp]+r' $N(z)$ FFTLog')\n",
    "    plt.gcf().subplots_adjust(**plot_adjust)\n",
    "    plt.savefig('projected_correlation_error_comparison_total_'+nztyp+'fftlog.pdf')\n",
    "    plt.show()\n",
    "    plt.clf()\n",
    "\n",
    "        \n",
    "    \n",
    "inz=0\n",
    "for nztyp in ['analytic','histo'] :\n",
    "    plt.figure(figsize=fig_size)\n",
    "\n",
    "    za=zarrs[nztyp]\n",
    "    ibn=0\n",
    "#    for trtyp in ['dd','ll+','ll-','lltot+','lltot-'] :\n",
    "    for trtyp in ['lltot+','lltot-'] :\n",
    "        for i, bn in enumerate(['b1b1','b2b2']):\n",
    "            plt.plot(theta_deg*(1+0.03*(ibn+inz)),np.absolute(corr_bench[nztyp][bn][trtyp]['xi']-corr_bessel[nztyp][bn][trtyp])/(0.1*bench_err[trtyp][bn]),\n",
    "                     c=color_map(i), marker=names['c'+trtyp][0], ms=5, ls=names['c'+trtyp][1:], \n",
    "                     label=names[trtyp]+', '+names[bn])\n",
    "            plt.xscale('log')\n",
    "            plt.yscale('log')\n",
    "        plt.axhline(accuracy, c=\"k\", ls=\"--\")\n",
    "        plt.legend(ncol=2, fontsize=\"x-small\", frameon=False)\n",
    "        plt.ylim(1.e-4,4.e0)\n",
    "        plt.xlabel(r'$\\theta$ (degrees)')\n",
    "        plt.ylabel(r'$|\\Delta \\xi|/0.1\\sigma_{\\rm LSST}$')\n",
    "        ibn+=1\n",
    "    inz+=1\n",
    "    plt.title(names[nztyp]+r' $N(z)$ Bessel')\n",
    "    plt.gcf().subplots_adjust(**plot_adjust)\n",
    "    plt.savefig('projected_correlation_error_comparison_total_'+nztyp+'bessel.pdf')\n",
    "    plt.show()\n",
    "    plt.clf()"
   ]
  },
  {
   "cell_type": "markdown",
   "metadata": {},
   "source": [
    "### Galaxy-galaxy lensing including intrinsic alignments (gG+gI) "
   ]
  },
  {
   "cell_type": "code",
   "execution_count": null,
   "metadata": {
    "collapsed": true
   },
   "outputs": [],
   "source": [
    "#Redshift distribution\n",
    "zmean1=1.0; zmean2=1.5;\n",
    "sigz1=0.15; sigz2=0.15;\n",
    "nzs=512;\n",
    "\n",
    "#Analytic redshift distributions\n",
    "z_a_1=np.linspace(zmean1-5*sigz1,zmean1+5*sigz1,nzs);\n",
    "z_a_2=np.linspace(zmean2-5*sigz2,zmean2+5*sigz2,nzs);\n",
    "pz_a_1=np.exp(-0.5*((z_a_1-zmean1)/sigz1)**2)\n",
    "pz_a_2=np.exp(-0.5*((z_a_2-zmean2)/sigz2)**2)\n",
    "#Bias parameters for these distributions\n",
    "bz_a_1=np.ones_like(z_a_1); bz_a_2=np.ones_like(z_a_2);\n",
    "\n",
    "#Binned redshift distributions and biases\n",
    "z_h_1,pz_h_1=np.loadtxt(\"../tests/benchmark/codecomp_step2_outputs/bin1_histo.txt\",unpack=True)[:,1:]\n",
    "z_h_2,pz_h_2=np.loadtxt(\"../tests/benchmark/codecomp_step2_outputs/bin2_histo.txt\",unpack=True)[:,1:]\n",
    "bz_h_1=np.ones_like(z_h_1); bz_h_2=np.ones_like(z_h_2);\n",
    "\n",
    "\n",
    "#IA amplitude arrays\n",
    "zi_h_1,az_h_1=np.loadtxt(\"../tests/benchmark/codecomp_step2_outputs/cclamparrhisto1nznb.txt\",unpack=True)\n",
    "zi_h_2,az_h_2=np.loadtxt(\"../tests/benchmark/codecomp_step2_outputs/cclamparrhisto2nznb.txt\",unpack=True)\n",
    "zi_a_1,az_a_1=np.loadtxt(\"../tests/benchmark/codecomp_step2_outputs/cclamparranalytic1nz512nb.txt\",unpack=True)\n",
    "zi_a_2,az_a_2=np.loadtxt(\"../tests/benchmark/codecomp_step2_outputs/cclamparranalytic2nz512nb.txt\",unpack=True)\n",
    "\n",
    "rz_a_1=np.ones_like(z_a_1); rz_a_2=np.ones_like(z_a_2);\n",
    "rz_h_1=np.ones_like(z_h_1); rz_h_2=np.ones_like(z_h_2);\n",
    "\n",
    "zarrs={'analytic':{'b1':{'z':z_a_1,'nz':pz_a_1,'bz':bz_a_1,'az':az_a_1,'rz':rz_a_1},'b2':{'z':z_a_2,'nz':pz_a_2,'bz':bz_a_2,'az':az_a_2,'rz':rz_a_2}},\n",
    "      'histo':{'b1':{'z':z_h_1,'nz':pz_h_1,'bz':bz_h_1,'az':az_h_1,'rz':rz_h_1},'b2':{'z':z_h_2,'nz':pz_h_2,'bz':bz_h_2,'az':az_h_2,'rz':rz_h_2}}}\n",
    "\n",
    "#Initialize tracers\n",
    "cl_ccl={}\n",
    "ells=np.arange(2,10000)\n",
    "cfac=np.ones(len(ells))\n",
    "for nztyp in ['analytic','histo'] :\n",
    "    cl_ccl[nztyp]={}\n",
    "    for bn in ['b1b1','b1b2','b2b1','b2b2'] :\n",
    "        cl_ccl[nztyp][bn]={}\n",
    "        za=zarrs[nztyp]\n",
    "        if bn=='b1b1' or bn=='b1b2':\n",
    "            trcrNC=ccl.NumberCountsTracer(cosmo_ccl7,has_rsd=False,\n",
    "                                            dndz=(za['b1']['z'],za['b1']['nz']),\n",
    "                                            bias=(za['b1']['z'],za['b1']['bz']))\n",
    "        else:\n",
    "            trcrNC=ccl.NumberCountsTracer(cosmo_ccl7,has_rsd=False,\n",
    "                                            dndz=(za['b2']['z'],za['b2']['nz']),\n",
    "                                            bias=(za['b1']['z'],za['b2']['bz']))\n",
    "        if bn=='b1b1' or bn=='b2b1':\n",
    "            trcrWL=ccl.WeakLensingTracer(cosmo_ccl7, dndz=(za['b1']['z'],za['b1']['nz']), \n",
    "                                         ia_bias=(za['b1']['z'],za['b1']['az']), \n",
    "                                         red_frac=(za['b1']['z'],za['b1']['rz']))\n",
    "        else:\n",
    "            trcrWL=ccl.WeakLensingTracer(cosmo_ccl7, dndz=(za['b2']['z'],za['b2']['nz']), \n",
    "                                         ia_bias=(za['b2']['z'],za['b2']['az']), \n",
    "                                         red_frac=(za['b2']['z'],za['b2']['rz']))\n",
    "        #Compute ccl predictions\n",
    "        cfac[2:]=(ells[2:]+0.5)*(ells[2:]+0.5)/np.sqrt((ells[2:]+2.)*(ells[2:]+1.)*ells[2:]*(ells[2:]-1.))\n",
    "        cl_ccl[nztyp][bn]=ccl.angular_cl(cosmo_ccl7,trcrNC,trcrWL,ells)*cfac"
   ]
  },
  {
   "cell_type": "code",
   "execution_count": null,
   "metadata": {
    "collapsed": true
   },
   "outputs": [],
   "source": [
    "import scipy\n",
    "\n",
    "##Read benchmarks and expected LSST error bars\n",
    "bench_err=np.loadtxt(\"../tests/benchmark/cov_corr/sigma_ggl_Nbin5\")\n",
    "sig_wt_spline={}\n",
    "bnum=0\n",
    "for bn in ['b1b2','b1b1','b2b2','b2b1'] : #ordering due to format in covariance file\n",
    "    bnum=bnum+1\n",
    "    sig_wt_spline[bn]=scipy.interpolate.interp1d(bench_err[:,0]/60.,bench_err[:,bnum])\n",
    "\n",
    "corrggl_bench={}\n",
    "for nztyp in ['analytic','histo'] :\n",
    "    corrggl_bench[nztyp]={}\n",
    "    for bn in ['b1b1','b1b2','b2b1','b2b2'] :\n",
    "        corrggl_bench[nztyp][bn]={}\n",
    "        corrggl_bench[nztyp][bn]=np.genfromtxt(\"../tests/benchmark/codecomp_step2_outputs/run_\"+bn+nztyp+\"_log_wt_dltot.txt\",names=('theta','xi'))\n",
    "    \n",
    "theta_deg=corrggl_bench[nztyp]['b1b1']['theta']"
   ]
  },
  {
   "cell_type": "code",
   "execution_count": null,
   "metadata": {
    "collapsed": true
   },
   "outputs": [],
   "source": [
    "#Assume that c_ell are computed above in the Angular_cl benchmark\n",
    "#If you haven't run that cell, please scroll up to run it.\n",
    "#Then proceed to compute the relavent correlation functions: clustering and lensing auto-correlations.\n",
    "corrggl_fftlog={}\n",
    "corrggl_bessel={}\n",
    "cosmo_cls=cosmo_list[-2]\n",
    "cosmo_cls_cmbl=cosmo_list[-1]\n",
    "for nztyp in ['analytic','histo'] :\n",
    "    corrggl_fftlog[nztyp]={}\n",
    "    corrggl_bessel[nztyp]={}\n",
    "    for bn in ['b1b1','b1b2','b2b1','b2b2'] :\n",
    "        za=zarrs[nztyp]\n",
    "        corrggl_fftlog[nztyp][bn]={}\n",
    "        corrggl_fftlog[nztyp][bn]=ccl.correlation(cosmo_cls, ells, cl_ccl[nztyp][bn], theta_deg,corr_type='GL', method='FFTLog')\n",
    "        corrggl_bessel[nztyp][bn]={}\n",
    "        corrggl_bessel[nztyp][bn]=ccl.correlation(cosmo_cls, ells, cl_ccl[nztyp][bn], theta_deg,corr_type='GL', method='Bessel')"
   ]
  },
  {
   "cell_type": "code",
   "execution_count": null,
   "metadata": {
    "collapsed": false
   },
   "outputs": [],
   "source": [
    "accuracy = 1\n",
    "gglnames = ['1-1', '1-2', '2-2', '2-1']\n",
    "lslist=['-',':','-','-','--','--','--','--']\n",
    "plt.figure(figsize=fig_size)\n",
    "lsnum=-1\n",
    "for nztyp in ['analytic','histo'] :\n",
    "    lsnum=lsnum+1\n",
    "    bnum=-1\n",
    "    for bn in ['b1b1','b1b2','b2b2','b2b1'] :\n",
    "        bnum=bnum+1\n",
    "        plt.plot(theta_deg[1:],np.abs(corrggl_bench[nztyp][bn]['xi'][1:]-corrggl_fftlog[nztyp][bn][1:])/(0.1*sig_wt_spline[bn](theta_deg[1:])),\"o-\",c=color_map(bnum), ms=4,label=gglnames[bnum],ls=lslist[lsnum])\n",
    "        plt.xscale('log')\n",
    "        plt.yscale('log')\n",
    "        plt.axhline(accuracy, c=\"k\", ls=\"--\")\n",
    "plt.plot([-1,-1],[-1,-1],ls='-',c='k',label='Analytic $N(z)$')\n",
    "plt.plot([-1,-1],[-1,-1],ls=':',c='k',label='Binned $N(z)$')\n",
    "plt.xlabel(r'$\\theta$ (degrees)')\n",
    "plt.ylabel(r'$|\\Delta \\xi_{g\\kappa}|/0.1\\sigma_{\\rm LSST}$')\n",
    "plt.ylim([1e-7, 2])\n",
    "plt.title(r' Galaxy-galaxy lensing gG+gI (FFTLog)')\n",
    "plt.legend(ncol=2, loc=\"lower left\", fontsize=\"x-small\", frameon=False)\n",
    "plt.gcf().subplots_adjust(**plot_adjust)\n",
    "plt.savefig('projected_xiggltotal_error_comparison_bothnz_fftlog.pdf')\n",
    "plt.show()\n",
    "plt.clf()\n",
    "\n",
    "\n",
    "plt.figure(figsize=fig_size)\n",
    "lsnum=-1\n",
    "for nztyp in ['analytic','histo'] :\n",
    "    lsnum=lsnum+1\n",
    "    bnum=-1\n",
    "    for bn in ['b1b1','b1b2','b2b2','b2b1'] :\n",
    "        bnum=bnum+1\n",
    "        plt.plot(theta_deg[1:],np.abs(corrggl_bench[nztyp][bn]['xi'][1:]-corrggl_bessel[nztyp][bn][1:])/(0.1*sig_wt_spline[bn](theta_deg[1:])),\"o-\",c=color_map(bnum), ms=4,label=gglnames[bnum],ls=lslist[lsnum])\n",
    "        plt.xscale('log')\n",
    "        plt.yscale('log')\n",
    "        plt.axhline(accuracy, c=\"k\", ls=\"--\")\n",
    "plt.plot([-1,-1],[-1,-1],ls='-',c='k',label='Analytic $N(z)$')\n",
    "plt.plot([-1,-1],[-1,-1],ls=':',c='k',label='Binned $N(z)$')\n",
    "plt.xlabel(r'$\\theta$ (degrees)')\n",
    "plt.ylabel(r'$|\\Delta \\xi_{g\\kappa}|/0.1\\sigma_{\\rm LSST}$')\n",
    "plt.ylim([1e-7, 2])\n",
    "plt.title(r' Galaxy-galaxy lensing gG+gI (Bessel)')\n",
    "plt.legend(ncol=2, loc=\"lower right\", fontsize=\"x-small\", frameon=False)\n",
    "plt.gcf().subplots_adjust(**plot_adjust)\n",
    "plt.savefig('projected_xiggltotal_error_comparison_bothnz_bessel.pdf')\n",
    "plt.show()\n",
    "plt.clf()"
   ]
  },
  {
   "cell_type": "markdown",
   "metadata": {},
   "source": [
    "## Mass function"
   ]
  },
  {
   "cell_type": "markdown",
   "metadata": {},
   "source": [
    "This section of the notebook tests the halo mass function predictions in different forms."
   ]
  },
  {
   "cell_type": "code",
   "execution_count": null,
   "metadata": {
    "collapsed": true
   },
   "outputs": [],
   "source": [
    "#Load the benchmarks\n",
    "bench=np.loadtxt('../tests/benchmark/model1_hmf.txt')\n",
    "log10mass = bench[0:,0]\n",
    "sigma = bench[0:,1]\n",
    "log10invsigma = bench[0:,2]\n",
    "log10massfunc = bench[0:,3]\n",
    "\n",
    "scale_fact = 1.\n",
    "\n",
    "# setting up different cosmology configuration to match benchmarks and keep CLASS from crashing.\n",
    "cosmo_ccl1_mf = ccl.Cosmology(\n",
    "    Omega_c=0.25, Omega_b=0.05, h=0.7, sigma8=0.8, n_s=0.96,\n",
    "    transfer_function='bbks', mass_function='tinker', Omega_g=0)"
   ]
  },
  {
   "cell_type": "code",
   "execution_count": null,
   "metadata": {
    "collapsed": false
   },
   "outputs": [],
   "source": [
    "accuracy = 3e-5\n",
    "\n",
    "mass_function_fig_size = (paper_textwidth/3, fig_size[1])\n",
    "mass_function_plot_adjust = plot_adjust.copy()\n",
    "mass_function_plot_adjust[\"left\"] = 0.35\n",
    "mass_function_plot_adjust[\"right\"] = 0.99\n",
    "\n",
    "#This plot shows the relative difference in sigmaM predictions.\n",
    "plt.figure(figsize=mass_function_fig_size)\n",
    "plt.gcf().subplots_adjust(**mass_function_plot_adjust)\n",
    "plt.ylabel(r'$|\\Delta \\sigma(M)|/\\sigma(M)$')\n",
    "plt.xlabel(r'$M$ [M$_{\\odot}$]')\n",
    "plt.gca().set_xscale('log')\n",
    "plt.plot(10**log10mass, np.abs(ccl.sigmaM(cosmo_ccl1_mf,10**log10mass,scale_fact)/sigma-1),\n",
    "        c=color_map(0))\n",
    "plt.axhline(accuracy, c=\"k\", ls=\"--\")\n",
    "plt.yscale(\"log\")\n",
    "plt.locator_params(axis=\"x\", numticks=4)\n",
    "plt.xlim(left=1e10,right=1e16)\n",
    "plt.savefig('hmf_model1.pdf')\n",
    "plt.show()\n",
    "plt.clf()"
   ]
  },
  {
   "cell_type": "code",
   "execution_count": null,
   "metadata": {
    "collapsed": false
   },
   "outputs": [],
   "source": [
    "#This plot shows the accuracy in \\log_{10}\\sigma^{-1}\n",
    "accuracy = 1e-3\n",
    "\n",
    "plt.figure(figsize=mass_function_fig_size)\n",
    "plt.gcf().subplots_adjust(**mass_function_plot_adjust)\n",
    "plt.ylabel(r'$|\\Delta \\log_{10}\\sigma^{-1}|/\\log_{10}\\sigma^{-1}$')\n",
    "plt.xlabel(r'$M$ [M$_{\\odot}$]')\n",
    "plt.gca().set_xscale('log')\n",
    "plt.plot(10**log10mass, np.abs(np.log10(1./ccl.sigmaM(cosmo_ccl1_mf,10**log10mass,scale_fact))/log10invsigma-1),\n",
    "        c=color_map(0))\n",
    "plt.axhline(accuracy, c=\"k\", ls=\"--\")\n",
    "plt.yscale(\"log\")\n",
    "plt.xlim(left=1e10, right=1e16)\n",
    "plt.locator_params(axis=\"x\", numticks=4)\n",
    "\n",
    "plt.savefig('hmf_model1_b.pdf')\n",
    "plt.show()\n",
    "plt.clf()"
   ]
  },
  {
   "cell_type": "code",
   "execution_count": null,
   "metadata": {
    "collapsed": false
   },
   "outputs": [],
   "source": [
    "#This plot shows the accuracy in the actual mass function\n",
    "rho_m = ccl.constants.RHO_CRITICAL*cosmo_ccl1_mf['Omega_m']*cosmo_ccl1_mf['h']**2\n",
    "logmassfunc_test = np.log10(ccl.massfunc(cosmo_ccl1_mf, 10**log10mass, scale_fact)*(10**log10mass)/rho_m/np.log(10))\n",
    "\n",
    "accuracy = 5e-5\n",
    "\n",
    "plt.figure(figsize=mass_function_fig_size)\n",
    "plt.gcf().subplots_adjust(**mass_function_plot_adjust)\n",
    "plt.ylabel(r'$|\\Delta\\mathcal{H}/\\mathcal{H}$')\n",
    "plt.xlabel(r'$M$ [M$_{\\odot}$]')\n",
    "plt.gca().set_xscale('log')\n",
    "plt.plot(10**log10mass, np.abs(logmassfunc_test/log10massfunc-1),\n",
    "        c=color_map(0))\n",
    "plt.axhline(accuracy, c=\"k\", ls=\"--\")\n",
    "# plt.locator_params(axis=\"y\", nbins=6)\n",
    "# plt.ticklabel_format(style=\"sci\", axis=\"y\", scilimits=(0,1))\n",
    "plt.yscale(\"log\")\n",
    "\n",
    "plt.ylim(bottom=3e-7, top=3e-4)\n",
    "plt.xlim(left=1e10, right=1e16)\n",
    "plt.locator_params(axis=\"x\", numticks=4)\n",
    "\n",
    "plt.savefig('hmf_model1_c.pdf')\n",
    "plt.show()\n",
    "plt.clf()"
   ]
  },
  {
   "cell_type": "markdown",
   "metadata": {},
   "source": [
    "## 3d correlation"
   ]
  },
  {
   "cell_type": "markdown",
   "metadata": {},
   "source": [
    "CCL can also make predictions for the three-dimensional correlation function. As a first test, we compare the CCL prediction to a benchmark output that yields a precise numerical transform of the halofit power spectrum as output from CCL."
   ]
  },
  {
   "cell_type": "code",
   "execution_count": null,
   "metadata": {
    "collapsed": false
   },
   "outputs": [],
   "source": [
    "cosmo = ccl.Cosmology(\n",
    "    Omega_c=0.25, Omega_b=0.05, h=0.7, sigma8=0.80, n_s=0.96, w0=-1.0, wa=0.0, Omega_g=0)\n",
    "\n",
    "# read in the benchmark xi values for each redshift z\n",
    "bench = np.loadtxt('../tests/benchmark/model1_xi.txt')\n",
    "d_bench = bench[0:,0:]\n",
    "\n",
    "xi = []\n",
    "for z in range(6): \n",
    "    xi.append(d_bench[0:,z+1])\n",
    "xi_bench = np.asarray(xi)\n",
    "\n",
    "# calculate CCL xi for r = 0.1 - 100 with 40 bins\n",
    "nr1 = 40\n",
    "r1 = np.logspace(-1, 2, nr1)\n",
    "xi1 = []\n",
    "for z in range(6):\n",
    "    xi1.append(ccl.correlation_3d(cosmo, 1./(z+1), r1))\n",
    "\n",
    "# calculate CCL xi for r = 50 - 250 with 100 bins to check agreement in the BAO peak region\n",
    "nr2 = 100\n",
    "r2 = np.logspace(np.log10(50), np.log10(250), nr2)\n",
    "xi2 = []\n",
    "for z in range(6):\n",
    "    xi2.append(ccl.correlation_3d(cosmo, 1./(z+1), r2))\n",
    "\n",
    "# Define redshift value and make plots\n",
    "z = 0   \n",
    "\n",
    "# Plot relative difference\n",
    "frac_diff1 = []\n",
    "frac_diff2 = []\n",
    "abs_diff1 = []    \n",
    "abs_diff2 = []\n",
    "\n",
    "for i in range(nr1):\n",
    "    frac_diff1.append(np.abs(xi1[z][i]/xi_bench[z][i] - 1.))\n",
    "    abs_diff1.append(np.abs(r1[i]*r1[i]*(xi1[z][i]-xi_bench[z][i])))\n",
    "    \n",
    "for i in range(nr2):\n",
    "    frac_diff2.append(np.abs(1-xi2[z][i]/xi_bench[z][i+40]))\n",
    "    abs_diff2.append(np.abs(r2[i]*r2[i]*(xi2[z][i]-xi_bench[z][i+40])))\n",
    "\n",
    "\n",
    "plt.figure(figsize=fig_size)\n",
    "plt.plot(r1, frac_diff1, '-', c=color_map(0))\n",
    "plt.plot(r2, frac_diff2, '-', c=color_map(1))\n",
    "plt.xscale('log')\n",
    "plt.yscale('log')\n",
    "plt.gcf().subplots_adjust(**plot_adjust)\n",
    "plt.xlabel(r'$r$ [Mpc]')\n",
    "plt.ylabel(r'$\\Delta \\xi(r) / \\xi(r)$')\n",
    "plt.title('Relative difference') \n",
    "plt.savefig('benchmark_xi_rel.pdf')\n",
    "plt.show()\n",
    "plt.clf()\n",
    "\n",
    "# plot absolute difference in r^2 xi(r)\n",
    "plt.figure(figsize=fig_size)\n",
    "plt.plot(r1, abs_diff1, c=color_map(0))\n",
    "plt.plot(r2, abs_diff2, c=color_map(1))\n",
    "plt.xscale('log')\n",
    "plt.yscale('log')\n",
    "plt.gcf().subplots_adjust(**plot_adjust)\n",
    "plt.xlabel(r'$r$ [Mpc]')\n",
    "plt.ylabel(r'$\\Delta (r^2 \\xi) $')\n",
    "plt.title('Absolute difference')\n",
    "plt.savefig('benchmark_xi_abs.pdf')\n",
    "plt.show()\n",
    "plt.clf()\n"
   ]
  },
  {
   "cell_type": "markdown",
   "metadata": {},
   "source": [
    "### Compare CCL transform with known transform of an analytic function "
   ]
  },
  {
   "cell_type": "markdown",
   "metadata": {},
   "source": [
    "In this case, we compare the CCL prediction to two different analytical predictions. The blue curve is the case of \n",
    "\n",
    "\\begin{equation}\n",
    "\\xi \\propto r^{1.67},\n",
    "\\end{equation}\n",
    "while the orange curve corresponds to a case where \n",
    "\\begin{equation}\n",
    "P(k) \\sim Ak/(k+k_0), \n",
    "\\end{equation}\n",
    "\n",
    "which asymptotes to P(k) at low k as expected."
   ]
  },
  {
   "cell_type": "code",
   "execution_count": null,
   "metadata": {
    "collapsed": false
   },
   "outputs": [],
   "source": [
    "# read 3d correlation analytic benchmark test data and plot\n",
    "bench_analytic = np.loadtxt('analytic_xi_1.txt')\n",
    "r = bench_analytic[:,0]\n",
    "diff = bench_analytic[:,1]\n",
    "\n",
    "bench_analytic2 = np.loadtxt('analytic_xi_2.txt')\n",
    "diff2 = bench_analytic2[:,1]\n",
    "\n",
    "plt.figure(figsize=fig_size)\n",
    "plt.gcf().subplots_adjust(**plot_adjust)\n",
    "plt.xscale('log')\n",
    "plt.yscale('log')\n",
    "plt.xlim((0.1,1000.))\n",
    "plt.xlabel(r'$r$ [Mpc]')\n",
    "plt.ylabel(r'$\\Delta \\xi(r)/\\xi(r)$')\n",
    "plt.plot(r, diff)\n",
    "plt.plot(r, diff2)\n",
    "plt.savefig('3dcorr_analytic.pdf')\n"
   ]
  }
 ],
 "metadata": {
  "kernelspec": {
   "display_name": "Python 2",
   "language": "python",
   "name": "python2"
  },
  "language_info": {
   "codemirror_mode": {
    "name": "ipython",
    "version": 2
   },
   "file_extension": ".py",
   "mimetype": "text/x-python",
   "name": "python",
   "nbconvert_exporter": "python",
   "pygments_lexer": "ipython2",
   "version": "2.7.15"
  },
  "latex_envs": {
   "LaTeX_envs_menu_present": true,
   "autoclose": false,
   "autocomplete": true,
   "bibliofile": "biblio.bib",
   "cite_by": "apalike",
   "current_citInitial": 1,
   "eqLabelWithNumbers": true,
   "eqNumInitial": 1,
   "hotkeys": {
    "equation": "Ctrl-E",
    "itemize": "Ctrl-I"
   },
   "labels_anchors": false,
   "latex_user_defs": false,
   "report_style_numbering": false,
   "user_envs_cfg": false
  }
 },
 "nbformat": 4,
 "nbformat_minor": 2
}
