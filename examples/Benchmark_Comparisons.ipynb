{
 "cells": [
  {
   "cell_type": "markdown",
   "metadata": {},
   "source": [
    "# Compare CCL against benchmarks\n",
    "This notebook performs comparisons of CCL against our benchmarks for different cosmological quantities. These plots are presented in the CCL paper. Benchmarks are documented in the CCL wiki: https://github.com/LSSTDESC/CCL/wiki/Benchmarks"
   ]
  },
  {
   "cell_type": "code",
   "execution_count": 1,
   "metadata": {
    "collapsed": true
   },
   "outputs": [],
   "source": [
    "import numpy as np\n",
    "import pylab as plt\n",
    "import pyccl as ccl\n",
    "from scipy.interpolate import interp1d\n",
    "%matplotlib inline"
   ]
  },
  {
   "cell_type": "markdown",
   "metadata": {},
   "source": [
    "## Benchmark cosmologies \n",
    "`Cosmology` objects contain the parameters and metadata needed as inputs to most functions. Each `Cosmology` object has a set of cosmological parameters attached to it. In this example, we will only use the parameters of a vanilla LCDM model, but simple extensions (like curvature, neutrino mass, and w0/wa) are also supported.\n",
    "\n",
    "`Cosmology` objects also contain precomputed data (e.g. splines) to help speed-up certain calculations. As such, `Cosmology` objects are supposed to be immutable; you should create a new `Cosmology` object when you want to change the values of any cosmological parameters.\n",
    "\n",
    "The cosmologies we are setting up at this stage are documented in the CCL paper, Table 2. With the following plots, we verify the level of accuracy stated in Table 3."
   ]
  },
  {
   "cell_type": "code",
   "execution_count": null,
   "metadata": {
    "collapsed": true
   },
   "outputs": [],
   "source": [
    "params_ccl1=ccl.Parameters(Omega_c=0.25, Omega_b=0.05, h=0.7, A_s = 2.1e-9, n_s=0.96, Neff=0)\n",
    "#Ensure Omega_g and Omega_l have the right values, overwriting fiducials from ccl.Parameters\n",
    "params_ccl1.parameters.Omega_g =0.\n",
    "params_ccl1.parameters.Omega_l =0.7\n",
    "#Only now that parameters are correct we can set up the cosmology\n",
    "cosmo_ccl1 = ccl.Cosmology(params_ccl1)\n",
    "params_ccl2=ccl.Parameters(Omega_c=0.25, Omega_b=0.05, h=0.7, A_s = 2.1e-9, n_s=0.96, w0=-0.9, Neff=0)\n",
    "params_ccl2.parameters.Omega_g =0.\n",
    "params_ccl2.parameters.Omega_l =0.7\n",
    "cosmo_ccl2 = ccl.Cosmology(params_ccl2)\n",
    "params_ccl3=ccl.Parameters(Omega_c=0.25, Omega_b=0.05, h=0.7, A_s = 2.1e-9, n_s=0.96, w0=-0.9, wa=0.1, Neff=0)\n",
    "params_ccl3.parameters.Omega_g =0.\n",
    "params_ccl3.parameters.Omega_l =0.7\n",
    "cosmo_ccl3 = ccl.Cosmology(params_ccl3)\n",
    "params_ccl4=ccl.Parameters(Omega_c=0.25, Omega_b=0.05, Omega_k=0.05, h=0.7, A_s = 2.1e-9, n_s=0.96, w0=-0.9, wa=0.1, Neff=0)\n",
    "params_ccl4.parameters.Omega_g =0.\n",
    "params_ccl4.parameters.Omega_l =0.65\n",
    "cosmo_ccl4 = ccl.Cosmology(params_ccl4)\n",
    "params_ccl5=ccl.Parameters(Omega_c=0.25, Omega_b=0.05, Omega_k=-0.05, h=0.7, A_s = 2.1e-9, n_s=0.96, w0=-0.9, wa=0.1, Neff=0)\n",
    "params_ccl5.parameters.Omega_g =0.\n",
    "params_ccl5.parameters.Omega_l =0.75\n",
    "cosmo_ccl5 = ccl.Cosmology(params_ccl5)\n",
    "params_ccl6=ccl.Parameters(Omega_c=0.3, Omega_b=0.0, h=0.7, sigma8 = 0.8, n_s=0.96, Neff=0)\n",
    "params_ccl6.parameters.Omega_g =0.\n",
    "params_ccl6.parameters.Omega_n_rel=0.\n",
    "params_ccl6.parameters.Omega_l =0.7\n",
    "cosmo_ccl6= ccl.Cosmology(params_ccl6,transfer_function='bbks',matter_power_spectrum='linear')\n",
    "cosmo_list=[cosmo_ccl1,cosmo_ccl2,cosmo_ccl3,cosmo_ccl4,cosmo_ccl5,cosmo_ccl6]\n",
    "num_models=5\n",
    "num_models_hiz=3"
   ]
  },
  {
   "cell_type": "markdown",
   "metadata": {},
   "source": [
    "## Background functions"
   ]
  },
  {
   "cell_type": "markdown",
   "metadata": {
    "collapsed": true
   },
   "source": [
    "### Cosmological Distances\n",
    "\n",
    "With the cosmologies set up, we will not compute comoving radial distances and compare them to our input benchmark files. First, let's load the benchmark file. The format is: (z,d1,d2,d3,d4,d5) where z is the redshift, d are distances and 1-5 refers to the cosmologies set up above. The units are Mpc/h."
   ]
  },
  {
   "cell_type": "code",
   "execution_count": null,
   "metadata": {
    "collapsed": true
   },
   "outputs": [],
   "source": [
    "bench=np.loadtxt('../tests/benchmark/chi_model1-5.txt')\n",
    "z=bench[1:,0]\n",
    "d_bench=bench[1:,1:]\n",
    "scale_fact=1./(1+z)"
   ]
  },
  {
   "cell_type": "markdown",
   "metadata": {},
   "source": [
    "Now let's calculate CCL predictions to compare against the benchmark. Notice CCL returns quantities in units of Mpc."
   ]
  },
  {
   "cell_type": "code",
   "execution_count": null,
   "metadata": {
    "collapsed": true
   },
   "outputs": [],
   "source": [
    "def compute_ccl_bench_bg(cosmos,a_list,func,h_power=0) :\n",
    "    o_ccl=np.transpose(np.array([func(c,a_list)*pow(c['h'],h_power) for c in cosmos]))\n",
    "    return o_ccl\n",
    "d_ccl=compute_ccl_bench_bg(cosmo_list[:num_models],scale_fact,ccl.comoving_radial_distance,1.)"
   ]
  },
  {
   "cell_type": "markdown",
   "metadata": {},
   "source": [
    "And we will now make a plot comparing the two quantities."
   ]
  },
  {
   "cell_type": "code",
   "execution_count": null,
   "metadata": {},
   "outputs": [],
   "source": [
    "def plot_ccl_bench_bg(f_bench,f_ccl,z_list,title,tol) :\n",
    "    plt.figure();\n",
    "    plt.ylabel(title,fontsize=24);\n",
    "    plt.xlabel('Redshift',fontsize=22);\n",
    "    plt.xticks(fontsize=18);\n",
    "    plt.yticks(fontsize=18);\n",
    "    for i in range(len(f_bench[0])):\n",
    "        plt.plot(z_list,np.abs(f_bench[:,i]/f_ccl[:,i]-1)/tol,'k-',lw=i*0.25+0.5);\n",
    "    plt.show();\n",
    "    plt.clf();\n",
    "plot_ccl_bench_bg(d_bench,d_ccl,z,r'$10^4\\times|\\Delta\\chi|/\\chi$',1E-4);"
   ]
  },
  {
   "cell_type": "markdown",
   "metadata": {},
   "source": [
    "### Cosmological distances with massive neutrinos\n",
    "The above checks distances for cosmologies only without massive neutrinos. We also want to check the distance functionality in cosmologies with massive neutrinos. We use cosmologies very similar to 1-5 above, the only difference being the neutrino parameters and that we don't force Omega_g to 0. Note we set Neff to 3 because we compare to benchmarks calculated using astropy which splits passed neutrinos masses equally amongst the Neff neutrinos."
   ]
  },
  {
   "cell_type": "code",
   "execution_count": null,
   "metadata": {
    "collapsed": true
   },
   "outputs": [],
   "source": [
    "params_cclmnu1=ccl.Parameters(Omega_c=0.25, Omega_b=0.05, h=0.7, A_s = 2.1e-9, n_s=0.96, Neff=3, m_nu=[0.04, 0., 0.])\n",
    "cosmo_cclmnu1 = ccl.Cosmology(params_cclmnu1)\n",
    "params_cclmnu2=ccl.Parameters(Omega_c=0.25, Omega_b=0.05, h=0.7, A_s = 2.1e-9, n_s=0.96, w0=-0.9, Neff=3, m_nu=[0.05, 0.01, 0.])\n",
    "cosmo_cclmnu2 = ccl.Cosmology(params_cclmnu2)\n",
    "params_cclmnu3=ccl.Parameters(Omega_c=0.25, Omega_b=0.05, h=0.7, A_s = 2.1e-9, n_s=0.96, w0=-0.9, wa=0.1, Neff=3, m_nu=[0.03, 0.02, 0.04])\n",
    "cosmo_cclmnu3 = ccl.Cosmology(params_cclmnu3)\n",
    "params_cclmnu4=ccl.Parameters(Omega_c=0.25, Omega_b=0.05, Omega_k=0.05, h=0.7, A_s = 2.1e-9, n_s=0.96, w0=-0.9, wa=0.1, Neff=3, m_nu=[0.05, 0., 0.])\n",
    "cosmo_cclmnu4 = ccl.Cosmology(params_cclmnu4)\n",
    "params_cclmnu5=ccl.Parameters(Omega_c=0.25, Omega_b=0.05, Omega_k=-0.05, h=0.7, A_s = 2.1e-9, n_s=0.96, w0=-0.9, wa=0.1, Neff=3, m_nu=[0.03, 0.02, 0.])\n",
    "cosmo_cclmnu5 = ccl.Cosmology(params_cclmnu5)\n",
    "\n",
    "cosmo_mnu_list=[cosmo_cclmnu1,cosmo_cclmnu2,cosmo_cclmnu3,cosmo_cclmnu4,cosmo_cclmnu5]\n",
    "num_models_mnu = 5;"
   ]
  },
  {
   "cell_type": "markdown",
   "metadata": {},
   "source": [
    "We load the benchmark file, which has the same format as above."
   ]
  },
  {
   "cell_type": "code",
   "execution_count": null,
   "metadata": {},
   "outputs": [],
   "source": [
    "bench=np.loadtxt('../tests/benchmark/chi_mnu_model1-5.txt')\n",
    "z_mnu =bench[:,0]\n",
    "d_bench_mnu =bench[:,1:]\n",
    "scale_fact_mnu =1./(1+z)"
   ]
  },
  {
   "cell_type": "markdown",
   "metadata": {},
   "source": [
    "Calculate the distances for cosmologies with massive neutrinos."
   ]
  },
  {
   "cell_type": "code",
   "execution_count": null,
   "metadata": {},
   "outputs": [],
   "source": [
    "d_mnu_ccl=compute_ccl_bench_bg(cosmo_mnu_list[:num_models_mnu],scale_fact_mnu,ccl.comoving_radial_distance)"
   ]
  },
  {
   "cell_type": "markdown",
   "metadata": {},
   "source": [
    "Plot the discrepancy between benchmarks and ccl. Note that in this case we have a tolerance of $10^{-3}$, because we compare with benchmarks produced by astropy, which uses a fitting formula for the neutrino phasespace integral, which itself differs from the exact expression at greater than a 1.0e-4 level. "
   ]
  },
  {
   "cell_type": "code",
   "execution_count": null,
   "metadata": {},
   "outputs": [],
   "source": [
    "plot_ccl_bench_bg(d_bench_mnu,d_mnu_ccl,z_mnu,r'$10^3\\times|\\Delta\\chi|/\\chi$',1E-3);"
   ]
  },
  {
   "cell_type": "markdown",
   "metadata": {},
   "source": [
    "### Cosmological distances (high z)"
   ]
  },
  {
   "cell_type": "code",
   "execution_count": null,
   "metadata": {
    "scrolled": true
   },
   "outputs": [],
   "source": [
    "bench=np.loadtxt('../tests/benchmark/chi_hiz_model1-3.txt')\n",
    "z=bench[1:,0]\n",
    "d_hiz_bench=bench[1:,1:]\n",
    "scale_fact=1./(1+z)\n",
    "d_hiz_ccl=compute_ccl_bench_bg(cosmo_list[:num_models_hiz],scale_fact,ccl.comoving_radial_distance,1.)\n",
    "plot_ccl_bench_bg(d_hiz_bench,d_hiz_ccl,z,r'$10^4\\times|\\Delta\\chi|/\\chi$',1E-4)"
   ]
  },
  {
   "cell_type": "markdown",
   "metadata": {},
   "source": [
    "### Cosmological distances (high z, with massive neutrinos)\n",
    "Similarly to above, we only require $10^{-3}$ accuracy here because we compare to benchmarks from astropy, which uses a fitting function for the phase space neutrino integral which itself differs from the exact value at greater than the $10^{-4}$ level."
   ]
  },
  {
   "cell_type": "code",
   "execution_count": null,
   "metadata": {},
   "outputs": [],
   "source": [
    "bench=np.loadtxt('../tests/benchmark/chi_hiz_mnu_model1-5.txt')\n",
    "z_mnu=bench[:,0]\n",
    "d_hiz_mnu_bench=bench[:,1:]\n",
    "scale_fact_mnu=1./(1+z_mnu)\n",
    "d_hiz_mnu_ccl=compute_ccl_bench_bg(cosmo_mnu_list[:num_models_mnu],scale_fact_mnu,ccl.comoving_radial_distance,0.)\n",
    "plot_ccl_bench_bg(d_hiz_mnu_bench,d_hiz_mnu_ccl,z_mnu,r'$10^3\\times|\\Delta\\chi|/\\chi$',1E-3)"
   ]
  },
  {
   "cell_type": "markdown",
   "metadata": {},
   "source": [
    "### Growth function (low z)"
   ]
  },
  {
   "cell_type": "code",
   "execution_count": null,
   "metadata": {},
   "outputs": [],
   "source": [
    "bench=np.loadtxt('../tests/benchmark/growth_model1-5.txt')\n",
    "z=bench[:,0]\n",
    "g_bench=bench[0:,1:]\n",
    "scale_fact=1./(1+z)\n",
    "g_ccl=compute_ccl_bench_bg(cosmo_list[:num_models],scale_fact,ccl.growth_factor_unnorm,0.)\n",
    "plot_ccl_bench_bg(g_bench,g_ccl,z,r'$10^4\\times|\\Delta G|/G$',1E-4)"
   ]
  },
  {
   "cell_type": "markdown",
   "metadata": {},
   "source": [
    "### Growth function (high z)"
   ]
  },
  {
   "cell_type": "code",
   "execution_count": null,
   "metadata": {},
   "outputs": [],
   "source": [
    "bench=np.loadtxt('../tests/benchmark/growth_hiz_model1-3.txt')\n",
    "z=bench[0:,0]\n",
    "num_z = np.shape(bench)[0]\n",
    "g_hiz_bench=bench[0:,1:]\n",
    "scale_fact=1./(1+z)\n",
    "bench=np.loadtxt('../tests/benchmark/growth_model1-5.txt')\n",
    "g_hiz_ccl=compute_ccl_bench_bg(cosmo_list[:num_models_hiz],scale_fact,ccl.growth_factor_unnorm,0.)\n",
    "plot_ccl_bench_bg(g_hiz_bench,g_hiz_ccl,z,r'$10^4\\times|\\Delta G|/G$',1E-4)"
   ]
  },
  {
   "cell_type": "markdown",
   "metadata": {},
   "source": [
    "## Angular power spectra"
   ]
  },
  {
   "cell_type": "code",
   "execution_count": null,
   "metadata": {},
   "outputs": [],
   "source": [
    "#Redshift distribution\n",
    "zmean1=1.0; zmean2=1.5;\n",
    "sigz1=0.15; sigz2=0.15;\n",
    "nzs=512;\n",
    "\n",
    "z_a_1=np.linspace(zmean1-5*sigz1,zmean1+5*sigz1,nzs);\n",
    "z_a_2=np.linspace(zmean2-5*sigz2,zmean2+5*sigz2,nzs);\n",
    "pz_a_1=np.exp(-0.5*((z_a_1-zmean1)/sigz1)**2)\n",
    "pz_a_2=np.exp(-0.5*((z_a_2-zmean2)/sigz2)**2)\n",
    "bz_a_1=np.ones_like(z_a_1); bz_a_2=np.ones_like(z_a_2);\n",
    "\n",
    "z_h_1,pz_h_1=np.loadtxt(\"../tests/benchmark/codecomp_step2_outputs/bin1_histo.txt\",unpack=True)\n",
    "z_h_2,pz_h_2=np.loadtxt(\"../tests/benchmark/codecomp_step2_outputs/bin2_histo.txt\",unpack=True)\n",
    "bz_h_1=np.ones_like(z_h_1); bz_h_2=np.ones_like(z_h_2);\n",
    "\n",
    "zarrs={'analytic':{'b1':{'z':z_a_1,'nz':pz_a_1,'bz':bz_a_1},'b2':{'z':z_a_2,'nz':pz_a_2,'bz':bz_a_2}},\n",
    "      'histo':{'b1':{'z':z_h_1,'nz':pz_h_1,'bz':bz_h_1},'b2':{'z':z_h_2,'nz':pz_h_2,'bz':bz_h_2}}}\n",
    "\n",
    "#Initialize tracers\n",
    "cosmo_cls=cosmo_list[-1]\n",
    "trcrs={}\n",
    "for nztyp in ['analytic','histo'] :\n",
    "    trcrs[nztyp]={}\n",
    "    za=zarrs[nztyp]\n",
    "    for trtyp in ['dd','ll'] :\n",
    "        trcrs[nztyp][trtyp]={}\n",
    "        for bn in ['b1','b2'] :\n",
    "            if trtyp=='dd' :\n",
    "                trcrs[nztyp][trtyp][bn]=ccl.ClTracerNumberCounts(cosmo_cls,False,False,\n",
    "                                                                (za[bn]['z'],za[bn]['nz']),\n",
    "                                                                (za[bn]['z'],za[bn]['bz']))\n",
    "            else :\n",
    "                trcrs[nztyp][trtyp][bn]=ccl.ClTracerLensing(cosmo_cls,False,\n",
    "                                                            (za[bn]['z'],za[bn]['nz']))\n",
    "trcrs['cmblens']=ccl.ClTracerCMBLensing(cosmo_cls,1100.)\n",
    "\n",
    "#Read benchmarks\n",
    "cl_bench={}\n",
    "for nztyp in ['analytic','histo'] :\n",
    "    cl_bench[nztyp]={}\n",
    "    for trtyp in ['dd','ll'] :\n",
    "        cl_bench[nztyp][trtyp]={}\n",
    "        for cortyp in ['b1b1','b1b2','b2b2'] :\n",
    "            cl_bench[nztyp][trtyp][cortyp]={}\n",
    "            l,cl=np.loadtxt(\"../tests/benchmark/codecomp_step2_outputs/run_\"+cortyp+nztyp+\n",
    "                            \"_log_cl_\"+trtyp+\".txt\",unpack=True)\n",
    "            cl_bench[nztyp][trtyp][cortyp]['ell']=l.astype(int)\n",
    "            cl_bench[nztyp][trtyp][cortyp]['cell']=cl\n",
    "cl_bench['cmblens']={}\n",
    "l,cl=np.loadtxt(\"../tests/benchmark/codecomp_step2_outputs/run_log_cl_cc.txt\",unpack=True)\n",
    "cl_bench['cmblens']['ell']=l.astype(int)\n",
    "cl_bench['cmblens']['cell']=cl\n",
    "            \n",
    "#Compute ccl predictions\n",
    "cl_ccl={}\n",
    "for nztyp in ['analytic','histo'] :\n",
    "    cl_ccl[nztyp]={}\n",
    "    for trtyp in ['dd','ll'] :\n",
    "        cl_ccl[nztyp][trtyp]={}\n",
    "        cl_ccl[nztyp][trtyp]['b1b1']={}\n",
    "        ells=cl_bench[nztyp][trtyp]['b1b1']['ell']\n",
    "        cfac=np.ones(len(ells))\n",
    "        if trtyp=='ll' :\n",
    "            cfac[2:]=ells[2:]*(ells[2:]+1.)/np.sqrt((ells[2:]+2.)*(ells[2:]+1.)*ells[2:]*(ells[2:]-1.))\n",
    "        cl_ccl[nztyp][trtyp]['b1b1']['ell']=ells\n",
    "        cl_ccl[nztyp][trtyp]['b1b1']['cell']=ccl.angular_cl(cosmo_cls,trcrs[nztyp][trtyp]['b1'],\n",
    "                                                            trcrs[nztyp][trtyp]['b1'],ells,dlk=0.01)*cfac**2\n",
    "        cl_ccl[nztyp][trtyp]['b1b2']={}\n",
    "        ells=cl_bench[nztyp][trtyp]['b1b2']['ell']\n",
    "        cfac=np.ones(len(ells))\n",
    "        if trtyp=='ll' :\n",
    "            cfac[2:]=ells[2:]*(ells[2:]+1.)/np.sqrt((ells[2:]+2.)*(ells[2:]+1.)*ells[2:]*(ells[2:]-1.))\n",
    "        cl_ccl[nztyp][trtyp]['b1b2']['ell']=ells\n",
    "        cl_ccl[nztyp][trtyp]['b1b2']['cell']=ccl.angular_cl(cosmo_cls,trcrs[nztyp][trtyp]['b1'],\n",
    "                                                            trcrs[nztyp][trtyp]['b2'],ells,dlk=0.01)*cfac**2\n",
    "        cl_ccl[nztyp][trtyp]['b2b2']={}\n",
    "        ells=cl_bench[nztyp][trtyp]['b2b2']['ell']\n",
    "        cfac=np.ones(len(ells))\n",
    "        if trtyp=='ll' :\n",
    "            cfac[2:]=ells[2:]*(ells[2:]+1.)/np.sqrt((ells[2:]+2.)*(ells[2:]+1.)*ells[2:]*(ells[2:]-1.))\n",
    "        cl_ccl[nztyp][trtyp]['b2b2']['ell']=ells\n",
    "        cl_ccl[nztyp][trtyp]['b2b2']['cell']=ccl.angular_cl(cosmo_cls,trcrs[nztyp][trtyp]['b2'],\n",
    "                                                            trcrs[nztyp][trtyp]['b2'],ells,dlk=0.01)*cfac**2\n",
    "cl_ccl['cmblens']={}\n",
    "cl_ccl['cmblens']['ell']=cl_bench['cmblens']['ell']\n",
    "cl_ccl['cmblens']['cell']=ccl.angular_cl(cosmo_cls,trcrs['cmblens'],trcrs['cmblens'],cl_ccl['cmblens']['ell'],dlk=0.01)\n",
    "\n",
    "#Plot results\n",
    "lrange=2980\n",
    "nrebin=20\n",
    "names={'analytic':'Analytic','histo':'Histogram','dd':'Gal. clustering','ll':'Weak lensing',\n",
    "       'b1b1':'1-1','b1b2':'1-2','b2b2':'2-2','cb1b1':'r','cb1b2':'b','cb2b2':'y'};\n",
    "for nztyp in ['analytic','histo'] :\n",
    "    for trtyp in ['dd','ll'] :\n",
    "        title=names[trtyp]+r' $C_\\ell$. '+names[nztyp]+r' $N(z)$'\n",
    "        plt.figure()\n",
    "        plt.title(title)\n",
    "        plt.ylabel(r'$10^3\\times|\\Delta C_\\ell|/C_\\ell$')\n",
    "        plt.xlabel(r'$\\ell$')\n",
    "        for cortyp in ['b1b1','b1b2','b2b2'] :\n",
    "            di_bench=cl_bench[nztyp][trtyp][cortyp];\n",
    "            di_ccl=cl_ccl[nztyp][trtyp][cortyp];\n",
    "            larr=np.mean(di_bench['ell'][2:2+lrange].astype(float).reshape([lrange/nrebin,nrebin]),axis=1);\n",
    "            bencharr=np.mean(di_bench['cell'][2:2+lrange].reshape([lrange/nrebin,nrebin]),axis=1);\n",
    "            cclarr=np.mean(di_ccl['cell'][2:2+lrange].reshape([lrange/nrebin,nrebin]),axis=1);\n",
    "            plt.plot(larr,1E3*np.abs(cclarr/bencharr-1),names['c'+cortyp]+'-',label=names[cortyp]);\n",
    "        plt.plot(larr,np.ones_like(larr),'k--')\n",
    "        plt.xscale('log');\n",
    "        plt.ylim([0,1.1])\n",
    "        plt.legend(loc='upper left');\n",
    "        plt.show();\n",
    "        plt.clf();\n",
    "        title=names[trtyp]+r' $C_\\ell$. '+names[nztyp]+r' $N(z)$'\n",
    "\n",
    "plt.figure()\n",
    "plt.title('CMB lensing '+r'$C_\\ell$');\n",
    "plt.ylabel(r'$10^2\\times|\\Delta C_\\ell|/C_\\ell$')\n",
    "plt.xlabel(r'$\\ell$')\n",
    "di_bench=cl_bench['cmblens'];\n",
    "di_ccl=cl_ccl['cmblens'];\n",
    "larr=np.mean(di_bench['ell'][2:2+lrange].astype(float).reshape([lrange/nrebin,nrebin]),axis=1);\n",
    "bencharr=np.mean(di_bench['cell'][2:2+lrange].reshape([lrange/nrebin,nrebin]),axis=1);\n",
    "cclarr=np.mean(di_ccl['cell'][2:2+lrange].reshape([lrange/nrebin,nrebin]),axis=1);\n",
    "plt.plot(larr,1E2*np.abs(cclarr/bencharr-1),'r-',label=names[cortyp]);\n",
    "plt.plot(larr,np.ones_like(larr),'k--')\n",
    "plt.xscale('log');\n",
    "#plt.ylim([0,1.1])\n",
    "plt.legend(loc='upper left');\n",
    "plt.show();\n",
    "plt.clf();"
   ]
  },
  {
   "cell_type": "markdown",
   "metadata": {},
   "source": [
    "# Angular Correlation function"
   ]
  },
  {
   "cell_type": "code",
   "execution_count": null,
   "metadata": {
    "collapsed": true
   },
   "outputs": [],
   "source": [
    "#Read benchmarks\n",
    "bench_err_dd=np.genfromtxt(\"../tests/benchmark/cov_corr/sigma_clustering_Nbin5\",names=('theta','b1b1','b2b2','b1b2'))\n",
    "bench_err_ll=np.genfromtxt(\"../tests/benchmark/cov_corr/sigma_xi+_Nbin5\",names=('theta','b1b1','b2b2','b1b2'))\n",
    "bench_err_mm=np.genfromtxt(\"../tests/benchmark/cov_corr/sigma_xi-_Nbin5\",names=('theta','b1b1','b2b2','b1b2'))\n",
    "\n",
    "corr_bench={}\n",
    "for nztyp in ['analytic','histo'] :\n",
    "    corr_bench[nztyp]={}\n",
    "    for bn in ['b1b1','b2b2'] :\n",
    "        corr_bench[nztyp][bn]={}\n",
    "        for trtyp in ['dd','ll'] :\n",
    "            if  'dd' in trtyp:\n",
    "                corr_bench[nztyp][bn][trtyp]=np.genfromtxt(\"../tests/benchmark/codecomp_step2_outputs/run_\"+bn+nztyp+\"_log_wt_\"+trtyp+\".txt\",names=('theta','xi'))\n",
    "            else:\n",
    "                corr_bench[nztyp][bn][trtyp+'+']=np.genfromtxt(\"../tests/benchmark/codecomp_step2_outputs/run_\"+bn+nztyp+\"_log_wt_\"+trtyp+\"_pp.txt\",names=('theta','xi'))\n",
    "                corr_bench[nztyp][bn][trtyp+'-']=np.genfromtxt(\"../tests/benchmark/codecomp_step2_outputs/run_\"+bn+nztyp+\"_log_wt_\"+trtyp+\"_mm.txt\",names=('theta','xi'))\n",
    "                \n",
    "theta_deg=corr_bench[nztyp][cortyp]['dd']['theta']"
   ]
  },
  {
   "cell_type": "code",
   "execution_count": null,
   "metadata": {},
   "outputs": [],
   "source": [
    "#Assume that c_ell are computed above in the Agular_cl benchmark\n",
    "corr={}\n",
    "for nztyp in ['analytic','histo'] :\n",
    "    corr[nztyp]={}\n",
    "    za=zarrs[nztyp]\n",
    "    for bn in ['b1b1','b2b2'] :\n",
    "        corr[nztyp][bn]={}\n",
    "        for trtyp in ['dd','ll'] :\n",
    "            ell=cl_ccl[nztyp][trtyp][bn]['ell']\n",
    "            cell=cl_ccl[nztyp][trtyp][bn]['cell']\n",
    "            if 'dd' in trtyp:\n",
    "                corr[nztyp][bn][trtyp]=ccl.correlation(cosmo, ell, cell, theta_deg,\n",
    "                                                       corr_type='GG', method='FFTLog')\n",
    "            else :\n",
    "                corr[nztyp][bn][trtyp+'+']=ccl.correlation(cosmo, ell, cell, theta_deg,\n",
    "                                                       corr_type='L+', method='FFTLog')\n",
    "                corr[nztyp][bn][trtyp+'-']=ccl.correlation(cosmo, ell, cell, theta_deg,\n",
    "                                                       corr_type='L-', method='FFTLog')"
   ]
  },
  {
   "cell_type": "code",
   "execution_count": null,
   "metadata": {},
   "outputs": [],
   "source": [
    "inz=0\n",
    "for nztyp in ['analytic','histo'] :\n",
    "    za=zarrs[nztyp]\n",
    "    ibn=0\n",
    "    for bn in ['b1b1','b2b2'] :\n",
    "        for trtyp in ['dd'] :\n",
    "#             if 'dd' in trtyp:\n",
    "                plt.errorbar(theta_deg*(1+0.03*(ibn+inz)),np.absolute(corr_bench[nztyp][bn][trtyp]['xi']/corr[nztyp][bn][trtyp]-1),\n",
    "                             bench_err_dd[bn]/corr[nztyp][bn][trtyp]/10,fmt='o')\n",
    "                #errors are suppressed by factor of 10\n",
    "                plt.xscale('log')\n",
    "                plt.yscale('log')\n",
    "        plt.hlines(1,0.01,10)\n",
    "#         plt.ylim(-1.e0,1.e0)\n",
    "        plt.ylim(1.e-5,1.e0)\n",
    "        plt.xlabel(r'$\\theta$ (degrees)')\n",
    "        plt.ylabel(r'$|\\Delta \\xi|/\\xi$')\n",
    "        plt.text(y=0.5,x=0.01,s='clustering')\n",
    "        ibn+=1\n",
    "    inz+=1"
   ]
  },
  {
   "cell_type": "code",
   "execution_count": null,
   "metadata": {},
   "outputs": [],
   "source": [
    "inz=0\n",
    "for nztyp in ['analytic','histo'] :\n",
    "    za=zarrs[nztyp]\n",
    "    ibn=0\n",
    "    for bn in ['b1b1','b2b2'] :\n",
    "        for trtyp in ['ll+'] :\n",
    "                plt.errorbar(theta_deg*(1+0.03*(ibn+inz)),np.absolute(corr_bench[nztyp][bn][trtyp]['xi']/corr[nztyp][bn][trtyp]-1),\n",
    "                             bench_err_dd[bn]/corr[nztyp][bn][trtyp]/100,fmt='o')\n",
    "                #errors are suppressed by factor of 100\n",
    "                plt.xscale('log')\n",
    "                plt.yscale('log')\n",
    "        plt.hlines(1,0.01,10)\n",
    "#         plt.ylim(-1.e0,1.e0)\n",
    "        plt.ylim(1.e-5,1.e0)\n",
    "        plt.xlabel(r'$\\theta$ (degrees)')\n",
    "        plt.ylabel(r'$|\\Delta \\xi_+|/\\xi_+$')\n",
    "        plt.text(y=0.5,x=0.01,s='Lensing')\n",
    "        ibn+=1\n",
    "    inz+=1"
   ]
  },
  {
   "cell_type": "code",
   "execution_count": null,
   "metadata": {},
   "outputs": [],
   "source": [
    "inz=0\n",
    "for nztyp in ['analytic','histo'] :\n",
    "    za=zarrs[nztyp]\n",
    "    ibn=0\n",
    "    for bn in ['b1b1','b2b2'] :\n",
    "        for trtyp in ['ll-'] :\n",
    "                plt.errorbar(theta_deg*(1+0.03*(ibn+inz)),np.absolute(corr_bench[nztyp][bn][trtyp]['xi']/corr[nztyp][bn][trtyp]-1),\n",
    "                             bench_err_dd[bn]/corr[nztyp][bn][trtyp]/100,fmt='o')\n",
    "                #errors are suppressed by factor of 100\n",
    "                plt.xscale('log')\n",
    "                plt.yscale('log')\n",
    "        plt.hlines(1,0.01,10)\n",
    "#         plt.ylim(-1.e0,1.e0)\n",
    "        plt.ylim(1.e-5,1.e1)\n",
    "        plt.xlabel(r'$\\theta$ (degrees)')\n",
    "        plt.ylabel(r'$|\\Delta \\xi_-|/\\xi_-$')\n",
    "        plt.text(y=0.5,x=0.01,s='Lensing')\n",
    "        ibn+=1\n",
    "    inz+=1"
   ]
  },
  {
   "cell_type": "markdown",
   "metadata": {
    "collapsed": true
   },
   "source": [
    "### Non limber computations"
   ]
  },
  {
   "cell_type": "code",
   "execution_count": null,
   "metadata": {
    "collapsed": true
   },
   "outputs": [],
   "source": [
    "#Redshift distribution\n",
    "zmean=1.0\n",
    "sigz=0.02\n",
    "nzs=1024\n",
    "\n",
    "z_a=np.linspace(zmean-5*sigz,zmean+5*sigz,nzs);\n",
    "pz_a=np.exp(-0.5*((z_a-zmean)/sigz)**2)\n",
    "bz_a=np.ones_like(z_a)\n",
    "\n",
    "# ell range input\n",
    "NL = 999\n",
    "ell_arr = np.arange(2, NL)\n",
    "\n",
    "# set tracer\n",
    "nc = ccl.ClTracerNumberCounts(cosmo_ccl6, False, False, n=(z_a,pz_a), bias=(z_a,bz_a))\n",
    "dchi = (ccl.comoving_radial_distance(cosmo_ccl6,1./(1+z_a[-1]))\n",
    "        -ccl.comoving_radial_distance(cosmo_ccl6,1./(1+z_a[0])))/500."
   ]
  },
  {
   "cell_type": "code",
   "execution_count": null,
   "metadata": {
    "collapsed": true
   },
   "outputs": [],
   "source": [
    "limber_cls = ccl.angular_cl(cosmo_ccl6, nc, nc, ell_arr)"
   ]
  },
  {
   "cell_type": "code",
   "execution_count": null,
   "metadata": {
    "collapsed": true
   },
   "outputs": [],
   "source": [
    "native_cls = ccl.angular_cl(cosmo_ccl6, nc, nc, ell_arr, l_limber=NL, \n",
    "                            non_limber_method=\"native\", l_linstep=40, l_logstep=1.3,dchi=dchi,dlk=0.003,zmin=0.05)"
   ]
  },
  {
   "cell_type": "code",
   "execution_count": null,
   "metadata": {
    "collapsed": true
   },
   "outputs": [],
   "source": [
    "angpow_cls = ccl.angular_cl(cosmo_ccl6, nc, nc, ell_arr, l_limber=NL,\n",
    "                            non_limber_method=\"angpow\", l_linstep=40, l_logstep=1.3,dchi=dchi,dlk=0.003,zmin=0.05)"
   ]
  },
  {
   "cell_type": "code",
   "execution_count": null,
   "metadata": {},
   "outputs": [],
   "source": [
    "print limber_cls[:10]\n",
    "print native_cls[:10]\n",
    "print angpow_cls[:10]"
   ]
  },
  {
   "cell_type": "code",
   "execution_count": null,
   "metadata": {},
   "outputs": [],
   "source": [
    "plt.figure()\n",
    "plt.title('Non Limber compuations of '+r'$C_\\ell$');\n",
    "plt.ylabel(r'$C_\\ell$',fontsize=22)\n",
    "plt.xlabel(r'$\\ell$',fontsize=22)\n",
    "plt.plot(ell_arr,limber_cls,label='limber');\n",
    "plt.plot(ell_arr,angpow_cls,label='angpow');\n",
    "plt.plot(ell_arr,native_cls,label='native')\n",
    "plt.xscale('log');\n",
    "#plt.ylim([0,1.1])\n",
    "plt.legend(loc='upper left');\n",
    "plt.show();\n",
    "plt.clf();"
   ]
  },
  {
   "cell_type": "code",
   "execution_count": null,
   "metadata": {},
   "outputs": [],
   "source": [
    "plt.figure()\n",
    "plt.title('Non Limber compuations of '+r'$C_\\ell$: comparison with Limber');\n",
    "plt.ylabel(r'$10^2\\times|\\Delta C_\\ell|/C_\\ell^{\\mathrm{Limber}}$',fontsize=22)\n",
    "plt.xlabel(r'$\\ell$',fontsize=22)\n",
    "plt.plot(ell_arr,1E2*np.abs(native_cls/limber_cls-1),label='native over Limber');\n",
    "plt.plot(ell_arr,1E2*np.abs(angpow_cls/limber_cls-1),label='angpow over Limber');\n",
    "plt.plot(ell_arr,np.ones_like(ell_arr),'k--')\n",
    "#plt.xscale('log');\n",
    "plt.ylim([0,1.5])\n",
    "plt.legend(loc='upper left');\n",
    "plt.show();\n",
    "plt.clf();"
   ]
  },
  {
   "cell_type": "code",
   "execution_count": null,
   "metadata": {},
   "outputs": [],
   "source": [
    "plt.figure();\n",
    "plt.title('Non Limber compuations of '+r'$C_\\ell$: comparison between methods');\n",
    "plt.ylabel(r'$2\\times 10^2\\times|\\Delta C_\\ell|/C_\\ell$',fontsize=22)\n",
    "plt.xlabel(r'$\\ell$',fontsize=22)\n",
    "plt.plot(ell_arr,200*np.abs(angpow_cls/native_cls-1)/np.sqrt(2./(2*ell_arr+1)),'r-',label='methode ratio over cosmic variance');\n",
    "plt.plot(ell_arr,np.ones_like(ell_arr),'k--')\n",
    "plt.xscale('log');\n",
    "#plt.ylim([0,1.1])\n",
    "plt.legend(loc='upper left');\n",
    "plt.show();\n",
    "plt.clf();"
   ]
  },
  {
   "cell_type": "markdown",
   "metadata": {},
   "source": [
    "# Matter power spectrum"
   ]
  },
  {
   "cell_type": "markdown",
   "metadata": {},
   "source": [
    "### Cosmological Emulator - case with no neutrinos\n",
    "\n",
    "We first load the emulator cosmologies. Among them, we will only use models: 1,3,5,6,8,10. We will compare to CCL at z=0. The requirement is a fracional discrepancy lower than 3%. This is the tolerance we have required based on the emulator paper results (Section 3.3, Fig 6). "
   ]
  },
  {
   "cell_type": "markdown",
   "metadata": {},
   "source": [
    "### Cosmological Emulator - case with no neutrinos\n",
    "\n",
    "We first load the emulator cosmologies. Among them, we will only use models: 1,3,5,6,8,10. We will compare to CCL at z=0. The requirement is a fracional discrepancy lower than 3%. This is the tolerance we have required based on the emulator paper results (Section 3.3, Fig 6). "
   ]
  },
  {
   "cell_type": "code",
   "execution_count": null,
   "metadata": {},
   "outputs": [],
   "source": [
    "emu_cosmo_mat=np.loadtxt('../tests/benchmark/emu_cosmologies.txt')\n",
    "Omega_c_emu=emu_cosmo_mat[:,0]\n",
    "Omega_b_emu=emu_cosmo_mat[:,1]\n",
    "h_emu=emu_cosmo_mat[:,2]\n",
    "sigma8_emu=emu_cosmo_mat[:,3]\n",
    "ns_emu=emu_cosmo_mat[:,4]\n",
    "w0_emu=emu_cosmo_mat[:,5]\n",
    "wa_emu=emu_cosmo_mat[:,6]\n",
    "models = np.array([1,3,5,6,8,10])\n",
    "colvec=plt.cm.magma(np.linspace(0,0.8,len(models)))\n",
    "plt.figure()\n",
    "plt.ylabel(r'$|\\Delta P(k)|/P(k)$',fontsize=24)\n",
    "plt.xlabel(r'$k$ [Mpc$^{-1}$]',fontsize=22)\n",
    "plt.xticks(fontsize=18)\n",
    "plt.yticks(fontsize=18)\n",
    "plt.gca().set_xscale('log')\n",
    "for i_model in range(0,len(models)):\n",
    "    params_emu=ccl.Parameters(Omega_c=Omega_c_emu[i_model], Omega_b=Omega_b_emu[i_model], h=h_emu[i_model], \n",
    "                              sigma8 = sigma8_emu[i_model], n_s=ns_emu[i_model], w0=w0_emu[i_model], wa=wa_emu[i_model],Neff=3.04)\n",
    "    params_emu.parameters.Omega_l=params_emu.parameters.Omega_l+params_emu.parameters.Omega_g\n",
    "    params_emu.parameters.Omega_g =0.\n",
    "    cosmo_emu = ccl.Cosmology(params_emu,transfer_function='emulator',matter_power_spectrum='emu')\n",
    "    pk_emu=np.loadtxt(\"../tests/benchmark/emu_smooth_pk_M\"+str(models[i_model])+\".txt\")\n",
    "    pk_ccl=ccl.nonlin_matter_power(cosmo_emu,pk_emu[:,0],1.)\n",
    "    plt.plot(pk_emu[:,0],np.abs(pk_ccl/pk_emu[:,1]-1.),'-',color=colvec[i_model])\n",
    "    \n",
    "plt.plot(pk_emu[:,0],np.ones(len(pk_emu[:,0]))*3e-2,'k--')    \n",
    "plt.show()\n",
    "plt.clf()"
   ]
  },
  {
   "cell_type": "markdown",
   "metadata": {},
   "source": [
    "### Cosmological Emulator - with neutrinos\n",
    "\n",
    "Similar to the case above, but for cosmologies with neutrinos."
   ]
  },
  {
   "cell_type": "code",
   "execution_count": null,
   "metadata": {},
   "outputs": [],
   "source": [
    "emu_cosmo_mat=np.loadtxt('../tests/benchmark/emu_nu_cosmologies.txt')\n",
    "Omega_c_emu=emu_cosmo_mat[:,0]\n",
    "Omega_b_emu=emu_cosmo_mat[:,1]\n",
    "h_emu=emu_cosmo_mat[:,2]\n",
    "sigma8_emu=emu_cosmo_mat[:,3]\n",
    "ns_emu=emu_cosmo_mat[:,4]\n",
    "w0_emu=emu_cosmo_mat[:,5]\n",
    "wa_emu=emu_cosmo_mat[:,6]\n",
    "Omega_nu_emu=emu_cosmo_mat[:,7]\n",
    "models = np.array([38,39,40,42])\n",
    "colvec=plt.cm.magma(np.linspace(0,0.8,len(models)))\n",
    "plt.figure()\n",
    "plt.ylabel(r'$|\\Delta P(k)|/P(k)$',fontsize=24)\n",
    "plt.xlabel(r'$k$ [Mpc$^{-1}$]',fontsize=22)\n",
    "plt.xticks(fontsize=18)\n",
    "plt.yticks(fontsize=18)\n",
    "plt.gca().set_xscale('log')\n",
    "for i_model in range(0,len(models)):\n",
    "    #Figure out the neutrino mass for this Omega_nu:\n",
    "    Mnu_out = ccl.nu_masses(Omega_nu_emu[i_model]*h_emu[i_model]**2, 'equal', 2.725)\n",
    "    params_emu=ccl.Parameters(Omega_c=Omega_c_emu[i_model], Omega_b=Omega_b_emu[i_model], h=h_emu[i_model], \n",
    "                              sigma8 = sigma8_emu[i_model],m_nu=Mnu_out, n_s=ns_emu[i_model], w0=w0_emu[i_model], \n",
    "                              wa=wa_emu[i_model],Neff=3.04)\n",
    "    params_emu.parameters.Omega_l=params_emu.parameters.Omega_l+params_emu.parameters.Omega_g\n",
    "    params_emu.parameters.Omega_g =0.\n",
    "    cosmo_emu = ccl.Cosmology(params_emu,transfer_function='emulator',matter_power_spectrum='emu')\n",
    "    pk_emu=np.loadtxt(\"../tests/benchmark/emu_nu_smooth_pk_M\"+str(models[i_model])+\".txt\")\n",
    "    pk_ccl=ccl.nonlin_matter_power(cosmo_emu,pk_emu[:,0],1.)\n",
    "    plt.plot(pk_emu[:,0],np.abs(pk_ccl/pk_emu[:,1]-1.),'-',color=colvec[i_model])\n",
    "    \n",
    "plt.plot(pk_emu[:,0],np.ones(len(pk_emu[:,0]))*3e-2,'k--')    \n",
    "plt.show()\n",
    "plt.clf()"
   ]
  },
  {
   "cell_type": "markdown",
   "metadata": {},
   "source": [
    "### Baryonic correction model\n",
    "Test that we have implemented this model correctly. The tolerance is 1E-4."
   ]
  },
  {
   "cell_type": "code",
   "execution_count": null,
   "metadata": {},
   "outputs": [],
   "source": [
    "params_bar=ccl.Parameters(Omega_c=0.25, Omega_b=0.05, h=0.7, A_s = 2.2e-9, n_s=0.96, Neff=3.046,bcm_log10Mc=14.)\n",
    "params_nobar=ccl.Parameters(Omega_c=0.25, Omega_b=0.05, h=0.7, A_s = 2.2e-9, n_s=0.96, Neff=3.046)\n",
    "params_bar.parameters.Omega_l=params_bar.parameters.Omega_l+params_bar.parameters.Omega_g\n",
    "params_bar.parameters.Omega_g =0.\n",
    "params_nobar.parameters.Omega_l=params_nobar.parameters.Omega_l+params_nobar.parameters.Omega_g\n",
    "params_nobar.parameters.Omega_g =0.\n",
    "cosmo_nobar = ccl.Cosmology(params_nobar)\n",
    "cosmo_bar = ccl.Cosmology(params_bar,baryons_power_spectrum='bcm')\n",
    "\n",
    "pk_bench_bar=np.loadtxt('../tests/benchmark/bcm/w_baryonspk_nl.dat')\n",
    "pk_bench_nobar=np.loadtxt('../tests/benchmark/bcm/wo_baryonspk_nl.dat')\n",
    "\n",
    "pk_ccl_bar=ccl.nonlin_matter_power(cosmo_bar,pk_bench_bar[:,0]*0.7,1.)\n",
    "pk_ccl_nobar=ccl.nonlin_matter_power(cosmo_nobar,pk_bench_bar[:,0]*0.7,1.)\n",
    "\n",
    "plt.figure()\n",
    "plt.ylabel(r'$|\\Delta P(k)|/P(k)$',fontsize=24)\n",
    "plt.xlabel(r'$k$ [Mpc$^{-1}$]',fontsize=22)\n",
    "plt.xticks(fontsize=18)\n",
    "plt.yticks(fontsize=18)\n",
    "plt.gca().set_xscale('log')\n",
    "plt.plot(pk_bench_bar[:,0]*0.7,np.abs(pk_ccl_bar/pk_ccl_nobar/(pk_bench_bar[:,1]/pk_bench_nobar[:,1])-1.),'-',color=colvec[i_model])\n",
    "plt.plot(pk_bench_bar[:,0]*0.7,np.ones(len(pk_bench_bar[:,0]))*1e-4,'k--')    \n",
    "plt.show()\n",
    "plt.clf()"
   ]
  },
  {
   "cell_type": "markdown",
   "metadata": {},
   "source": [
    "### To-do: ensure all plots match the level of accuracy of Table 3.\n",
    "\n",
    "### To-do: repeat the same exercise above test by test for all entries in Table 3. This can be done looking at the .c files in tests/"
   ]
  },
  {
   "cell_type": "markdown",
   "metadata": {},
   "source": [
    "### Testing Mass function"
   ]
  },
  {
   "cell_type": "code",
   "execution_count": null,
   "metadata": {},
   "outputs": [],
   "source": [
    "bench=np.loadtxt('../tests/benchmark/model1_hmf.txt')\n",
    "log10mass = bench[0:,0]\n",
    "sigma = bench[0:,1]\n",
    "log10invsigma = bench[0:,2]\n",
    "log10massfunc = bench[0:,3]\n",
    "\n",
    "scale_fact = 1.\n",
    "\n",
    "# setting up different cosmology configuration to match benchmarks and keep CLASS from crashing.\n",
    "params_ccl1_mf=ccl.Parameters(Omega_c=0.25, Omega_b=0.05, h=0.7, A_s = 2.1e-9, n_s=0.96)\n",
    "params_ccl1_mf.parameters.Omega_g =0.\n",
    "params_ccl1_mf.parameters.Omega_l =0.7\n",
    "params_ccl1_mf.parameters.sigma_8 =0.8\n",
    "#Only now that parameters are correct we can set up the cosmology\n",
    "cosmo_ccl1_mf = ccl.Cosmology(params_ccl1_mf, transfer_function='bbks', mass_function='tinker')\n",
    "\n",
    "plt.figure()\n",
    "plt.ylabel(r'$|\\Delta \\sigma(M)|/\\sigma(M)$',fontsize=24)\n",
    "plt.xlabel(r'$M$ [M$_{\\odot}$]',fontsize=22)\n",
    "plt.xticks(fontsize=18)\n",
    "plt.yticks(fontsize=18)\n",
    "plt.gca().set_xscale('log')\n",
    "plt.plot(10**log10mass, np.abs(ccl.sigmaM(cosmo_ccl1_mf,10**log10mass,scale_fact)/sigma-1))\n",
    "plt.plot(10**log10mass,np.ones(len(log10mass))*1e-4,'k--')"
   ]
  },
  {
   "cell_type": "code",
   "execution_count": null,
   "metadata": {},
   "outputs": [],
   "source": [
    "# strange spike in this demanded reduction of total accuracy. Since sigmaM matches well, we didn't worry about it too much.\n",
    "# inaccuracy in halo mass function potentially much higher.\n",
    "\n",
    "plt.figure()\n",
    "plt.ylabel(r'$|\\Delta \\log_{10}\\sigma^{-1}|/\\log_{10}\\sigma^{-1}$',fontsize=24)\n",
    "plt.xlabel(r'$M$ [M$_{\\odot}$]',fontsize=22)\n",
    "plt.xticks(fontsize=18)\n",
    "plt.yticks(fontsize=18)\n",
    "plt.gca().set_xscale('log')\n",
    "plt.plot(10**log10mass, np.abs(np.log10(1./ccl.sigmaM(cosmo_ccl1_mf,10**log10mass,scale_fact))/log10invsigma-1))\n",
    "plt.plot(10**log10mass,np.ones(len(log10mass))*5e-3,'k--')\n"
   ]
  },
  {
   "cell_type": "code",
   "execution_count": null,
   "metadata": {},
   "outputs": [],
   "source": [
    "# we currently have listed 5e-3 accuracy as our target, but clearly much better fit here. The spike in our inverse\n",
    "# sigma spline is not that impactful here.\n",
    "\n",
    "rho_m = ccl.constants.RHO_CRITICAL*cosmo_ccl1_mf.params.parameters.Omega_m*cosmo_ccl1_mf.params.parameters.h**2\n",
    "logmassfunc_test = np.log10(ccl.massfunc(cosmo_ccl1_mf, 10**log10mass, scale_fact)*(10**log10mass)/rho_m/np.log(10))\n",
    "\n",
    "plt.figure()\n",
    "plt.ylabel(r'$|\\Delta (dN/d\\log_{10}M)|/(dN/d\\log_{10}M)$',fontsize=18)\n",
    "plt.xlabel(r'$M$ [M$_{\\odot}$]',fontsize=22)\n",
    "plt.xticks(fontsize=18)\n",
    "plt.yticks(fontsize=18)\n",
    "plt.gca().set_xscale('log')\n",
    "plt.plot(10**log10mass, np.abs(logmassfunc_test/log10massfunc-1))\n",
    "plt.plot(10**log10mass,np.ones(len(log10mass))*5e-3,'k--')"
   ]
  },
  {
   "cell_type": "markdown",
   "metadata": {
    "collapsed": true
   },
   "source": [
    "### Matter power spectrum from CLASS with massive neutrinos\n",
    "This test compares the matter power spectrum in cosmologies with massive neutrinos computed using CLASS and called using CCL to that computed via CLASS externally. This is simply intended to check that we are setting up massive neutrino parameters correctly and passing parameters correctly to CLASS, not to test the P(k) computation itself.\n",
    "\n",
    "First, set up the cosmologies we use here."
   ]
  },
  {
   "cell_type": "code",
   "execution_count": 2,
   "metadata": {
    "collapsed": true
   },
   "outputs": [],
   "source": [
    "params_cclmnu1_pk=ccl.Parameters(Omega_c=0.25, Omega_b=0.05, h=0.7, A_s = 2.1e-9, n_s=0.96, Neff=3.046, m_nu=[0.04, 0., 0.])\n",
    "cosmo_cclmnu1_pk = ccl.Cosmology(params_cclmnu1_pk)\n",
    "params_cclmnu2_pk=ccl.Parameters(Omega_c=0.25, Omega_b=0.05, h=0.7, A_s = 2.1e-9, n_s=0.96, w0=-0.9, Neff=3.046, m_nu=[0.05, 0.01, 0.])\n",
    "cosmo_cclmnu2_pk = ccl.Cosmology(params_cclmnu2_pk)\n",
    "params_cclmnu3_pk=ccl.Parameters(Omega_c=0.25, Omega_b=0.05, h=0.7, A_s = 2.1e-9, n_s=0.96, w0=-0.9, wa=0.1, Neff=3.046, m_nu=[0.03, 0.02, 0.04])\n",
    "cosmo_cclmnu3_pk = ccl.Cosmology(params_cclmnu3_pk)\n",
    "\n",
    "cosmo_mnu_pk_list=[cosmo_cclmnu1_pk,cosmo_cclmnu2_pk,cosmo_cclmnu3_pk]\n",
    "num_models_mnu_pk = 3;"
   ]
  },
  {
   "cell_type": "markdown",
   "metadata": {},
   "source": [
    "Next, load the benchmarks for the linear and nonlinear matter power spectrum (computed using CLASS externally)."
   ]
  },
  {
   "cell_type": "code",
   "execution_count": 3,
   "metadata": {},
   "outputs": [],
   "source": [
    "lin_k_pk = [np.loadtxt(\"../tests/benchmark/model\"+str(mi+1)+\"_pk_nu.txt\", unpack=True) for mi in range(num_models_mnu_pk)]\n",
    "nl_k_pk = [np.loadtxt(\"../tests/benchmark/model\"+str(mi+1)+\"_pk_nl_nu.txt\", unpack=True) for mi in range(num_models_mnu_pk)]"
   ]
  },
  {
   "cell_type": "markdown",
   "metadata": {},
   "source": [
    "Plot the difference for the linear matter power spectrum"
   ]
  },
  {
   "cell_type": "code",
   "execution_count": 8,
   "metadata": {},
   "outputs": [
    {
     "data": {
      "image/png": "[encoded data removed]",
      "text/plain": [
       "<matplotlib.figure.Figure at 0x7f0eea911490>"
      ]
     },
     "metadata": {},
     "output_type": "display_data"
    },
    {
     "data": {
      "text/plain": [
       "<matplotlib.figure.Figure at 0x7f0eea54b710>"
      ]
     },
     "metadata": {},
     "output_type": "display_data"
    }
   ],
   "source": [
    "colvec=plt.cm.magma(np.linspace(0,0.8,num_models_mnu_pk))\n",
    "plt.figure()\n",
    "plt.ylabel(r'$|\\Delta P(k)|/P(k)$',fontsize=24)\n",
    "plt.xlabel(r'$k$ [Mpc$^{-1}$]',fontsize=22)\n",
    "plt.xticks(fontsize=18)\n",
    "plt.yticks(fontsize=18)\n",
    "plt.gca().set_xscale('log')\n",
    "for i_model in range(0,num_models_mnu_pk):\n",
    "    pk_lin_ccl=ccl.linear_matter_power(cosmo_mnu_pk_list[i_model],lin_k_pk[i_model][0] * cosmo_mnu_pk_list[i_model]['h'],1.) * (cosmo_mnu_pk_list[i_model]['h'])**3\n",
    "    plt.plot(lin_k_pk[i_model][0],np.abs(pk_lin_ccl/lin_k_pk[i_model][1]-1.),'-',color=colvec[i_model])\n",
    "    \n",
    "plt.plot(lin_k_pk[i_model][0],np.ones(len(lin_k_pk[i_model][0]))*1e-4,'k--')    \n",
    "plt.show()\n",
    "plt.clf()"
   ]
  },
  {
   "cell_type": "markdown",
   "metadata": {},
   "source": [
    "And for the nonlinear matter power spectrum"
   ]
  },
  {
   "cell_type": "code",
   "execution_count": 10,
   "metadata": {},
   "outputs": [
    {
     "data": {
      "image/png": "[encoded data removed]",
      "text/plain": [
       "<matplotlib.figure.Figure at 0x7f0eea660110>"
      ]
     },
     "metadata": {},
     "output_type": "display_data"
    },
    {
     "data": {
      "text/plain": [
       "<matplotlib.figure.Figure at 0x7f0eea61e250>"
      ]
     },
     "metadata": {},
     "output_type": "display_data"
    }
   ],
   "source": [
    "colvec=plt.cm.magma(np.linspace(0,0.8,num_models_mnu_pk))\n",
    "plt.figure()\n",
    "plt.ylabel(r'$|\\Delta P(k)|/P(k)$',fontsize=24)\n",
    "plt.xlabel(r'$k$ [Mpc$^{-1}$]',fontsize=22)\n",
    "plt.xticks(fontsize=18)\n",
    "plt.yticks(fontsize=18)\n",
    "plt.gca().set_xscale('log')\n",
    "for i_model in range(0,num_models_mnu_pk):\n",
    "    pk_nl_ccl=ccl.nonlin_matter_power(cosmo_mnu_pk_list[i_model],lin_k_pk[i_model][0] * cosmo_mnu_pk_list[i_model]['h'],1.) * (cosmo_mnu_pk_list[i_model]['h'])**3\n",
    "    plt.plot(nl_k_pk[i_model][0],np.abs(pk_nl_ccl/nl_k_pk[i_model][1]-1.),'-',color=colvec[i_model])\n",
    "    \n",
    "plt.plot(nl_k_pk[i_model][0],np.ones(len(nl_k_pk[i_model][0]))*1e-4,'k--')    \n",
    "plt.show()\n",
    "plt.clf()"
   ]
  },
  {
   "cell_type": "markdown",
   "metadata": {},
   "source": [
    "There is obviously something strange going on here at very large and very small k. Not sure why this isn't being caught in the tests."
   ]
  },
  {
   "cell_type": "code",
   "execution_count": null,
   "metadata": {
    "collapsed": true
   },
   "outputs": [],
   "source": []
  }
 ],
 "metadata": {
  "kernelspec": {
   "display_name": "Python 2",
   "language": "python",
   "name": "python2"
  },
  "language_info": {
   "codemirror_mode": {
    "name": "ipython",
    "version": 2
   },
   "file_extension": ".py",
   "mimetype": "text/x-python",
   "name": "python",
   "nbconvert_exporter": "python",
   "pygments_lexer": "ipython2",
   "version": "2.7.12"
  }
 },
 "nbformat": 4,
 "nbformat_minor": 2
}
