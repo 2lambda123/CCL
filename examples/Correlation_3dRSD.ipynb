{
 "cells": [
  {
   "cell_type": "code",
   "execution_count": 1,
   "metadata": {},
   "outputs": [],
   "source": [
    "import numpy as np\n",
    "import pyccl as ccl\n",
    "import pylab as plt\n",
    "import math\n",
    "from scipy.interpolate import interp1d\n",
    "%matplotlib inline"
   ]
  },
  {
   "cell_type": "markdown",
   "metadata": {},
   "source": [
    "# Redshift-space correlation function"
   ]
  },
  {
   "cell_type": "markdown",
   "metadata": {},
   "source": [
    "We can calculate the redshift-space correlation function $\\xi(s)$ by averaging $\\xi(\\pi,\\sigma)$ at constant $s$."
   ]
  },
  {
   "cell_type": "code",
   "execution_count": 2,
   "metadata": {},
   "outputs": [],
   "source": [
    "cosmo = ccl.Cosmology(Omega_c=0.2719, Omega_b=0.0499, h=0.6663, A_s=2.12e-9, n_s=0.9624, \n",
    "                      transfer_function='boltzmann_class')"
   ]
  },
  {
   "cell_type": "code",
   "execution_count": 3,
   "metadata": {},
   "outputs": [],
   "source": [
    "s0 = np.logspace(-1., 2., 1000) # distance in RS space\n",
    "a = 1. # Scale factor\n",
    "beta = 0.4 # growth factor divided by bias\n",
    "mu = 0.4 #cosine of angle"
   ]
  },
  {
   "cell_type": "code",
   "execution_count": 4,
   "metadata": {},
   "outputs": [
    {
     "ename": "AttributeError",
     "evalue": "'module' object has no attribute 'correlation_3dRsd'",
     "output_type": "error",
     "traceback": [
      "\u001b[0;31m---------------------------------------------------------------------------\u001b[0m",
      "\u001b[0;31mAttributeError\u001b[0m                            Traceback (most recent call last)",
      "\u001b[0;32m<ipython-input-4-1d4365d896d5>\u001b[0m in \u001b[0;36m<module>\u001b[0;34m()\u001b[0m\n\u001b[0;32m----> 1\u001b[0;31m \u001b[0mxi0\u001b[0m \u001b[0;34m=\u001b[0m \u001b[0mccl\u001b[0m\u001b[0;34m.\u001b[0m\u001b[0mcorrelation_3dRsd\u001b[0m\u001b[0;34m(\u001b[0m\u001b[0mcosmo\u001b[0m\u001b[0;34m,\u001b[0m\u001b[0ma\u001b[0m\u001b[0;34m,\u001b[0m\u001b[0ms0\u001b[0m\u001b[0;34m,\u001b[0m\u001b[0mmu\u001b[0m\u001b[0;34m,\u001b[0m\u001b[0mbeta\u001b[0m\u001b[0;34m,\u001b[0m\u001b[0mdo_avg_mu\u001b[0m\u001b[0;34m=\u001b[0m\u001b[0mTrue\u001b[0m\u001b[0;34m)\u001b[0m \u001b[0;31m#averaging at constant s\u001b[0m\u001b[0;34m\u001b[0m\u001b[0m\n\u001b[0m",
      "\u001b[0;31mAttributeError\u001b[0m: 'module' object has no attribute 'correlation_3dRsd'"
     ]
    }
   ],
   "source": [
    "xi0 = ccl.correlation_3dRsd(cosmo,a,s0,mu,beta,do_avg_mu=True) #averaging at constant s"
   ]
  },
  {
   "cell_type": "code",
   "execution_count": null,
   "metadata": {},
   "outputs": [],
   "source": [
    "plt.plot(s0,xi0, 'r-')\n",
    "plt.xscale('log')\n",
    "plt.yscale('log')\n",
    "plt.xlabel(r'$s[\\rm{Mpc}]$',fontsize=22)\n",
    "plt.ylabel(r'$\\xi(s)$',fontsize=22)\n",
    "plt.show()"
   ]
  },
  {
   "cell_type": "markdown",
   "metadata": {},
   "source": [
    "# The two-point correlation function, $\\xi(\\pi,\\sigma)$"
   ]
  },
  {
   "cell_type": "code",
   "execution_count": null,
   "metadata": {},
   "outputs": [],
   "source": [
    "n_th = 500 #number of points in the angle array\n",
    "n_s =100 #number of points in pi and sigma arrays\n",
    "A = 0.2\n",
    "th = []\n",
    "for i in range(n_th):\n",
    "    th.append(0.5*math.pi/n_th*i)"
   ]
  },
  {
   "cell_type": "code",
   "execution_count": null,
   "metadata": {},
   "outputs": [],
   "source": [
    "xi = []\n",
    "for i in range(n_th):\n",
    "    s = []\n",
    "    for j in range(n_s):\n",
    "        s.append(A*(j+1)/math.cos(th[i]))\n",
    "    xi.append(ccl.correlation_3dRsd(cosmo,a,s,math.cos(th[i]),beta,do_avg_mu=False))"
   ]
  },
  {
   "cell_type": "code",
   "execution_count": null,
   "metadata": {},
   "outputs": [],
   "source": [
    "xi_final = []\n",
    "for j in range(n_s):\n",
    "    sig = []\n",
    "    xi_new = []\n",
    "    sig_new = []\n",
    "    for i in range(n_th):\n",
    "        sig.append(A*(j+1)*math.tan(th[i]))\n",
    "        xi_new.append(xi[i][j])\n",
    "    for k in range(n_s):\n",
    "        sig_new.append(A*(k+1))\n",
    "    f = interp1d(sig, xi_new)\n",
    "    xi_final.append(f(sig_new))    "
   ]
  },
  {
   "cell_type": "code",
   "execution_count": null,
   "metadata": {
    "scrolled": false
   },
   "outputs": [],
   "source": [
    "l = A*n_s\n",
    "x = np.linspace(-l,l,2*n_s)\n",
    "y = np.linspace(-l,l,2*n_s)\n",
    "b1 = np.hstack((np.fliplr(xi_final),xi_final))\n",
    "b2 = np.flipud(b1)\n",
    "b = np.vstack((b2,b1))\n",
    "v = [0.1,0.2,0.5,1,2,4]\n",
    "plt.figure(figsize = (7,7))\n",
    "plt.contour(x,y,b,v)\n",
    "plt.xlabel(r'$\\sigma[\\rm{Mpc}]$',fontsize=22)\n",
    "plt.ylabel(r'$\\pi[\\rm{Mpc}]$',fontsize=22)\n",
    "plt.grid()\n",
    "plt.show()"
   ]
  },
  {
   "cell_type": "code",
   "execution_count": null,
   "metadata": {},
   "outputs": [],
   "source": []
  }
 ],
 "metadata": {
  "kernelspec": {
   "display_name": "Python 2",
   "language": "python",
   "name": "python2"
  },
  "language_info": {
   "codemirror_mode": {
    "name": "ipython",
    "version": 2
   },
   "file_extension": ".py",
   "mimetype": "text/x-python",
   "name": "python",
   "nbconvert_exporter": "python",
   "pygments_lexer": "ipython2",
   "version": "2.7.12"
  }
 },
 "nbformat": 4,
 "nbformat_minor": 2
}
