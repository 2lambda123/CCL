{
 "cells": [
  {
   "cell_type": "markdown",
   "metadata": {},
   "source": [
    "# Redshift-space Correlation Function"
   ]
  },
  {
   "cell_type": "markdown",
   "metadata": {},
   "source": [
    "In this example we will calculate the the redshift-space correlation function $\\xi(\\pi,\\sigma)$ in the linear (Kaiser) approximation. Here, $\\pi$ and $\\sigma$ are the galaxy pair separations along the line of sight and perpendicular to the line of sight, respectively. We also calculate the redshift-space correlation function $\\xi(s)$, the average of $\\xi(\\pi,\\sigma)$ at constant $s$, where $s$ is the galaxy separation in redshift space."
   ]
  },
  {
   "cell_type": "code",
   "execution_count": 33,
   "metadata": {},
   "outputs": [],
   "source": [
    "import numpy as np\n",
    "import pyccl as ccl\n",
    "import matplotlib\n",
    "import matplotlib.pyplot as plt\n",
    "from matplotlib import ticker, cm"
   ]
  },
  {
   "cell_type": "code",
   "execution_count": 34,
   "metadata": {},
   "outputs": [],
   "source": [
    "# define a cosmology\n",
    "cosmo = ccl.Cosmology(Omega_c=0.25, Omega_b=0.05, h=0.7, sigma8=0.8, n_s=0.96,transfer_function='boltzmann_class', \n",
    "                      matter_power_spectrum='halofit')"
   ]
  },
  {
   "cell_type": "markdown",
   "metadata": {},
   "source": [
    "Create array for distances, define parameters."
   ]
  },
  {
   "cell_type": "code",
   "execution_count": 35,
   "metadata": {},
   "outputs": [],
   "source": [
    "n_s = 10000 # number of points for s array (s = separation between the two galaxies)\n",
    "s_arr=np.logspace(-2,3,n_s)\n",
    "N = 100 # no. points for distance arrays\n",
    "l = 50 # max value for distance arrays in Mpc\n",
    "pi = np.linspace(0,l,N)\n",
    "sigma = np.linspace(0,l,N)\n",
    "a = 1.0 # scale factor\n",
    "h = 0.7 # Hubble constant\n",
    "beta = 0.4 # growth factor divided by bias"
   ]
  },
  {
   "cell_type": "markdown",
   "metadata": {},
   "source": [
    "Calculate $\\xi(\\pi,\\sigma)$ and plot"
   ]
  },
  {
   "cell_type": "code",
   "execution_count": 36,
   "metadata": {},
   "outputs": [],
   "source": [
    "Xi = np.ones([N,N]); # initialize array for xi(pi, sigma)\n",
    "for i in range(N):\n",
    "    Xi[i]=ccl.correlation_pi_sigma(cosmo,a,beta,pi[i],sigma,True);"
   ]
  },
  {
   "cell_type": "code",
   "execution_count": 37,
   "metadata": {},
   "outputs": [
    {
     "data": {
      "image/png": "[encoded data removed]",
      "text/plain": [
       "<Figure size 504x504 with 2 Axes>"
      ]
     },
     "metadata": {
      "needs_background": "light"
     },
     "output_type": "display_data"
    }
   ],
   "source": [
    "# flip Xi into the other three quadrants (since xi(pi, sigma) is symmetric)\n",
    "x = np.linspace(-l,l,2*N)\n",
    "y = np.linspace(-l,l,2*N)\n",
    "z1 = np.hstack((np.fliplr(Xi),Xi))\n",
    "z2 = np.flipud(z1)\n",
    "z = np.vstack((z2,z1))\n",
    "\n",
    "fig, ax = plt.subplots(figsize=(7, 7)) \n",
    "ax.set_xlabel(r'$\\sigma$ $[\\rm{Mpc}]$',fontsize=22)\n",
    "ax.set_ylabel(r'$\\pi$ $[\\rm{Mpc}]$',fontsize=22)\n",
    "csp=plt.contourf(x, y, z, locator=ticker.LogLocator(), cmap=cm.PuBu_r)\n",
    "cbar = fig.colorbar(csp)\n",
    "\n",
    "plt.savefig('xiRsd1.pdf',bbox_inches = 'tight')"
   ]
  },
  {
   "cell_type": "markdown",
   "metadata": {},
   "source": [
    "Calculate $\\xi(s)$ and plot"
   ]
  },
  {
   "cell_type": "code",
   "execution_count": null,
   "metadata": {},
   "outputs": [],
   "source": [
    "xi = ccl.correlation_3dRsd_avgmu(cosmo,a,s_arr,beta)"
   ]
  },
  {
   "cell_type": "code",
   "execution_count": null,
   "metadata": {},
   "outputs": [],
   "source": [
    "# esthetic definitions for the plots\n",
    "font = {'size'   : 16, 'family':'STIXGeneral'}\n",
    "axislabelfontsize='large'\n",
    "matplotlib.rc('font', **font)\n",
    "matplotlib.rcParams['mathtext.fontset'] = 'stix'\n",
    "matplotlib.mathtext.rcParams['legend.fontsize']='medium'\n",
    "\n",
    "# Define array to hold only the values of xi(s) that are negative, so they can be plotted as a dashed line on log plot\n",
    "xin = [0.]*n_s # negative xi values\n",
    "for i in range (0,n_s-1):\n",
    "    if xi[i] < 0:\n",
    "        xin[i] = -xi[i]\n",
    "\n",
    "plt.loglog(s_arr,xi,'b-')\n",
    "plt.loglog(s_arr,xin,'b--')\n",
    "plt.xscale('log')\n",
    "plt.yscale('log')\n",
    "plt.xlabel(r'$s$ $[\\rm{Mpc}]$')\n",
    "plt.ylabel(r'$\\xi(s)$')\n",
    "plt.xlim((0.01,1000))\n",
    "plt.savefig('xiRsd2.pdf',bbox_inches = 'tight')\n",
    "plt.show()\n"
   ]
  },
  {
   "cell_type": "code",
   "execution_count": null,
   "metadata": {},
   "outputs": [],
   "source": [
    "# now plot large s region on linear scale\n",
    "plt.plot(s_arr, s_arr*s_arr*xi, 'b-')\n",
    "plt.xlim((50,200))\n",
    "plt.xlabel(r'$r$ (Mpc)')\n",
    "plt.ylabel(r'$\\xi (s)$')\n",
    "plt.title('3d correlation') \n",
    "plt.xlabel(r'$s [\\mathrm{Mpc}]$')\n",
    "plt.savefig('xiRsd3.pdf',bbox_inches = 'tight')\n",
    "plt.show()"
   ]
  },
  {
   "cell_type": "code",
   "execution_count": null,
   "metadata": {},
   "outputs": [],
   "source": [
    "ccl.correlation_spline_free()"
   ]
  }
 ],
 "metadata": {
  "kernelspec": {
   "display_name": "Python 2",
   "language": "python",
   "name": "python2"
  },
  "language_info": {
   "codemirror_mode": {
    "name": "ipython",
    "version": 3
   },
   "file_extension": ".py",
   "mimetype": "text/x-python",
   "name": "python",
   "nbconvert_exporter": "python",
   "pygments_lexer": "ipython3",
   "version": "3.7.0"
  }
 },
 "nbformat": 4,
 "nbformat_minor": 2
}
