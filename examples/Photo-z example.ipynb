{
 "cells": [
  {
   "cell_type": "markdown",
   "metadata": {},
   "source": [
    "# Calculate tomographic bins with a user-defined p(z)"
   ]
  },
  {
   "cell_type": "markdown",
   "metadata": {},
   "source": [
    "In this example, we will calculate dN/dz in tomographic redshift bins, assuming a photometric redshift pdf that is defined by the user. CCL contains built-in routines that describe the true expected redshift distribution of LSST; the functions used in this example all make use of this built-in data.\n",
    "\n",
    "**Note:** Some of the function calls in this example are somewhat computationally intensive, and might take a minute or so on a typical laptop."
   ]
  },
  {
   "cell_type": "code",
   "execution_count": 3,
   "metadata": {},
   "outputs": [],
   "source": [
    "import numpy as np\n",
    "import pylab as plt\n",
    "import pyccl as ccl\n",
    "%matplotlib inline"
   ]
  },
  {
   "cell_type": "markdown",
   "metadata": {},
   "source": [
    "### Define a photo-z pdf\n",
    "We begin by defining a custom photo-z function, that returns the probabilty of obtaining a given photometric redshift given a particular spectrosopic (true) redshift."
   ]
  },
  {
   "cell_type": "code",
   "execution_count": 4,
   "metadata": {},
   "outputs": [],
   "source": [
    "def photoz(z_ph, z_s, args=None):\n",
    "    \"\"\"\n",
    "    Photometric redshift probability, p(z_ph | z_s).\n",
    "    \"\"\"\n",
    "    sigma_z = ccl.sigmaz_sources(z_s)\n",
    "    return np.exp(- (z_ph - z_s)**2. / (2.*sigma_z**2.)) \\\n",
    "          / (np.sqrt(2.*np.pi) * sigma_z)"
   ]
  },
  {
   "cell_type": "markdown",
   "metadata": {},
   "source": [
    "The first two arguments of this function must be the photometric redshift and spectroscopic (true) redshift respectively. We could have also specified extra function parameters by using the `args` keyword argument if we wanted to. In this case, we have used a built-in `sigma_z` function, which specifies the default LSST `sigma_z` values (i.e. the effective photo-z accuracy).\n",
    "\n",
    "We can see what this pdf looks like for a couple of example (true) redshifts:"
   ]
  },
  {
   "cell_type": "code",
   "execution_count": 5,
   "metadata": {},
   "outputs": [
    {
     "data": {
      "image/png": "[encoded data removed]",
      "text/plain": [
       "<Figure size 432x288 with 1 Axes>"
      ]
     },
     "metadata": {
      "needs_background": "light"
     },
     "output_type": "display_data"
    }
   ],
   "source": [
    "z_ph = np.linspace(0., 2., 200)\n",
    "plt.plot(z_ph, photoz(z_ph, z_s=0.5), 'b-')\n",
    "plt.plot(z_ph, photoz(z_ph, z_s=1.0), 'r-')\n",
    "plt.show()"
   ]
  },
  {
   "cell_type": "markdown",
   "metadata": {},
   "source": [
    "Now, we must create a new `PhotoZFunction` object to manage the user-defined photo-z pdf. (This allows the function to be called properly by other functions inside CCL, and does some memory management.)"
   ]
  },
  {
   "cell_type": "code",
   "execution_count": 6,
   "metadata": {},
   "outputs": [],
   "source": [
    "pz_function = ccl.PhotoZFunction(photoz)"
   ]
  },
  {
   "cell_type": "markdown",
   "metadata": {},
   "source": [
    "Alternatively, CCL has a built-in Gaussian photo-z pdf, `PhotoZGaussian`, that we could have used. This assumes that the photo-z error scales with redshift as $\\sigma_z = \\sigma_{z,0} (1 + z)$. You can specify $\\sigma_{z,0}$ when you create a new instance of `PhotoZGaussian`; here, we set $\\sigma_{z,0} = 0.05$:"
   ]
  },
  {
   "cell_type": "code",
   "execution_count": 7,
   "metadata": {},
   "outputs": [],
   "source": [
    "pz_gaussian = ccl.PhotoZGaussian(0.05)"
   ]
  },
  {
   "cell_type": "markdown",
   "metadata": {},
   "source": [
    "Note that `PhotoZGaussian` is actually implemented in C rather than Python, so will generally run much faster than any function that you pass to `PhotoZFunction`. For this example, let's use the built-in version."
   ]
  },
  {
   "cell_type": "code",
   "execution_count": 8,
   "metadata": {},
   "outputs": [],
   "source": [
    "pz = pz_gaussian"
   ]
  },
  {
   "cell_type": "markdown",
   "metadata": {},
   "source": [
    "### Calculate the tomographic redshift bin\n",
    "Now we can calculate dN/dz in a set of tomographic redshift bins, using the `dNdz_tomog` function. This quantity is essentially the true redshft distribution of sources, dN/dz, convolved with a photo-z model, and normalized. First, let's take a look at its call signature:"
   ]
  },
  {
   "cell_type": "code",
   "execution_count": 9,
   "metadata": {},
   "outputs": [
    {
     "name": "stdout",
     "output_type": "stream",
     "text": [
      "Help on function dNdz_tomog in module pyccl.lsst_specs:\n",
      "\n",
      "dNdz_tomog(z, dNdz_type, zmin, zmax, pz_func)\n",
      "    Calculates dNdz in a particular tomographic bin, convolved\n",
      "    with a photo-z model (defined by the user), and normalized.\n",
      "    \n",
      "    Args:\n",
      "        z (float or array_like): Spectroscopic redshifts to evaluate dNdz at.\n",
      "        dNdz_type (:obj:`str`): Type of redshift distribution.\n",
      "        zmin (float): Minimum photo-z of the bin.\n",
      "        zmax (float): Maximum photo-z of the bin.\n",
      "        pz_func (callable): User-defined photo-z function.\n",
      "    \n",
      "    Return:\n",
      "        dNdz (float or array_like): dNdz values evalued at each z.\n",
      "\n"
     ]
    }
   ],
   "source": [
    "help(ccl.dNdz_tomog)"
   ]
  },
  {
   "cell_type": "markdown",
   "metadata": {},
   "source": [
    "As well as a set of redshifts, `z`, to evaluate dN/dz over, we'll also need to pass it the photo-z pdf (`pz_func`, a `PhotoZFunction` object), a minimum and maximum redshift for the bin (`zmin`, `zmax`), and the type of observable that the dN/dz function will be used for, `dNdz_type`. The available types are as follows:"
   ]
  },
  {
   "cell_type": "code",
   "execution_count": 10,
   "metadata": {},
   "outputs": [
    {
     "name": "stdout",
     "output_type": "stream",
     "text": [
      "dict_keys(['nc', 'wl_cons', 'wl_fid', 'wl_opt'])\n"
     ]
    }
   ],
   "source": [
    "print(ccl.lsst_specs.dNdz_types.keys())"
   ]
  },
  {
   "cell_type": "markdown",
   "metadata": {},
   "source": [
    "Here, `nc` stands for 'number counts' and `wl` stands for 'weak lensing'. We'll use the fiducial weak lensing type, `wl_fid` (the others are 'conservative' and 'optimistic', describing pessimistic and optimistic scenarios for how many galaxies will be detected that are suitable for a weak lensing analysis).\n",
    "\n",
    "We can then call `dNdz_tomog` to get the number counts in a bin like so:"
   ]
  },
  {
   "cell_type": "code",
   "execution_count": 1,
   "metadata": {},
   "outputs": [
    {
     "ename": "NameError",
     "evalue": "name 'np' is not defined",
     "output_type": "error",
     "traceback": [
      "\u001b[0;31m---------------------------------------------------------------------------\u001b[0m",
      "\u001b[0;31mNameError\u001b[0m                                 Traceback (most recent call last)",
      "\u001b[0;32m<ipython-input-1-80aff913888d>\u001b[0m in \u001b[0;36m<module>\u001b[0;34m\u001b[0m\n\u001b[0;32m----> 1\u001b[0;31m \u001b[0mz\u001b[0m \u001b[0;34m=\u001b[0m \u001b[0mnp\u001b[0m\u001b[0;34m.\u001b[0m\u001b[0mlinspace\u001b[0m\u001b[0;34m(\u001b[0m\u001b[0;36m0.\u001b[0m\u001b[0;34m,\u001b[0m \u001b[0;36m2.\u001b[0m\u001b[0;34m,\u001b[0m \u001b[0;36m100\u001b[0m\u001b[0;34m)\u001b[0m\u001b[0;34m\u001b[0m\u001b[0m\n\u001b[0m\u001b[1;32m      2\u001b[0m \u001b[0mdNdz\u001b[0m \u001b[0;34m=\u001b[0m \u001b[0mccl\u001b[0m\u001b[0;34m.\u001b[0m\u001b[0mdNdz_tomog\u001b[0m\u001b[0;34m(\u001b[0m\u001b[0mz\u001b[0m\u001b[0;34m,\u001b[0m \u001b[0;34m'wl_fid'\u001b[0m\u001b[0;34m,\u001b[0m \u001b[0;36m0.1\u001b[0m\u001b[0;34m,\u001b[0m \u001b[0;36m0.7\u001b[0m\u001b[0;34m,\u001b[0m \u001b[0mpz\u001b[0m\u001b[0;34m)\u001b[0m\u001b[0;34m\u001b[0m\u001b[0m\n",
      "\u001b[0;31mNameError\u001b[0m: name 'np' is not defined"
     ]
    }
   ],
   "source": [
    "z = np.linspace(0., 2., 100)\n",
    "dNdz = ccl.dNdz_tomog(z, 'wl_fid', 0.1, 0.7, pz)"
   ]
  },
  {
   "cell_type": "markdown",
   "metadata": {},
   "source": [
    "Note that this can take a little while to calculate. This is slower than in the C version of CCL because the photo-z function is called many times by an integration routine inside the library. Calling a Python function, in this case `photoz()`, is slower than calling an internal C function.\n",
    "\n",
    "We can now plot the results:"
   ]
  },
  {
   "cell_type": "code",
   "execution_count": null,
   "metadata": {},
   "outputs": [],
   "source": [
    "plt.plot(z, dNdz, 'k-')\n",
    "plt.show()"
   ]
  },
  {
   "cell_type": "markdown",
   "metadata": {},
   "source": [
    "For the sake of completeness, let's also try a few other redshift bin bounds, more in line with how the LSST bins will be defined:"
   ]
  },
  {
   "cell_type": "code",
   "execution_count": null,
   "metadata": {},
   "outputs": [],
   "source": [
    "dNdz1 = ccl.dNdz_tomog(z, 'wl_fid', 0., 0.6, pz)"
   ]
  },
  {
   "cell_type": "code",
   "execution_count": null,
   "metadata": {},
   "outputs": [],
   "source": [
    "dNdz2 = ccl.dNdz_tomog(z, 'wl_fid', 0.6, 1.2, pz)"
   ]
  },
  {
   "cell_type": "code",
   "execution_count": null,
   "metadata": {},
   "outputs": [],
   "source": [
    "dNdz3 = ccl.dNdz_tomog(z, 'wl_fid', 1.2, 1.8, pz)"
   ]
  },
  {
   "cell_type": "code",
   "execution_count": null,
   "metadata": {},
   "outputs": [],
   "source": [
    "plt.plot(z, dNdz1, 'b-')\n",
    "plt.plot(z, dNdz2, 'y-')\n",
    "plt.plot(z, dNdz3, 'r-')\n",
    "plt.show()"
   ]
  },
  {
   "cell_type": "markdown",
   "metadata": {},
   "source": [
    "### Effective dN/dz for different types of observable\n",
    "LSST will obtain different galaxy number counts for different types of observable, depending on what the galaxies will be used for. For example, not all detected galaxies will be suitable for weak lensing. The `dNdz_type` argument specifies which _intrinsic_ dN/dz distribution should be used to calculate the observed photometric redshift distribution. Let's compare the various options from above:"
   ]
  },
  {
   "cell_type": "code",
   "execution_count": null,
   "metadata": {},
   "outputs": [],
   "source": [
    "dNdz_wlfid = ccl.dNdz_tomog(z, 'wl_fid', 0.6, 1.2, pz)"
   ]
  },
  {
   "cell_type": "code",
   "execution_count": null,
   "metadata": {},
   "outputs": [],
   "source": [
    "dNdz_wlcons = ccl.dNdz_tomog(z, 'wl_cons', 0.6, 1.2, pz)"
   ]
  },
  {
   "cell_type": "code",
   "execution_count": null,
   "metadata": {},
   "outputs": [],
   "source": [
    "dNdz_wlopt = ccl.dNdz_tomog(z, 'wl_opt', 0.6, 1.2, pz)"
   ]
  },
  {
   "cell_type": "code",
   "execution_count": null,
   "metadata": {},
   "outputs": [],
   "source": [
    "dNdz_nc = ccl.dNdz_tomog(z, 'nc', 0.6, 1.2, pz)"
   ]
  },
  {
   "cell_type": "code",
   "execution_count": null,
   "metadata": {},
   "outputs": [],
   "source": [
    "plt.plot(z, dNdz_wlfid, 'r-')\n",
    "plt.plot(z, dNdz_wlcons, 'y-')\n",
    "plt.plot(z, dNdz_wlopt, 'b-')\n",
    "plt.plot(z, dNdz_nc, 'k--')\n",
    "plt.xlim((0.4, 1.6))\n",
    "plt.show()"
   ]
  },
  {
   "cell_type": "markdown",
   "metadata": {},
   "source": [
    "Recall that these functions have all been normalised. As such, dN/dz in the optimistic weak lensing case (which assumes that more galaxies suitable for weak lensing will be detected) is not above the conservative curve everywhere in this plot, as it would be if left unnormalised. Notice that it has a heavier tail at high redshift, though."
   ]
  }
 ],
 "metadata": {
  "kernelspec": {
   "display_name": "Python 3",
   "language": "python",
   "name": "python3"
  },
  "language_info": {
   "codemirror_mode": {
    "name": "ipython",
    "version": 3
   },
   "file_extension": ".py",
   "mimetype": "text/x-python",
   "name": "python",
   "nbconvert_exporter": "python",
   "pygments_lexer": "ipython3",
   "version": "3.6.6"
  }
 },
 "nbformat": 4,
 "nbformat_minor": 2
}
