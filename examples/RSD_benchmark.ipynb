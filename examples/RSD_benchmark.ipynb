{
 "cells": [
  {
   "cell_type": "code",
   "execution_count": 18,
   "metadata": {},
   "outputs": [],
   "source": [
    "import numpy as np\n",
    "import pyccl as ccl\n",
    "import py_cosmo_mad as csm\n",
    "import matplotlib\n",
    "import matplotlib.pyplot as plt\n",
    "from matplotlib import ticker, cm\n",
    "\n",
    "from mpl_toolkits.mplot3d import axes3d\n",
    "#from matplotlib.ticker import LinearLocator, FormatStrFormatter"
   ]
  },
  {
   "cell_type": "code",
   "execution_count": 19,
   "metadata": {},
   "outputs": [],
   "source": [
    "# set up cosmologies in CCL\n",
    "p1 = ccl.Parameters(Omega_c=0.25, Omega_b=0.05, h=0.7, sigma8=0.80, n_s=0.96, w0=-1.0, wa=0.0)\n",
    "p2 = ccl.Parameters(Omega_c=0.25, Omega_b=0.05, h=0.7, sigma8=0.80, n_s=0.96, w0=-0.9, wa=0.0)\n",
    "p3 = ccl.Parameters(Omega_c=0.25, Omega_b=0.05, h=0.7, sigma8=0.80, n_s=0.96, w0=-0.9, wa=0.1)\n",
    "p4 = ccl.Parameters(Omega_c=0.25, Omega_b=0.05, h=0.7, sigma8=0.80, n_s=0.96, w0=-0.9, wa=0.1)\n",
    "p5 = ccl.Parameters(Omega_c=0.25, Omega_b=0.05, h=0.7, sigma8=0.80, n_s=0.96, w0=-0.9, wa=0.1)\n",
    "\n",
    "p1.parameters.Omega_g = 0\n",
    "p2.parameters.Omega_g = 0\n",
    "p3.parameters.Omega_g = 0\n",
    "p4.parameters.Omega_g = 0\n",
    "p5.parameters.Omega_g = 0\n",
    "\n",
    "p4.parameters.Omega_l = 0.65\n",
    "p5.parameters.Omega_l = 0.75\n",
    "\n",
    "# define the cosmology model to use\n",
    "p = p3\n",
    "fname = 'model3_xiRSD.txt' # filename for writing benchmark data\n",
    "cosmo = ccl.Cosmology(p)"
   ]
  },
  {
   "cell_type": "code",
   "execution_count": 20,
   "metadata": {},
   "outputs": [],
   "source": [
    "nk = 10000 # No. of points in k\n",
    "ns = 5000 # No. of points in s\n",
    "k_arr = np.logspace(-4.7,5,nk)\n",
    "s_arr = np.logspace(-1,3,ns)\n",
    "a = 1.0 # scale factor\n",
    "h = 0.7 # Hubble"
   ]
  },
  {
   "cell_type": "code",
   "execution_count": 21,
   "metadata": {},
   "outputs": [],
   "source": [
    "# CCL power spectra\n",
    "pk_lin = ccl.linear_matter_power(cosmo, k_arr, a)\n",
    "pk_nl = ccl.nonlin_matter_power(cosmo, k_arr, a)"
   ]
  },
  {
   "cell_type": "code",
   "execution_count": 22,
   "metadata": {},
   "outputs": [],
   "source": [
    "# write power spectra to files to be read by CosmoMAD (Note: k is in units of h Mpc^-1 in CosmoMAD but Mpc^-1 in CCL)\n",
    "file1 = open('pk_lin.dat','w') \n",
    "for n in range(nk):\n",
    "    file1.write(str(k_arr[n]/h)+'   '+str(pk_lin[n])+'\\n') \n",
    "file1.close()\n",
    "\n",
    "file2 = open('pk_nl.dat','w') \n",
    "for n in range(nk):\n",
    "    file2.write(str(k_arr[n]/h)+'   '+str(pk_nl[n])+'\\n') \n",
    "file2.close()"
   ]
  },
  {
   "cell_type": "code",
   "execution_count": 23,
   "metadata": {},
   "outputs": [
    {
     "name": "stdout",
     "output_type": "stream",
     "text": [
      "beta = 0.5102500557881973\n"
     ]
    }
   ],
   "source": [
    "# Input CCL P(k)'s to CosmoMAD \n",
    "pcsp=csm.PcsPar()\n",
    "oc = p.parameters.Omega_c\n",
    "ob = p.parameters.Omega_b\n",
    "s8 = p.parameters.sigma8\n",
    "ns = p.parameters.n_s\n",
    "w0 = p.parameters.w0\n",
    "wa = p.parameters.wa\n",
    "pcsp.background_set(oc+ob,h,ob,w0,wa,h,2.725);\n",
    "pcsp.set_linear_pk(\"pk_lin.dat\",-5,1,0.005,ns,s8)\n",
    "pcsp.set_nonlinear_pk(\"pk_nl.dat\")\n",
    "\n",
    "beta = pcsp.f_growth(a) # we assume bias = 1 and get growth factor from CosmoMAD\n",
    "print('beta =', beta)\n",
    "pcsp.set_Pk_params(beta,pcsp.growth_factor(a)/pcsp.growth_factor(1),1.0,4);"
   ]
  },
  {
   "cell_type": "code",
   "execution_count": 24,
   "metadata": {},
   "outputs": [],
   "source": [
    "# Calculate correlation function in CCL\n",
    "#xi_ccl = ccl.correlation_3dRsd_avgmu(cosmo,a,s_arr,beta)\n",
    "##xi_cosmomad = xi0 + 0.25*np.array(xi2) + 9./64*np.array(xi4)"
   ]
  },
  {
   "cell_type": "code",
   "execution_count": 25,
   "metadata": {},
   "outputs": [],
   "source": [
    "# Calculate correlation function in CosmoMAD (Note: s in in units of Mpc/h in CosmoMAD but Mpc in CCL)\n",
    "def xicosmomad (s_arr):\n",
    "    xi = []\n",
    "    for s in s_arr:\n",
    "        xi.append(pcsp.xi_multipole(s*h,0) + 1./4*pcsp.xi_multipole(s*h,2) + 9./64*pcsp.xi_multipole(s*h,4))\n",
    "    return np.array(xi)"
   ]
  },
  {
   "cell_type": "code",
   "execution_count": null,
   "metadata": {},
   "outputs": [],
   "source": [
    "# Plot relative and absolute differences\n",
    "frac_diff1 = []\n",
    "frac_diff2 = []\n",
    "abs_diff1 = []    \n",
    "abs_diff2 = []\n",
    "\n",
    "s1 = np.logspace(-1,2,40)\n",
    "s2 = np.logspace(np.log10(50),np.log10(250),100)\n",
    "\n",
    "xi_ccl1 = ccl.correlation_3dRsd_avgmu(cosmo,a,s1,beta)\n",
    "xi_cosmomad1 = xicosmomad(s1)\n",
    "\n",
    "xi_ccl2 = ccl.correlation_3dRsd_avgmu(cosmo,a,s2,beta)\n",
    "xi_cosmomad2 = xicosmomad(s2)\n",
    "\n",
    "for i in range(len(s1)):\n",
    "    frac_diff1.append(np.abs(xi_ccl1[i]/xi_cosmomad1[i] - 1.))\n",
    "    abs_diff1.append(np.abs(s1[i]*s1[i]*(xi_ccl1[i]-xi_cosmomad1[i])))\n",
    "    \n",
    "for i in range(len(s2)):\n",
    "    frac_diff2.append(np.abs(xi_ccl2[i]/xi_cosmomad2[i] - 1.))\n",
    "    abs_diff2.append(np.abs(s2[i]*s2[i]*(xi_ccl2[i]-xi_cosmomad2[i])))\n",
    "    \n",
    "\n",
    "# esthetic definitions for the plots\n",
    "matplotlib.rcParams['mathtext.fontset'] = 'stix'\n",
    "matplotlib.rcParams['font.family'] = 'STIXGeneral'\n",
    "matplotlib.rcParams['font.size'] = 14\n",
    "\n",
    "plt.plot(s1, frac_diff1, 'b-')\n",
    "plt.plot(s2, frac_diff2, 'r-')\n",
    "plt.xscale('log')\n",
    "plt.yscale('log')\n",
    "plt.xlabel(r'$s$ (Mpc)')\n",
    "plt.ylabel(r'$\\Delta \\xi(s) / \\xi(s)$')\n",
    "plt.grid(which='major')\n",
    "plt.title('Relative difference') \n",
    "plt.savefig('benchmark_rel.pdf',bbox_inches = 'tight')\n",
    "plt.show()\n",
    "#print frac_diff\n",
    "print(f'Max frac diff for s = 0.1-100: {np.amax(frac_diff1)}')\n",
    "print(f'Max frac diff for s = 50-250: {np.amax(frac_diff2)}')"
   ]
  },
  {
   "cell_type": "code",
   "execution_count": null,
   "metadata": {},
   "outputs": [],
   "source": [
    "r2xi = np.array(s2*s2*xi_cosmomad2)\n",
    "\n",
    "# plot absolute difference in r^2 xi(r)\n",
    "plt.plot(s1, abs_diff1, 'b-')\n",
    "plt.plot(s2, abs_diff2, 'r-')\n",
    "plt.xscale('log')\n",
    "plt.yscale('log')\n",
    "plt.xlabel(r'$s$ (Mpc)')\n",
    "plt.ylabel(r'$\\Delta (s^2 \\xi(r)) $')\n",
    "plt.grid(which='minor')\n",
    "plt.title('Absolute difference') \n",
    "plt.grid(which='both')\n",
    "plt.savefig('benchmark_abs.pdf',bbox_inches = 'tight')\n",
    "plt.show()\n",
    "\n",
    "#print abs_diff\n",
    "print(f'Max diff for s = 0.1-100: {np.amax(abs_diff1)}')\n",
    "print(f'Max diff for s = 50-250: {np.amax(abs_diff2)}')\n",
    "apex = np.amax(r2xi[(s2<160)&(s2>140)])\n",
    "print(f'BAO peak height = max (s^2 xi) for s = 140-160 Mpc: {apex}')\n",
    "# find and print the average of Delta(r^2 xi) in the BAO peak region\n",
    "avg_value = np.average(np.array(abs_diff2)[(140<s2) & (s2<150)])\n",
    "print(f'Average Delta(r^2 xi) for s = 140-150 Mpc: {avg_value}')"
   ]
  },
  {
   "cell_type": "code",
   "execution_count": null,
   "metadata": {},
   "outputs": [],
   "source": [
    "# Write benchmark data to file\n",
    "f = open(fname,'w')\n",
    "\n",
    "f.write('#  [0] s (Mpc; comoving), [1] xi(s,z=0.0)' + '\\n')\n",
    "\n",
    "for i in range(len(s1)):\n",
    "    col = []\n",
    "    s = ''\n",
    "    col.append(\"{:.18e}\".format(s1[i]).ljust(27))\n",
    "    col.append(\"{:.18e}\".format(xi_cosmomad1[i]).ljust(27))\n",
    "    s = s + col[0] + col[1] \n",
    "    f.write(s + '\\n')\n",
    "\n",
    "for i in range(len(s2)):\n",
    "    col = []\n",
    "    s = ''\n",
    "    col.append(\"{:.18e}\".format(s2[i]).ljust(27))\n",
    "    col.append(\"{:.18e}\".format(xi_cosmomad2[i]).ljust(27))\n",
    "    s = s + col[0] + col[1]        \n",
    "    f.write(s + '\\n')\n",
    "\n",
    "f.close()"
   ]
  },
  {
   "cell_type": "code",
   "execution_count": null,
   "metadata": {},
   "outputs": [],
   "source": [
    "# Make some plots of the difference CCL - CosmoMAD for xi(pi, sigma)\n",
    "def bench_pi_sigma(pi,sigma):\n",
    "    xi = []\n",
    "    for sig in sigma:\n",
    "        xi.append(pcsp.xi_pi_sigma(pi*h,sig*h,1))\n",
    "    return np.array(xi)"
   ]
  },
  {
   "cell_type": "code",
   "execution_count": null,
   "metadata": {},
   "outputs": [],
   "source": [
    "N = 100\n",
    "l = 100\n",
    "pi = np.linspace(0,l,N)\n",
    "sigma = np.linspace(0,l,N)\n",
    "\n",
    "X = np.ones([N,N]);\n",
    "for i in range(N):\n",
    "    bench_xi = bench_pi_sigma(pi[i],sigma);\n",
    "    ccl_xi = ccl.correlation_pi_sigma(cosmo,a,beta,pi[i],sigma,True);\n",
    "    # X[i] = np.abs(1 - ccl_xi/bench_xi)\n",
    "    X[i] = np.absolute(ccl_xi - bench_xi) "
   ]
  },
  {
   "cell_type": "code",
   "execution_count": null,
   "metadata": {},
   "outputs": [],
   "source": [
    "x = np.linspace(-l,l,2*N)\n",
    "y = np.linspace(-l,l,2*N)\n",
    "b1 = np.hstack((np.fliplr(X),X))\n",
    "b2 = np.flipud(b1)\n",
    "b = np.vstack((b2,b1))\n",
    "\n",
    "v = [0.0001,0.0002,0.0005,0.001,0.002,0.005,0.01]\n",
    "plt.figure(figsize = (6,6))\n",
    "CP=plt.contour(x,y,b,v,colors=('r', 'g', 'y', 'c', 'b', 'm', 'k'))\n",
    "plt.clabel(CP, inline=1, fontsize=8)\n",
    "plt.xlabel(r'$\\sigma$ $[\\rm{Mpc}]$',fontsize=22)\n",
    "plt.ylabel(r'$\\pi$ $[\\rm{Mpc}]$',fontsize=22)\n",
    "#plt.grid()\n",
    "plt.savefig('benchmark1.pdf',bbox_inches = 'tight')\n",
    "plt.show()"
   ]
  },
  {
   "cell_type": "code",
   "execution_count": null,
   "metadata": {},
   "outputs": [],
   "source": [
    "plt.figure(figsize = (6,6))\n",
    "plt.contourf(x,y,b,v,colors=('r', 'g', 'y', 'c', 'b', 'm', 'k'))\n",
    "#plt.clabel(CP, inline=1, fontsize=12)\n",
    "plt.xlabel(r'$\\sigma$ $[\\rm{Mpc}]$',fontsize=22)\n",
    "plt.ylabel(r'$\\pi$ $[\\rm{Mpc}]$',fontsize=22)\n",
    "#plt.grid()\n",
    "plt.savefig('benchmark2.pdf',bbox_inches = 'tight')\n",
    "plt.show()"
   ]
  },
  {
   "cell_type": "code",
   "execution_count": null,
   "metadata": {},
   "outputs": [],
   "source": [
    "fig, ax = plt.subplots(figsize=(7, 7)) \n",
    "ax.set_xlabel(r'$\\sigma$ $[\\rm{Mpc}]$',fontsize=22)\n",
    "ax.set_ylabel(r'$\\pi$ $[\\rm{Mpc}]$',fontsize=22)\n",
    "csp=plt.contourf(x, y, b, locator=ticker.LogLocator(), cmap=cm.PuBu_r)\n",
    "cbar = fig.colorbar(csp)\n",
    "plt.savefig('benchmark3.pdf',bbox_inches = 'tight')"
   ]
  },
  {
   "cell_type": "code",
   "execution_count": null,
   "metadata": {},
   "outputs": [],
   "source": [
    "fig1 = plt.figure()\n",
    "ax1 = fig1.add_subplot(111, projection='3d')\n",
    "X, Y = np.meshgrid(x, y)\n",
    "ax1.plot_wireframe(X, Y, b, rstride=10, cstride=10)\n",
    "ax1.set_xlabel(r'$\\sigma$ $[\\rm{Mpc}]$',fontsize=14)\n",
    "ax1.set_ylabel(r'$\\pi$ $[\\rm{Mpc}]$',fontsize=14)\n",
    "#ax1.set_zscale('log')\n",
    "zlimits=ax1.set_zlim(0., 0.05)\n",
    "plt.savefig('benchmark4.pdf',bbox_inches = 'tight')"
   ]
  },
  {
   "cell_type": "code",
   "execution_count": null,
   "metadata": {},
   "outputs": [],
   "source": []
  }
 ],
 "metadata": {
  "kernelspec": {
   "display_name": "Python 2",
   "language": "python",
   "name": "python2"
  },
  "language_info": {
   "codemirror_mode": {
    "name": "ipython",
    "version": 3
   },
   "file_extension": ".py",
   "mimetype": "text/x-python",
   "name": "python",
   "nbconvert_exporter": "python",
   "pygments_lexer": "ipython3",
   "version": "3.7.0"
  }
 },
 "nbformat": 4,
 "nbformat_minor": 2
}
