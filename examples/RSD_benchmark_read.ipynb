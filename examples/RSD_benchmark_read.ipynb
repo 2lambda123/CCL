{
 "cells": [
  {
   "cell_type": "code",
   "execution_count": 4,
   "metadata": {},
   "outputs": [],
   "source": [
    "import numpy as np\n",
    "import pyccl as ccl\n",
    "import matplotlib\n",
    "import matplotlib.pyplot as plt"
   ]
  },
  {
   "cell_type": "code",
   "execution_count": 5,
   "metadata": {},
   "outputs": [],
   "source": [
    "# set up cosmologies in CCL\n",
    "p1 = ccl.Parameters(Omega_c=0.25, Omega_b=0.05, h=0.7, sigma8=0.80, n_s=0.96, w0=-1.0, wa=0.0)\n",
    "p2 = ccl.Parameters(Omega_c=0.25, Omega_b=0.05, h=0.7, sigma8=0.80, n_s=0.96, w0=-0.9, wa=0.0)\n",
    "p3 = ccl.Parameters(Omega_c=0.25, Omega_b=0.05, h=0.7, sigma8=0.80, n_s=0.96, w0=-0.9, wa=0.1)\n",
    "p4 = ccl.Parameters(Omega_c=0.25, Omega_b=0.05, h=0.7, sigma8=0.80, n_s=0.96, w0=-0.9, wa=0.1)\n",
    "p5 = ccl.Parameters(Omega_c=0.25, Omega_b=0.05, h=0.7, sigma8=0.80, n_s=0.96, w0=-0.9, wa=0.1)\n",
    "\n",
    "p1.parameters.Omega_g = 0\n",
    "p2.parameters.Omega_g = 0\n",
    "p3.parameters.Omega_g = 0\n",
    "p4.parameters.Omega_g = 0\n",
    "p5.parameters.Omega_g = 0\n",
    "\n",
    "p4.parameters.Omega_l = 0.65\n",
    "p5.parameters.Omega_l = 0.75\n",
    "\n",
    "# define the cosmology model to use\n",
    "p = p3\n",
    "cosmo = ccl.Cosmology(p)\n",
    "a = 1\n",
    "beta = 0.5102500557881973\n",
    "rsd_bench = np.loadtxt('../tests/benchmark/model3_xiRSD.txt')"
   ]
  },
  {
   "cell_type": "code",
   "execution_count": 6,
   "metadata": {},
   "outputs": [
    {
     "data": {
      "image/png": "[encoded data removed]",
      "text/plain": [
       "<Figure size 432x288 with 1 Axes>"
      ]
     },
     "metadata": {
      "needs_background": "light"
     },
     "output_type": "display_data"
    },
    {
     "name": "stdout",
     "output_type": "stream",
     "text": [
      "Max diff for s = 0.1-100: 0.14080579285986342\n",
      "Max diff for s = 50-250: 0.18480303101905157\n",
      "BAO peak height = max (s^2 xi) for s = 140-160 Mpc: 35.707668391934355\n",
      "Average Delta(r^2 xi) for s = 140-150 Mpc: 0.13894742851400882\n"
     ]
    }
   ],
   "source": [
    "abs_diff1 = []    \n",
    "abs_diff2 = []\n",
    "\n",
    "s1 = rsd_bench[0:40,0]\n",
    "s2 = rsd_bench[40:140,0]\n",
    "\n",
    "xi_ccl1 = ccl.correlation_3dRsd_avgmu(cosmo,a,s1,beta)\n",
    "xi_cosmomad1 = rsd_bench[0:40,1]\n",
    "\n",
    "xi_ccl2 = ccl.correlation_3dRsd_avgmu(cosmo,a,s2,beta)\n",
    "xi_cosmomad2 = rsd_bench[40:140,1]\n",
    "\n",
    "for i in range(len(s1)):\n",
    "#    frac_diff1.append(np.abs(xi_ccl1[i]/xi_cosmomad1[i] - 1.))\n",
    "    abs_diff1.append(np.abs(s1[i]*s1[i]*(xi_ccl1[i]-xi_cosmomad1[i])))\n",
    "    \n",
    "for i in range(len(s2)):\n",
    "#    frac_diff2.append(np.abs(xi_ccl2[i]/xi_cosmomad2[i] - 1.))\n",
    "    abs_diff2.append(np.abs(s2[i]*s2[i]*(xi_ccl2[i]-xi_cosmomad2[i])))\n",
    "    \n",
    "r2xi = np.array(s2*s2*xi_cosmomad2)\n",
    "\n",
    "# plot absolute difference in r^2 xi(r)\n",
    "plt.plot(s1, abs_diff1, 'b-')\n",
    "plt.plot(s2, abs_diff2, 'r-')\n",
    "plt.xscale('log')\n",
    "plt.yscale('log')\n",
    "plt.xlabel(r'$s$ (Mpc)')\n",
    "plt.ylabel(r'$\\Delta (s^2 \\xi(r)) $')\n",
    "plt.grid(which='minor')\n",
    "plt.title('Absolute difference') \n",
    "plt.grid(which='both')\n",
    "plt.savefig('benchmark_abs.pdf',bbox_inches = 'tight')\n",
    "plt.show()\n",
    "\n",
    "#print abs_diff\n",
    "print(f'Max diff for s = 0.1-100: {np.amax(abs_diff1)}')\n",
    "print(f'Max diff for s = 50-250: {np.amax(abs_diff2)}')\n",
    "apex = np.amax(r2xi[(s2<160)&(s2>140)])\n",
    "print(f'BAO peak height = max (s^2 xi) for s = 140-160 Mpc: {apex}')\n",
    "# find and print the average of Delta(r^2 xi) in the BAO peak region\n",
    "avg_value = np.average(np.array(abs_diff2)[(140<s2) & (s2<150)])\n",
    "print(f'Average Delta(r^2 xi) for s = 140-150 Mpc: {avg_value}')"
   ]
  },
  {
   "cell_type": "code",
   "execution_count": null,
   "metadata": {},
   "outputs": [],
   "source": []
  }
 ],
 "metadata": {
  "kernelspec": {
   "display_name": "Python 2",
   "language": "python",
   "name": "python2"
  },
  "language_info": {
   "codemirror_mode": {
    "name": "ipython",
    "version": 3
   },
   "file_extension": ".py",
   "mimetype": "text/x-python",
   "name": "python",
   "nbconvert_exporter": "python",
   "pygments_lexer": "ipython3",
   "version": "3.7.0"
  }
 },
 "nbformat": 4,
 "nbformat_minor": 2
}
