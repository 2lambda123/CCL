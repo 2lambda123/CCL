{
 "cells": [
  {
   "cell_type": "markdown",
   "metadata": {},
   "source": [
    "# Example halo-model power spectrum calculation\n",
    "In this example, we will calculate the halo-model matter power spectrum."
   ]
  },
  {
   "cell_type": "code",
   "execution_count": 1,
   "metadata": {},
   "outputs": [],
   "source": [
    "import numpy as np\n",
    "import pyccl as ccl\n",
    "import pylab as plt\n",
    "import math\n",
    "%matplotlib inline"
   ]
  },
  {
   "cell_type": "markdown",
   "metadata": {},
   "source": [
    "We begin by defining a set of cosmological parameters, as usual:"
   ]
  },
  {
   "cell_type": "code",
   "execution_count": 2,
   "metadata": {},
   "outputs": [],
   "source": [
    "cosmo = ccl.Cosmology(Omega_c=0.27, Omega_b=0.045, h=0.67, sigma8=0.8, n_s=0.96, Neff=3.04,\n",
    "                      transfer_function='class',\n",
    "                      matter_power_spectrum='halofit')"
   ]
  },
  {
   "cell_type": "markdown",
   "metadata": {},
   "source": [
    "Note that we have explicitly defined how transfer functions should be calculated for the matter power spectrum, by using the `transfer_function` keyword argument. The following types of transfer function are available:"
   ]
  },
  {
   "cell_type": "code",
   "execution_count": 3,
   "metadata": {},
   "outputs": [
    {
     "name": "stdout",
     "output_type": "stream",
     "text": [
      "['boltzmann', 'boltzmann_class', 'none', 'emulator', 'fitting_function', 'camb', 'class', 'bbks', 'eisenstein_hu', 'boltzmann_camb']\n"
     ]
    }
   ],
   "source": [
    "print(ccl.core.transfer_function_types.keys())"
   ]
  },
  {
   "cell_type": "markdown",
   "metadata": {},
   "source": [
    "The default is `boltzmann_class`, which uses a full transfer function calculation from the CLASS Boltzmann code. This is highly accurate at the level of linear pertubation theory, but does not account for non-linear gravitational interactions which are dominant at smaller scales in the late Universe.\n",
    "\n",
    "The `Cosmology()` object constructor also has a `matter_power_spectrum` argument that can be changed:"
   ]
  },
  {
   "cell_type": "code",
   "execution_count": 4,
   "metadata": {},
   "outputs": [
    {
     "name": "stdout",
     "output_type": "stream",
     "text": [
      "['halomodel', 'halofit', 'halo_model', 'linear', 'emu']\n"
     ]
    }
   ],
   "source": [
    "print(ccl.core.matter_power_spectrum_types.keys())"
   ]
  },
  {
   "cell_type": "markdown",
   "metadata": {},
   "source": [
    "which determines what is output by the ```ccl.nonlin_matter_power``` function. The default is ```halofit```, a fitting function for the non-linear power."
   ]
  },
  {
   "cell_type": "markdown",
   "metadata": {},
   "source": [
    "### Calculate the matter power spectrum\n",
    "Now, let's calculate various different types of power spectra..."
   ]
  },
  {
   "cell_type": "code",
   "execution_count": 5,
   "metadata": {},
   "outputs": [
    {
     "ename": "RuntimeError",
     "evalue": "Error CCL_ERROR_CLASS: ccl_power.c: ccl_cosmology_compute_power_class(): Error running CLASS thermodynamics:thermodynamics_init(L:304) :error in thermodynamics_helium_from_bbn(ppr,pba,pth);\n=>thermodynamics_helium_from_bbn(L:1143) :could not open fA with name /usr/local/lib/python2.7/site-packages/pyccl-0.3.4-py2.7.egg/pyccl/bbn/sBBN_2017.dat and mode \"r\"\n",
     "output_type": "error",
     "traceback": [
      "\u001b[0;31m---------------------------------------------------------------------------\u001b[0m",
      "\u001b[0;31mRuntimeError\u001b[0m                              Traceback (most recent call last)",
      "\u001b[0;32m<ipython-input-5-a4394ea51d0f>\u001b[0m in \u001b[0;36m<module>\u001b[0;34m()\u001b[0m\n\u001b[1;32m      3\u001b[0m \u001b[0;34m\u001b[0m\u001b[0m\n\u001b[1;32m      4\u001b[0m \u001b[0;31m# Calculate all these different P(k)\u001b[0m\u001b[0;34m\u001b[0m\u001b[0;34m\u001b[0m\u001b[0m\n\u001b[0;32m----> 5\u001b[0;31m \u001b[0mpk_li\u001b[0m \u001b[0;34m=\u001b[0m \u001b[0mccl\u001b[0m\u001b[0;34m.\u001b[0m\u001b[0mlinear_matter_power\u001b[0m\u001b[0;34m(\u001b[0m\u001b[0mcosmo\u001b[0m\u001b[0;34m,\u001b[0m \u001b[0mk\u001b[0m\u001b[0;34m,\u001b[0m \u001b[0ma\u001b[0m\u001b[0;34m)\u001b[0m\u001b[0;34m\u001b[0m\u001b[0m\n\u001b[0m\u001b[1;32m      6\u001b[0m \u001b[0mpk_nl\u001b[0m \u001b[0;34m=\u001b[0m \u001b[0mccl\u001b[0m\u001b[0;34m.\u001b[0m\u001b[0mnonlin_matter_power\u001b[0m\u001b[0;34m(\u001b[0m\u001b[0mcosmo\u001b[0m\u001b[0;34m,\u001b[0m \u001b[0mk\u001b[0m\u001b[0;34m,\u001b[0m \u001b[0ma\u001b[0m\u001b[0;34m)\u001b[0m\u001b[0;34m\u001b[0m\u001b[0m\n\u001b[1;32m      7\u001b[0m \u001b[0mpk_hm\u001b[0m \u001b[0;34m=\u001b[0m \u001b[0mccl\u001b[0m\u001b[0;34m.\u001b[0m\u001b[0mhalomodel_matter_power\u001b[0m\u001b[0;34m(\u001b[0m\u001b[0mcosmo\u001b[0m\u001b[0;34m,\u001b[0m \u001b[0mk\u001b[0m\u001b[0;34m,\u001b[0m \u001b[0ma\u001b[0m\u001b[0;34m)\u001b[0m\u001b[0;34m\u001b[0m\u001b[0m\n",
      "\u001b[0;32m/usr/local/lib/python2.7/site-packages/pyccl-0.3.4-py2.7.egg/pyccl/power.pyc\u001b[0m in \u001b[0;36mlinear_matter_power\u001b[0;34m(cosmo, k, a)\u001b[0m\n\u001b[1;32m     15\u001b[0m     \"\"\"\n\u001b[1;32m     16\u001b[0m     return _vectorize_fn2(lib.linear_matter_power, \n\u001b[0;32m---> 17\u001b[0;31m                           lib.linear_matter_power_vec, cosmo, k, a)\n\u001b[0m\u001b[1;32m     18\u001b[0m \u001b[0;34m\u001b[0m\u001b[0m\n\u001b[1;32m     19\u001b[0m \u001b[0;32mdef\u001b[0m \u001b[0mnonlin_matter_power\u001b[0m\u001b[0;34m(\u001b[0m\u001b[0mcosmo\u001b[0m\u001b[0;34m,\u001b[0m \u001b[0mk\u001b[0m\u001b[0;34m,\u001b[0m \u001b[0ma\u001b[0m\u001b[0;34m)\u001b[0m\u001b[0;34m:\u001b[0m\u001b[0;34m\u001b[0m\u001b[0m\n",
      "\u001b[0;32m/usr/local/lib/python2.7/site-packages/pyccl-0.3.4-py2.7.egg/pyccl/pyutils.pyc\u001b[0m in \u001b[0;36m_vectorize_fn2\u001b[0;34m(fn, fn_vec, cosmo, x, z, returns_status)\u001b[0m\n\u001b[1;32m    187\u001b[0m \u001b[0;34m\u001b[0m\u001b[0m\n\u001b[1;32m    188\u001b[0m     \u001b[0;31m# Check result and return\u001b[0m\u001b[0;34m\u001b[0m\u001b[0;34m\u001b[0m\u001b[0m\n\u001b[0;32m--> 189\u001b[0;31m     \u001b[0mcheck\u001b[0m\u001b[0;34m(\u001b[0m\u001b[0mstatus\u001b[0m\u001b[0;34m,\u001b[0m \u001b[0mcosmo_in\u001b[0m\u001b[0;34m)\u001b[0m\u001b[0;34m\u001b[0m\u001b[0m\n\u001b[0m\u001b[1;32m    190\u001b[0m     \u001b[0;32mif\u001b[0m \u001b[0mscalar\u001b[0m\u001b[0;34m:\u001b[0m\u001b[0;34m\u001b[0m\u001b[0m\n\u001b[1;32m    191\u001b[0m         \u001b[0;32mreturn\u001b[0m \u001b[0mf\u001b[0m\u001b[0;34m[\u001b[0m\u001b[0;36m0\u001b[0m\u001b[0;34m]\u001b[0m\u001b[0;34m\u001b[0m\u001b[0m\n",
      "\u001b[0;32m/usr/local/lib/python2.7/site-packages/pyccl-0.3.4-py2.7.egg/pyccl/pyutils.pyc\u001b[0m in \u001b[0;36mcheck\u001b[0;34m(status, cosmo)\u001b[0m\n\u001b[1;32m     24\u001b[0m     \u001b[0;31m# Check for known error status\u001b[0m\u001b[0;34m\u001b[0m\u001b[0;34m\u001b[0m\u001b[0m\n\u001b[1;32m     25\u001b[0m     \u001b[0;32mif\u001b[0m \u001b[0mstatus\u001b[0m \u001b[0;32min\u001b[0m \u001b[0mpyccl\u001b[0m\u001b[0;34m.\u001b[0m\u001b[0mcore\u001b[0m\u001b[0;34m.\u001b[0m\u001b[0merror_types\u001b[0m\u001b[0;34m.\u001b[0m\u001b[0mkeys\u001b[0m\u001b[0;34m(\u001b[0m\u001b[0;34m)\u001b[0m\u001b[0;34m:\u001b[0m\u001b[0;34m\u001b[0m\u001b[0m\n\u001b[0;32m---> 26\u001b[0;31m         \u001b[0;32mraise\u001b[0m \u001b[0mRuntimeError\u001b[0m\u001b[0;34m(\u001b[0m\u001b[0;34m\"Error %s: %s\"\u001b[0m \u001b[0;34m%\u001b[0m \u001b[0;34m(\u001b[0m\u001b[0mpyccl\u001b[0m\u001b[0;34m.\u001b[0m\u001b[0mcore\u001b[0m\u001b[0;34m.\u001b[0m\u001b[0merror_types\u001b[0m\u001b[0;34m[\u001b[0m\u001b[0mstatus\u001b[0m\u001b[0;34m]\u001b[0m\u001b[0;34m,\u001b[0m \u001b[0mmsg\u001b[0m\u001b[0;34m)\u001b[0m\u001b[0;34m)\u001b[0m\u001b[0;34m\u001b[0m\u001b[0m\n\u001b[0m\u001b[1;32m     27\u001b[0m \u001b[0;34m\u001b[0m\u001b[0m\n\u001b[1;32m     28\u001b[0m     \u001b[0;31m# Check for unknown error\u001b[0m\u001b[0;34m\u001b[0m\u001b[0;34m\u001b[0m\u001b[0m\n",
      "\u001b[0;31mRuntimeError\u001b[0m: Error CCL_ERROR_CLASS: ccl_power.c: ccl_cosmology_compute_power_class(): Error running CLASS thermodynamics:thermodynamics_init(L:304) :error in thermodynamics_helium_from_bbn(ppr,pba,pth);\n=>thermodynamics_helium_from_bbn(L:1143) :could not open fA with name /usr/local/lib/python2.7/site-packages/pyccl-0.3.4-py2.7.egg/pyccl/bbn/sBBN_2017.dat and mode \"r\"\n"
     ]
    }
   ],
   "source": [
    "k = np.logspace(-4., 1., 100) # Wavenumber\n",
    "a = 1. # Scale factor\n",
    "\n",
    "# Calculate all these different P(k)\n",
    "pk_li = ccl.linear_matter_power(cosmo, k, a)\n",
    "pk_nl = ccl.nonlin_matter_power(cosmo, k, a)\n",
    "pk_hm = ccl.halomodel_matter_power(cosmo, k, a)\n",
    "pk_1h = ccl.onehalo_matter_power(cosmo, k, a)\n",
    "pk_2h = ccl.twohalo_matter_power(cosmo, k, a)"
   ]
  },
  {
   "cell_type": "markdown",
   "metadata": {},
   "source": [
    "...and make some plots:"
   ]
  },
  {
   "cell_type": "code",
   "execution_count": null,
   "metadata": {
    "scrolled": false
   },
   "outputs": [],
   "source": [
    "plt.plot(k, pk_li, 'b-',  label='Linear')\n",
    "plt.plot(k, pk_nl, 'r-',  label='Nonlinear')\n",
    "plt.plot(k, pk_hm, 'g-',  label='Halo model')\n",
    "plt.plot(k, pk_1h, 'g:',  label='One-halo term')\n",
    "plt.plot(k, pk_2h, 'g--', label='Two-halo term')\n",
    "plt.xscale('log')\n",
    "plt.yscale('log')\n",
    "plt.xlabel(r'$k$')\n",
    "plt.ylabel(r'$P(k)$')\n",
    "plt.ylim([1e1,1e5])\n",
    "plt.legend()\n",
    "plt.show()"
   ]
  },
  {
   "cell_type": "markdown",
   "metadata": {},
   "source": [
    "Above we make a plot of the power spectrum from linear theory, nonlinear theory\n",
    "(by default the HALOFIT fitting function in CCL) and the halo-model power spectrum.\n",
    "We also plot the contribution from the one- and two-halo terms for the halo model, the total is the sum.\n",
    "Visually we see that the halo model power looks quite similar to the model for the nonlinear power.\n",
    "However, we note that the halo-model power underpredicts the power around the transition between the one-\n",
    "and two-halo terms and also that there is a strange contribution from the one-halo term at extremely large scales."
   ]
  },
  {
   "cell_type": "code",
   "execution_count": null,
   "metadata": {
    "scrolled": true
   },
   "outputs": [],
   "source": [
    "plt.axhline(1.)\n",
    "plt.plot(k, pk_nl/pk_li, 'r-', label='Nonlinear')\n",
    "plt.plot(k, pk_hm/pk_li, 'g-', label='Halo model')\n",
    "plt.xscale('log')\n",
    "plt.ylim([0.7,1.3])\n",
    "plt.xlabel(r'$k$ / Mpc')\n",
    "plt.ylabel(r'$P(k)$ / $P_\\mathrm{lin}(k)$')\n",
    "plt.legend()\n",
    "plt.show()"
   ]
  },
  {
   "cell_type": "markdown",
   "metadata": {},
   "source": [
    "Above we plot the ratio of the nonlinear and halo-model power to linear theory.\n",
    "These curves diverge from the linear theory at the 10% level around k ~ 0.01h/Mpc.\n",
    "We also see the problem with the halo model at very large scales where the one-halo term unphysically becomes\n",
    "important for the power spectrum. This is a well-known problem with the fundamentals of the halo model\n",
    "(see Cooray & Sheth 2002) and if you can think of a clever way to solve this issue you should publish it."
   ]
  },
  {
   "cell_type": "code",
   "execution_count": null,
   "metadata": {},
   "outputs": [],
   "source": [
    "plt.axhline(1.)\n",
    "plt.plot(k, pk_hm/pk_nl, 'g-', label='Halo model')\n",
    "plt.plot(k, pk_li/pk_nl, 'b-', label='Linear')\n",
    "plt.xscale('log')\n",
    "plt.ylim([0.7,1.3])\n",
    "plt.xlabel(r'$k$ / Mpc')\n",
    "plt.ylabel(r'$P(k)$ / $P_\\mathrm{nl}(k)$')\n",
    "plt.legend()\n",
    "plt.show()"
   ]
  },
  {
   "cell_type": "markdown",
   "metadata": {},
   "source": [
    "Above we plot the ratio of the halo-model and linear power compared to the nonlinear fitting function.\n",
    "The fitting function matches accurate measurements from simulations at the ~5% level but we see that the\n",
    "halo-model deviates from the fitting function by more than this amount. A particular problem is the lack of\n",
    "power in the transition region between the one- and two-halo terms, which is around k = 0.3h/Mpc in this plot.\n",
    "\n",
    "We should not be surprised by this result, however. Many approximations go into the simple halo-model calculation\n",
    "used here and the mismatch between the halo model and nonlinear theory is a result of these simplifications.\n",
    "Still, the halo-model is useful approxmiate description of the power spectrum, so don't be too sad."
   ]
  }
 ],
 "metadata": {
  "kernelspec": {
   "display_name": "Python 2",
   "language": "python",
   "name": "python2"
  },
  "language_info": {
   "codemirror_mode": {
    "name": "ipython",
    "version": 2
   },
   "file_extension": ".py",
   "mimetype": "text/x-python",
   "name": "python",
   "nbconvert_exporter": "python",
   "pygments_lexer": "ipython2",
   "version": "2.7.15"
  }
 },
 "nbformat": 4,
 "nbformat_minor": 2
}
