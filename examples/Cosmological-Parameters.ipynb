{
 "cells": [
  {
   "cell_type": "code",
   "execution_count": 1,
   "metadata": {},
   "outputs": [],
   "source": [
    "from pyccl import Parameters, Cosmology"
   ]
  },
  {
   "cell_type": "markdown",
   "metadata": {},
   "source": [
    "# Parameter objects\n",
    "\n",
    "Parameter objects hold a set of cosmological parameters.  \n",
    "\n",
    "The minimal set of required parameters is shown below though sigma8 can be swapped out for A_s.\n",
    "\n",
    "A range of optional parameters can be used to specify further parameters, that otherwise take default values, like the equation of state w, which defaults to -1.  The docstring for the Parameters objects lists them all."
   ]
  },
  {
   "cell_type": "code",
   "execution_count": 2,
   "metadata": {},
   "outputs": [
    {
     "name": "stdout",
     "output_type": "stream",
     "text": [
      "A set of cosmological parameters.\n",
      "\n",
      "    .. note:: Although some arguments default to `None`, they will raise a ValueError inside this function if not specified, so they are not optional.\n",
      "\n",
      "    Args:\n",
      "        Omega_c (float): Cold dark matter density fraction.\n",
      "        Omega_b (float): Baryonic matter density fraction.\n",
      "        h (float): Hubble constant divided by 100 km/s/Mpc; unitless.\n",
      "        A_s (float): Power spectrum normalization. Optional if sigma8 \n",
      "            is specified.\n",
      "        n_s (float): Primordial scalar perturbation spectral index.\n",
      "        Omega_k (float, optional): Curvature density fraction. Defaults to 0.\n",
      "        N_nu_rel (float, optional): Number of massless neutrinos present. \n",
      "            Defaults to 3.046.\n",
      "        N_nu_mass (float, optional): Number of massive neutrinos present. \n",
      "            Defaults to 0.\n",
      "        m_nu (float, optional): total mass in eV of the massive neutrinos \n",
      "            present (current must be equal mass). Defaults to 0.\n",
      "        w0 (float, optional): First order term of dark energy equation of \n",
      "            state. Defaults to -1.\n",
      "        wa (float, optional): Second order term of dark energy equation of \n",
      "            state. Defaults to 0.\n",
      "        log10Mc (float, optional): One of the parameters of the BCM model.\n",
      "            etab (float, optional): One of the parameters of the BCM model.\n",
      "        ks (float, optional): One of the parameters of the BCM model.\n",
      "        sigma8 (float): Variance of matter density perturbations at 8 Mpc/h \n",
      "            scale. Optional if A_s is specified.\n",
      "        df_mg (array_like): Perturbations to the GR growth rate as \n",
      "            a function of redshift :math:`\\Delta f`. \n",
      "            Used to implement simple modified growth scenarios.\n",
      "        z_mg (array_like): Array of redshifts corresponding to df_mg.\n",
      "\n",
      "    \n"
     ]
    }
   ],
   "source": [
    "params = Parameters(Omega_c=0.25, Omega_b=0.05, sigma8=0.8, h=0.7, n_s=0.96)\n",
    "print(params.__doc__)"
   ]
  },
  {
   "cell_type": "markdown",
   "metadata": {},
   "source": [
    "# Serialization\n",
    "\n",
    "Parameters objects can be saved to a simple yaml format using the write_yaml method.\n",
    "This format is not currently robust at all - the exact order of the parameters must be maintained or\n",
    "the object cannot be read back in.\n"
   ]
  },
  {
   "cell_type": "code",
   "execution_count": 3,
   "metadata": {},
   "outputs": [
    {
     "name": "stdout",
     "output_type": "stream",
     "text": [
      "Omega_c: 2.500000e-01\r\n",
      "Omega_b: 5.000000e-02\r\n",
      "Omega_m: 3.000000e-01\r\n",
      "Omega_k: 0.000000e+00\r\n",
      "k_sign: 0\r\n",
      "w0: -1.000000e+00\r\n",
      "wa: 0.000000e+00\r\n",
      "H0: 7.000000e+01\r\n",
      "h: 7.000000e-01\r\n",
      "Neff: 3.046000e+00\r\n",
      "N_nu_mass: 0\r\n",
      "N_nu_rel: 3.046000e+00\r\n",
      "sum_nu_masses: 0.000000e+00\r\n",
      "Omega_n_mass: 0.000000e+00\r\n",
      "Omega_n_rel: 3.488600e-05\r\n",
      "A_s: nan\r\n",
      "n_s: 9.600000e-01\r\n",
      "Omega_g: 5.043013e-05\r\n",
      "T_CMB: 2.725000e+00\r\n",
      "bcm_log10Mc: 1.407918e+01\r\n",
      "bcm_etab: 5.000000e-01\r\n",
      "bcm_ks: 5.500000e+01\r\n",
      "sigma8: 8.000000e-01\r\n",
      "Omega_l: 6.999147e-01\r\n",
      "z_star: nan\r\n",
      "has_mgrowth: 0\r\n",
      "nz_mgrowth: 0\r\n"
     ]
    }
   ],
   "source": [
    "params.write_yaml('params.yaml')\n",
    "!cat params.yaml"
   ]
  },
  {
   "cell_type": "markdown",
   "metadata": {},
   "source": [
    "#Deserialization\n",
    "\n",
    "The parameters can be read back in using the read_yaml *class method*.  Class methods\n",
    "are attached to the class Parameters itself, rather than to any specific instance of the class.\n",
    "That means you don't need to create a parameters object first to use it:"
   ]
  },
  {
   "cell_type": "code",
   "execution_count": 4,
   "metadata": {},
   "outputs": [],
   "source": [
    "params2 = Parameters.read_yaml(\"params.yaml\")"
   ]
  },
  {
   "cell_type": "code",
   "execution_count": 5,
   "metadata": {},
   "outputs": [
    {
     "name": "stdout",
     "output_type": "stream",
     "text": [
      "Parameters\n",
      "----------\n",
      "        Omega_c: 0.25\n",
      "        Omega_b: 0.05\n",
      "        Omega_m: 0.3\n",
      "        Omega_k: 0.0\n",
      "        Omega_l: 0.699914683872379\n",
      "             w0: -1.0\n",
      "             wa: 0.0\n",
      "             H0: 70.0\n",
      "              h: 0.7\n",
      "            A_s: nan\n",
      "            n_s: 0.96\n",
      "    bcm_log10Mc: 14.07918\n",
      "       bcm_etab: 0.5\n",
      "         bcm_ks: 55.0\n",
      "           Neff: 3.046\n",
      "            mnu: <Swig Object of type 'double *' at 0x10c850210>\n",
      "   Omega_n_mass: 0.0\n",
      "    Omega_n_rel: 3.488599609072218e-05\n",
      "          T_CMB: 2.725\n",
      "        Omega_g: 5.043013153026124e-05\n",
      "         z_star: nan\n",
      "    has_mgrowth: False\n"
     ]
    }
   ],
   "source": [
    "print(params2)"
   ]
  },
  {
   "cell_type": "markdown",
   "metadata": {},
   "source": [
    "# Usage\n",
    "\n",
    "The main use of Parameters objects is to create an instance of a Cosmology object:"
   ]
  },
  {
   "cell_type": "code",
   "execution_count": 6,
   "metadata": {},
   "outputs": [],
   "source": [
    "cosmo = Cosmology(params)"
   ]
  },
  {
   "cell_type": "code",
   "execution_count": 7,
   "metadata": {},
   "outputs": [
    {
     "name": "stdout",
     "output_type": "stream",
     "text": [
      "Parameters\n",
      "----------\n",
      "        Omega_c: 0.25\n",
      "        Omega_b: 0.05\n",
      "        Omega_m: 0.3\n",
      "        Omega_k: 0.0\n",
      "        Omega_l: 0.699914683872379\n",
      "             w0: -1.0\n",
      "             wa: 0.0\n",
      "             H0: 70.0\n",
      "              h: 0.7\n",
      "            A_s: nan\n",
      "            n_s: 0.96\n",
      "    bcm_log10Mc: 14.079181246047625\n",
      "       bcm_etab: 0.5\n",
      "         bcm_ks: 55.0\n",
      "           Neff: 3.046\n",
      "            mnu: <Swig Object of type 'double *' at 0x10c850030>\n",
      "   Omega_n_mass: 0.0\n",
      "    Omega_n_rel: 3.488599609072218e-05\n",
      "          T_CMB: 2.725\n",
      "        Omega_g: 5.043013153026124e-05\n",
      "         z_star: nan\n",
      "    has_mgrowth: False\n",
      "\n",
      "Precomputed data\n",
      "----------------\n",
      "  has_distances: False\n",
      "     has_growth: False\n",
      "      has_power: False\n",
      "      has_sigma: False\n",
      "\n",
      "Status\n",
      "------\n",
      "status(0): \n"
     ]
    }
   ],
   "source": [
    "print(cosmo)"
   ]
  }
 ],
 "metadata": {
  "kernelspec": {
   "display_name": "Python 3",
   "language": "python",
   "name": "python3"
  },
  "language_info": {
   "codemirror_mode": {
    "name": "ipython",
    "version": 3
   },
   "file_extension": ".py",
   "mimetype": "text/x-python",
   "name": "python",
   "nbconvert_exporter": "python",
   "pygments_lexer": "ipython3",
   "version": "3.6.5"
  }
 },
 "nbformat": 4,
 "nbformat_minor": 2
}
